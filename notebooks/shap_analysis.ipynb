{
 "cells": [
  {
   "cell_type": "markdown",
   "metadata": {},
   "source": [
    "# SHAP Analysis for energy models\n",
    "- Plot SHAP plots for understanding energy prediction models."
   ]
  },
  {
   "cell_type": "code",
   "execution_count": 2,
   "metadata": {},
   "outputs": [],
   "source": [
    "import json\n",
    "import pandas as pd \n",
    "import numpy as np\n",
    "import os \n",
    "import shap\n",
    "import matplotlib.pyplot as plt\n",
    "import warnings\n",
    "warnings.filterwarnings(\"ignore\")"
   ]
  },
  {
   "cell_type": "code",
   "execution_count": 6,
   "metadata": {},
   "outputs": [],
   "source": [
    "# get column names\n",
    "\n",
    "with open(\"../src/configs/osda_v1_phys.json\", \"r\") as f:\n",
    "    o_X_cols = json.load(f).keys()\n",
    "with open(\"../src/configs/zeolite_v1_phys_short.json\", \"r\") as f:\n",
    "    z_X_cols = json.load(f).keys()\n",
    "Xcols = list(o_X_cols) + list(z_X_cols)\n",
    "\n",
    "Xcol_dict = {\n",
    "    'mol_weight': \"Molecular weight ($\\AA$)\",\n",
    "    'mol_volume': \"Molecular volume ($\\AA^3$)\",\n",
    "    'asphericity': \"Asphericity\",\n",
    "    'eccentricity': \"Eccentricity\",\n",
    "    'inertial_shape_factor': \"Inertial shape factor\",\n",
    "    'spherocity_index': \"Spherocity index\",\n",
    "    'gyration_radius': \"Gyration radius ($\\AA$)\",\n",
    "    'pmi1': \"Principal moment of inertia 1\",\n",
    "    'pmi2': \"Principal moment of inertia 2\",\n",
    "    'pmi3': \"Principal moment of inertia 3\",\n",
    "    'npr1': \"Normalized principal moment of inertia 1\",\n",
    "    'npr2': \"Normalized principal moment of inertia 2\",\n",
    "    'free_sasa': \"Free solvent-accessible surface area ($\\AA^2$)\",\n",
    "    'bertz_ct': \"Bertz CT\",\n",
    "    'num_rot_bonds': \"Number of rotatable bonds\",\n",
    "    'num_bonds': \"Number of bonds\",\n",
    "    'formal_charge': \"Formal charge\",\n",
    "    'a': \"Lattice vector a ($\\AA$)\",\n",
    "    'b': \"Lattice vector b ($\\AA$)\",\n",
    "    'c': \"Lattice vector c ($\\AA$)\",\n",
    "    'alpha': \"Lattice angle alpha\",\n",
    "    'beta': \"Lattice angle beta\",\n",
    "    'gamma': \"Lattice angle gamma\",\n",
    "    'num_atoms_per_vol': \"Number of atoms per volume ($\\AA^{-3}$)\",\n",
    "    'num_atoms': \"Number of framework atoms\",\n",
    "    'volume': \"Framework volume ($\\AA^3$)\",\n",
    "    'largest_free_sphere': \"$D_{LFS}$ ($\\AA$)\",\n",
    "    'largest_free_sphere_a': \"$D_{LFS}$ along a ($\\AA$)\",\n",
    "    'largest_free_sphere_b': \"$D_{LFS}$ along b ($\\AA$)\",\n",
    "    'largest_free_sphere_c': \"$D_{LFS}$ along c ($\\AA$)\",\n",
    "    'largest_included_sphere': \"$D_{LIS}$ ($\\AA$)\",\n",
    "    'largest_included_sphere_a': \"$D_{LIS}$ along a ($\\AA$)\",\n",
    "    'largest_included_sphere_b': \"$D_{LIS}$ along b ($\\AA$)\",\n",
    "    'largest_included_sphere_c': \"$D_{LIS}$ along c ($\\AA$)\",\n",
    "    'largest_included_sphere_fsp': \"$D_{LIS}$ along free sphere path ($\\AA$)\",\n",
    "}\n",
    "\n",
    "Xcols_pretty = [Xcol_dict[col] for col in Xcols]"
   ]
  },
  {
   "cell_type": "code",
   "execution_count": 7,
   "metadata": {},
   "outputs": [],
   "source": [
    "# load prior files \n",
    "\n",
    "oprior_file = \"../../data/datasets/training_data/osda_priors_0.pkl\"\n",
    "zprior_file = \"../../data/datasets/training_data/zeolite_priors_0.pkl\"\n",
    "\n",
    "opriors = pd.read_pickle(oprior_file)\n",
    "zpriors = pd.read_pickle(zprior_file)"
   ]
  },
  {
   "cell_type": "code",
   "execution_count": 8,
   "metadata": {},
   "outputs": [],
   "source": [
    "# load splits \n",
    "\n",
    "split_dir = \"../../data/datasets/training_data/splits/1/\"\n",
    "smiles_test = np.load(f\"{split_dir}/smiles_test.npy\")"
   ]
  },
  {
   "cell_type": "code",
   "execution_count": 12,
   "metadata": {},
   "outputs": [],
   "source": [
    "op_dir = '../../data/publication/shap/split_1/'\n",
    "os.makedirs(op_dir, exist_ok=True)"
   ]
  },
  {
   "cell_type": "code",
   "execution_count": 15,
   "metadata": {},
   "outputs": [],
   "source": [
    "# plot and save beeswarm plots \n",
    "\n",
    "fws = [\"LTA\", \"UFI\", \"RHO\", \"KFI\"]\n",
    "beeswarm_fig_op_dir = \"../../data/publication/shap/split_1_beeswarm/\"\n",
    "os.makedirs(beeswarm_fig_op_dir, exist_ok=True)\n",
    "\n",
    "for fw in fws:\n",
    "    file = f\"{op_dir}/deep_shap_values_{fw}.csv\"\n",
    "    shap_vals = pd.read_csv(file, index_col=[0,1])\n",
    "\n",
    "    # get features \n",
    "\n",
    "    o_features = opriors.loc[shap_vals.index.get_level_values('SMILES')].reset_index().rename(columns={'index': 'SMILES'})\n",
    "    z_features = zpriors.loc[shap_vals.index.get_level_values('Zeolite')].reset_index().rename(columns={'index': 'Zeolite'})\n",
    "    features = pd.concat([o_features, z_features], axis=1)\n",
    "    features = features.set_index(['SMILES', 'Zeolite'])\n",
    "    features = features[list(o_X_cols) + list(z_X_cols)]\n",
    "\n",
    "    # get shap explainer\n",
    "    explanation = shap.Explanation(\n",
    "        shap_vals.values,               # shap values \n",
    "        feature_names=Xcols_pretty,     # feature names\n",
    "        data=features                   # features\n",
    "        )\n",
    "\n",
    "    # plot \n",
    "\n",
    "    shap.plots.beeswarm(\n",
    "        explanation,\n",
    "        max_display=7,\n",
    "        show=False,\n",
    "        color='viridis_r',\n",
    "        # cb_aspect=20,\n",
    "    )\n",
    "    plt.xlim(-1.5, 2.5)\n",
    "    plt.annotate(fw, xy=(0.82, 0.2), xycoords='figure fraction', fontsize=15, weight='bold');\n",
    "    plt.savefig(os.path.join(beeswarm_fig_op_dir, f\"{fw}_beeswarm.png\"), dpi=300, bbox_inches='tight')\n",
    "    plt.close()"
   ]
  },
  {
   "cell_type": "code",
   "execution_count": null,
   "metadata": {},
   "outputs": [],
   "source": []
  }
 ],
 "metadata": {
  "kernelspec": {
   "display_name": "ntk",
   "language": "python",
   "name": "python3"
  },
  "language_info": {
   "codemirror_mode": {
    "name": "ipython",
    "version": 3
   },
   "file_extension": ".py",
   "mimetype": "text/x-python",
   "name": "python",
   "nbconvert_exporter": "python",
   "pygments_lexer": "ipython3",
   "version": "3.8.12"
  }
 },
 "nbformat": 4,
 "nbformat_minor": 2
}
