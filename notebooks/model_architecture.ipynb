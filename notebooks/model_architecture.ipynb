{
 "cells": [
  {
   "cell_type": "markdown",
   "metadata": {},
   "source": [
    "# Comparing tree-based and deep learning methods\n",
    "- Compare performance of XGBoost and MLP models."
   ]
  },
  {
   "cell_type": "code",
   "execution_count": 1,
   "metadata": {},
   "outputs": [],
   "source": [
    "import os\n",
    "import pandas as pd \n",
    "import glob\n",
    "import numpy as np\n",
    "from sklearn.preprocessing import StandardScaler\n",
    "from sklearn.metrics import mean_squared_error, f1_score\n",
    "from xgboost import XGBRegressor, XGBClassifier\n",
    "import json \n",
    "import matplotlib.pyplot as plt\n",
    "from cmcrameri import cm as cmap_cm\n",
    "from math import ceil\n",
    "import sys \n",
    "sys.path.append(\"../..\")\n",
    "from zeobind.src.utils.utils import setup_mpl\n",
    "setup_mpl()\n",
    "import warnings\n",
    "warnings.filterwarnings(\"ignore\")"
   ]
  },
  {
   "cell_type": "markdown",
   "metadata": {},
   "source": [
    "# Utility functions"
   ]
  },
  {
   "cell_type": "code",
   "execution_count": 2,
   "metadata": {},
   "outputs": [],
   "source": [
    "cm = 1/2.54  # centimeters in inches\n",
    "\n",
    "def save_mpl_fig(fig, basename, ending='.pdf', dpi=300):\n",
    "    fig.savefig(basename + ending, bbox_inches='tight', dpi=dpi)\n",
    "\n",
    "def format_axs(\n",
    "    axs,\n",
    "    xtick_size,\n",
    "    ytick_size,\n",
    "    spines_width,\n",
    "    xlabel,\n",
    "    ylabel,\n",
    "    xlabel_size,\n",
    "    ylabel_size,\n",
    "    limits=None,\n",
    "    tick_width=2, \n",
    "    tick_size=6, \n",
    "    bold_axs=False,\n",
    "    xticks=None,\n",
    "    yticks=None,\n",
    "):\n",
    "    \n",
    "    # Set tick labels\n",
    "    if xticks is not None:\n",
    "        axs.set_xticks(xticks)\n",
    "    if yticks is not None:\n",
    "        axs.set_yticks(yticks)\n",
    "\n",
    "    axs.tick_params(axis=\"x\", which=\"major\", labelsize=xtick_size)\n",
    "    axs.tick_params(axis=\"y\", which=\"major\", labelsize=ytick_size)\n",
    "    axs.xaxis.set_tick_params(width=tick_width, size=tick_size)\n",
    "    axs.yaxis.set_tick_params(width=tick_width, size=tick_size)\n",
    "\n",
    "    # axs.tick_params(axis='both', which='minor=\"something\", labelsize=8)\n",
    "    for axis in [\"top\", \"bottom\", \"left\", \"right\"]:\n",
    "        axs.spines[axis].set_linewidth(spines_width)\n",
    "\n",
    "    axs.set_xlabel(xlabel, fontsize=xlabel_size)\n",
    "    axs.set_ylabel(ylabel, fontsize=ylabel_size)\n",
    "    \n",
    "    if not limits:\n",
    "        return axs\n",
    "    if \"x\" in limits.keys():\n",
    "        axs.set_xlim(limits[\"x\"])\n",
    "    if \"y\" in limits.keys():\n",
    "        axs.set_ylim(limits[\"y\"])\n",
    "    \n",
    "    return axs\n",
    "\n",
    "def get_cb(fig, sc, axs, label, ticks=None, linewidth=2, tickwidth=2, labelsize=18, labelpad=20):\n",
    "    '''Get colorbar'''\n",
    "    cb = fig.colorbar(sc, ax=axs)\n",
    "    cb.set_label(label, fontsize=labelsize)\n",
    "    cb.outline.set_linewidth(linewidth)\n",
    "    if ticks is not None:\n",
    "        cb.set_ticks(ticks)\n",
    "    cb.ax.tick_params(width=tickwidth)\n",
    "    cb.ax.tick_params(labelsize=labelsize)\n",
    "    # pad\n",
    "    cb.ax.xaxis.labelpad = labelpad\n",
    "    return cb\n",
    "\n",
    "def get_legend(\n",
    "    fig,\n",
    "    bbox_to_anchor=(0.5, 1.1),\n",
    "    fontsize=15,\n",
    "    loc=\"upper center\",\n",
    "    ncol=2,\n",
    "    axs=None,\n",
    "    format_handles=False,\n",
    "    legend_colors=None,\n",
    "    linewidth=2,\n",
    "    edgecolor=\"k\",\n",
    "    put_where=\"fig\",\n",
    "):\n",
    "    '''Get legend.'''\n",
    "    positions = {\"fig\": fig, \"axs\": axs}\n",
    "    legend = positions[put_where].legend(\n",
    "        fontsize=fontsize,\n",
    "        loc=loc,\n",
    "        bbox_to_anchor=bbox_to_anchor,\n",
    "        ncol=ncol,\n",
    "        frameon=False,\n",
    "    )\n",
    "\n",
    "    if format_handles:\n",
    "        for idx, handle in enumerate(legend.legendHandles):\n",
    "            handle.set_color(legend_colors[idx])\n",
    "            handle.set_linewidth(linewidth)\n",
    "            handle.set_edgecolor(edgecolor)\n",
    "\n",
    "    return legend\n",
    "    \n",
    "def get_color_values(num_colors, c=\"viridis\"):\n",
    "    '''Get a list of color values from a colormap'''\n",
    "    cmap = plt.cm.get_cmap(c)\n",
    "    color_values = [cmap(i) for i in np.linspace(0, 1, num_colors)]\n",
    "    return color_values\n",
    "\n",
    "def draw_parity(axs, xlimits, ylimits, lw=1):\n",
    "    '''Draw a parity line on a plot'''\n",
    "    limits = [min(xlimits[0], ylimits[0]), max(xlimits[1], ylimits[1])]\n",
    "    axs.plot(limits, limits, \"k--\", lw=lw)\n",
    "    return axs\n",
    "\n",
    "def get_gridsize(limits, hex_length):\n",
    "    \"\"\"Given the length of the x and y axis, as well as length of the hexagon, return the appropriate gridsize input.\"\"\"\n",
    "    ny = ceil( (limits['y'][1] - limits['y'][0]) / hex_length)\n",
    "    nx = ceil(np.sqrt(3) * ny)\n",
    "    return (nx, ny)"
   ]
  },
  {
   "cell_type": "markdown",
   "metadata": {},
   "source": [
    "# Set up \n",
    "- The validation set used for assessment throughout this notebook contains both binding (B) and non-binding (NB) pairs."
   ]
  },
  {
   "cell_type": "code",
   "execution_count": 3,
   "metadata": {},
   "outputs": [
    {
     "data": {
      "text/plain": [
       "['energy', 'binary']"
      ]
     },
     "execution_count": 3,
     "metadata": {},
     "output_type": "execute_result"
    }
   ],
   "source": [
    "op_dir = \"../../data/runs/xgb\"\n",
    "os.listdir(op_dir) "
   ]
  },
  {
   "cell_type": "code",
   "execution_count": 4,
   "metadata": {},
   "outputs": [],
   "source": [
    "data_dir = \"../../data/\""
   ]
  },
  {
   "cell_type": "code",
   "execution_count": 5,
   "metadata": {},
   "outputs": [],
   "source": [
    "# common \n",
    "\n",
    "# get feature column names\n",
    "with open(\"../src/configs/osda_v1_phys.json\", \"r\") as f:\n",
    "    o_X_cols = json.load(f).keys()\n",
    "with open(\"../src/configs/zeolite_v1_phys_short.json\", \"r\") as f:\n",
    "    z_X_cols = json.load(f).keys()\n",
    "\n",
    "# read prior files to make X. Also for sampling background dataset with\n",
    "opriors = pd.read_pickle(f\"{data_dir}/datasets/training_data/osda_priors_0.pkl\")\n",
    "zpriors = pd.read_pickle(f\"{data_dir}/datasets/training_data/zeolite_priors_0.pkl\")\n",
    "\n",
    "# split into train, val and test \n",
    "split_dir = f\"{data_dir}/datasets/training_data/splits/1/\"\n",
    "smiles_train = np.load(f\"{split_dir}/smiles_train.npy\")\n",
    "smiles_val = np.load(f\"{split_dir}/smiles_val.npy\")\n",
    "smiles_test = np.load(f\"{split_dir}/smiles_test.npy\")\n",
    "\n",
    "# read truth to get index to make X\n",
    "truth = pd.read_csv(f\"{data_dir}/datasets/training_data/training_data.csv\")\n",
    "true_labels = truth[truth['SMILES'].isin(smiles_val)]\n",
    "true_labels = true_labels.set_index(['SMILES', 'Zeolite'])\n",
    "\n",
    "# make X\n",
    "o = opriors.loc[truth['SMILES'].values][o_X_cols]\n",
    "z = zpriors.loc[truth['Zeolite'].values][z_X_cols]\n",
    "\n",
    "o = o.reset_index().rename(columns={'index': 'SMILES'})\n",
    "z = z.reset_index().rename(columns={'index': 'Zeolite'})\n",
    "\n",
    "X = pd.concat([o, z], axis=1)\n",
    "X = X.set_index(['SMILES', 'Zeolite'])"
   ]
  },
  {
   "cell_type": "markdown",
   "metadata": {},
   "source": [
    "# XGB models"
   ]
  },
  {
   "cell_type": "markdown",
   "metadata": {},
   "source": [
    "## XGB E model\n",
    "- All 20 hyperparameter tuning runs' models were saved. We load each of them and compute the validation set loss, and pick the one that gives us the lowest validation score."
   ]
  },
  {
   "cell_type": "code",
   "execution_count": 7,
   "metadata": {},
   "outputs": [],
   "source": [
    "# prepare input files and labels\n",
    "\n",
    "e_run_dir = f\"{op_dir}/energy/tune/\"\n",
    "\n",
    "# get X scaler\n",
    "\n",
    "e_input_scaler = StandardScaler()\n",
    "with open(f\"{e_run_dir}/input_scaling.json\", \"r\") as f:\n",
    "    op_scaling_dict = json.load(f) \n",
    "e_input_scaler.mean_ = op_scaling_dict['mean']\n",
    "e_input_scaler.var_ = op_scaling_dict['var']\n",
    "e_input_scaler.scale_ = np.sqrt(e_input_scaler.var_)\n",
    "\n",
    "X_scaled = e_input_scaler.transform(X)\n",
    "X_scaled = pd.DataFrame(X_scaled, index=X.index, columns=X.columns)\n",
    "\n",
    "X_train_scaled = X_scaled[X_scaled.index.get_level_values('SMILES').isin(smiles_train)]\n",
    "X_val_scaled = X_scaled[X_scaled.index.get_level_values('SMILES').isin(smiles_val)]\n",
    "X_test_scaled = X_scaled[X_scaled.index.get_level_values('SMILES').isin(smiles_test)]\n",
    "\n",
    "# load output scaler for energy\n",
    "\n",
    "output_scaler = StandardScaler()\n",
    "with open(f\"{e_run_dir}/truth_scaling.json\", \"r\") as f:\n",
    "    op_scaling_dict = json.load(f) \n",
    "output_scaler.mean_ = op_scaling_dict['mean']\n",
    "output_scaler.var_ = op_scaling_dict['var']\n",
    "output_scaler.scale_ = np.sqrt(output_scaler.var_)"
   ]
  },
  {
   "cell_type": "code",
   "execution_count": 8,
   "metadata": {},
   "outputs": [
    {
     "data": {
      "text/html": [
       "<div>\n",
       "<style scoped>\n",
       "    .dataframe tbody tr th:only-of-type {\n",
       "        vertical-align: middle;\n",
       "    }\n",
       "\n",
       "    .dataframe tbody tr th {\n",
       "        vertical-align: top;\n",
       "    }\n",
       "\n",
       "    .dataframe thead th {\n",
       "        text-align: right;\n",
       "    }\n",
       "</style>\n",
       "<table border=\"1\" class=\"dataframe\">\n",
       "  <thead>\n",
       "    <tr style=\"text-align: right;\">\n",
       "      <th></th>\n",
       "      <th>0</th>\n",
       "      <th>1</th>\n",
       "      <th>2</th>\n",
       "      <th>3</th>\n",
       "      <th>4</th>\n",
       "      <th>5</th>\n",
       "      <th>6</th>\n",
       "      <th>7</th>\n",
       "      <th>8</th>\n",
       "      <th>9</th>\n",
       "      <th>10</th>\n",
       "      <th>11</th>\n",
       "      <th>12</th>\n",
       "      <th>13</th>\n",
       "      <th>14</th>\n",
       "      <th>15</th>\n",
       "      <th>16</th>\n",
       "      <th>17</th>\n",
       "      <th>18</th>\n",
       "      <th>19</th>\n",
       "    </tr>\n",
       "  </thead>\n",
       "  <tbody>\n",
       "    <tr>\n",
       "      <th>hp_run</th>\n",
       "      <td>0.000000</td>\n",
       "      <td>1.000000</td>\n",
       "      <td>2.000000</td>\n",
       "      <td>3.000000</td>\n",
       "      <td>4.000000</td>\n",
       "      <td>5.00000</td>\n",
       "      <td>6.000000</td>\n",
       "      <td>7.000000</td>\n",
       "      <td>8.000000</td>\n",
       "      <td>9.000000</td>\n",
       "      <td>10.000000</td>\n",
       "      <td>11.000000</td>\n",
       "      <td>12.000000</td>\n",
       "      <td>13.000000</td>\n",
       "      <td>14.000000</td>\n",
       "      <td>15.000000</td>\n",
       "      <td>16.000000</td>\n",
       "      <td>17.000000</td>\n",
       "      <td>18.000000</td>\n",
       "      <td>19.000000</td>\n",
       "    </tr>\n",
       "    <tr>\n",
       "      <th>rmse</th>\n",
       "      <td>2.191541</td>\n",
       "      <td>1.395425</td>\n",
       "      <td>2.909817</td>\n",
       "      <td>2.022243</td>\n",
       "      <td>2.661183</td>\n",
       "      <td>3.45463</td>\n",
       "      <td>5.827897</td>\n",
       "      <td>2.129048</td>\n",
       "      <td>1.858812</td>\n",
       "      <td>2.808462</td>\n",
       "      <td>2.768361</td>\n",
       "      <td>1.621019</td>\n",
       "      <td>1.913272</td>\n",
       "      <td>2.866471</td>\n",
       "      <td>2.058862</td>\n",
       "      <td>2.441853</td>\n",
       "      <td>3.281134</td>\n",
       "      <td>2.237593</td>\n",
       "      <td>2.505711</td>\n",
       "      <td>3.098504</td>\n",
       "    </tr>\n",
       "  </tbody>\n",
       "</table>\n",
       "</div>"
      ],
      "text/plain": [
       "              0         1         2         3         4        5         6   \\\n",
       "hp_run  0.000000  1.000000  2.000000  3.000000  4.000000  5.00000  6.000000   \n",
       "rmse    2.191541  1.395425  2.909817  2.022243  2.661183  3.45463  5.827897   \n",
       "\n",
       "              7         8         9          10         11         12  \\\n",
       "hp_run  7.000000  8.000000  9.000000  10.000000  11.000000  12.000000   \n",
       "rmse    2.129048  1.858812  2.808462   2.768361   1.621019   1.913272   \n",
       "\n",
       "               13         14         15         16         17         18  \\\n",
       "hp_run  13.000000  14.000000  15.000000  16.000000  17.000000  18.000000   \n",
       "rmse     2.866471   2.058862   2.441853   3.281134   2.237593   2.505711   \n",
       "\n",
       "               19  \n",
       "hp_run  19.000000  \n",
       "rmse     3.098504  "
      ]
     },
     "execution_count": 8,
     "metadata": {},
     "output_type": "execute_result"
    }
   ],
   "source": [
    "# compute metrics for each hp_run model\n",
    "\n",
    "rmses = dict()\n",
    "\n",
    "for hp_run in range(20):\n",
    "    # load model\n",
    "\n",
    "    model = XGBRegressor()\n",
    "    f = f\"{e_run_dir}/hp_tune_run_{hp_run}/model.json\"\n",
    "    model.load_model(f)\n",
    "\n",
    "    # make and format predictions\n",
    "\n",
    "    val_preds = model.predict(X_val_scaled)\n",
    "    val_preds_rescaled = output_scaler.inverse_transform(val_preds.reshape(-1, 1))\n",
    "    val_preds_rescaled = pd.DataFrame(val_preds_rescaled, index=X_val_scaled.index)\n",
    "\n",
    "    # calculate\n",
    "\n",
    "    batch_size = 256 \n",
    "    batches = val_preds_rescaled.shape[0] // batch_size\n",
    "    rmse_ls = []\n",
    "    for i in range(batches):\n",
    "        t = true_labels.iloc[i * batch_size : (i+1) * batch_size]['Binding (SiO2)']\n",
    "        p = val_preds_rescaled.loc[t.index]\n",
    "        rmse = np.sqrt(mean_squared_error(t, p))\n",
    "        rmse_ls.append(rmse)\n",
    "    rmses[hp_run] = np.mean(rmse_ls)\n",
    "\n",
    "rmses = pd.DataFrame(rmses.items(), columns=['hp_run', 'rmse'])\n",
    "rmses.T"
   ]
  },
  {
   "cell_type": "code",
   "execution_count": null,
   "metadata": {},
   "outputs": [
    {
     "name": "stdout",
     "output_type": "stream",
     "text": [
      "1 1.3954247287583903\n"
     ]
    }
   ],
   "source": [
    "# Find the E model that gives the best RMSE\n",
    "\n",
    "r_e = rmses.set_index('hp_run').rmse.argmin()\n",
    "print(r_e, rmses[rmses['hp_run'] == r_e]['rmse'].values[0])"
   ]
  },
  {
   "cell_type": "markdown",
   "metadata": {},
   "source": [
    "## XGB b model\n",
    "- All 20 hyperparameter tuning runs' models were saved. We load each of them and compute the validation set loss, and pick the one that gives us the lowest validation score.\n",
    "- Note that class 0 is `b=1` (binding) and class 1 is `b=0` (non-binding)"
   ]
  },
  {
   "cell_type": "code",
   "execution_count": 10,
   "metadata": {},
   "outputs": [],
   "source": [
    "# prepare input files and labels\n",
    "\n",
    "b_run_dir = f\"{op_dir}/binary/tune/\"\n",
    "\n",
    "# get X scaler\n",
    "\n",
    "b_input_scaler = StandardScaler()\n",
    "with open(f\"{b_run_dir}/input_scaling.json\", \"r\") as f:\n",
    "    op_scaling_dict = json.load(f) \n",
    "b_input_scaler.mean_ = op_scaling_dict['mean']\n",
    "b_input_scaler.var_ = op_scaling_dict['var']\n",
    "b_input_scaler.scale_ = np.sqrt(b_input_scaler.var_)\n",
    "\n",
    "X_scaled = b_input_scaler.transform(X)\n",
    "X_scaled = pd.DataFrame(X_scaled, index=X.index, columns=X.columns)\n",
    "\n",
    "X_train_scaled = X_scaled[X_scaled.index.get_level_values('SMILES').isin(smiles_train)]\n",
    "X_val_scaled = X_scaled[X_scaled.index.get_level_values('SMILES').isin(smiles_val)]\n",
    "X_test_scaled = X_scaled[X_scaled.index.get_level_values('SMILES').isin(smiles_test)]"
   ]
  },
  {
   "cell_type": "code",
   "execution_count": 11,
   "metadata": {},
   "outputs": [
    {
     "data": {
      "text/html": [
       "<div>\n",
       "<style scoped>\n",
       "    .dataframe tbody tr th:only-of-type {\n",
       "        vertical-align: middle;\n",
       "    }\n",
       "\n",
       "    .dataframe tbody tr th {\n",
       "        vertical-align: top;\n",
       "    }\n",
       "\n",
       "    .dataframe thead th {\n",
       "        text-align: right;\n",
       "    }\n",
       "</style>\n",
       "<table border=\"1\" class=\"dataframe\">\n",
       "  <thead>\n",
       "    <tr style=\"text-align: right;\">\n",
       "      <th></th>\n",
       "      <th>0</th>\n",
       "      <th>1</th>\n",
       "      <th>2</th>\n",
       "      <th>3</th>\n",
       "      <th>4</th>\n",
       "      <th>5</th>\n",
       "      <th>6</th>\n",
       "      <th>7</th>\n",
       "      <th>8</th>\n",
       "      <th>9</th>\n",
       "      <th>10</th>\n",
       "      <th>11</th>\n",
       "      <th>12</th>\n",
       "      <th>13</th>\n",
       "      <th>14</th>\n",
       "      <th>15</th>\n",
       "      <th>16</th>\n",
       "      <th>17</th>\n",
       "      <th>18</th>\n",
       "      <th>19</th>\n",
       "    </tr>\n",
       "  </thead>\n",
       "  <tbody>\n",
       "    <tr>\n",
       "      <th>hp_run</th>\n",
       "      <td>0.000000</td>\n",
       "      <td>1.000000</td>\n",
       "      <td>2.000000</td>\n",
       "      <td>3.000000</td>\n",
       "      <td>4.000000</td>\n",
       "      <td>5.000000</td>\n",
       "      <td>6.000000</td>\n",
       "      <td>7.000000</td>\n",
       "      <td>8.000000</td>\n",
       "      <td>9.000000</td>\n",
       "      <td>10.000000</td>\n",
       "      <td>11.000000</td>\n",
       "      <td>12.000000</td>\n",
       "      <td>13.000000</td>\n",
       "      <td>14.000000</td>\n",
       "      <td>15.000000</td>\n",
       "      <td>16.000000</td>\n",
       "      <td>17.000000</td>\n",
       "      <td>18.000000</td>\n",
       "      <td>19.000000</td>\n",
       "    </tr>\n",
       "    <tr>\n",
       "      <th>f1</th>\n",
       "      <td>0.915847</td>\n",
       "      <td>0.966611</td>\n",
       "      <td>0.969321</td>\n",
       "      <td>0.963486</td>\n",
       "      <td>0.969377</td>\n",
       "      <td>0.936619</td>\n",
       "      <td>0.968161</td>\n",
       "      <td>0.967319</td>\n",
       "      <td>0.967299</td>\n",
       "      <td>0.966223</td>\n",
       "      <td>0.956245</td>\n",
       "      <td>0.967361</td>\n",
       "      <td>0.966794</td>\n",
       "      <td>0.962389</td>\n",
       "      <td>0.966026</td>\n",
       "      <td>0.968998</td>\n",
       "      <td>0.967171</td>\n",
       "      <td>0.966345</td>\n",
       "      <td>0.967894</td>\n",
       "      <td>0.967661</td>\n",
       "    </tr>\n",
       "  </tbody>\n",
       "</table>\n",
       "</div>"
      ],
      "text/plain": [
       "              0         1         2         3         4         5         6   \\\n",
       "hp_run  0.000000  1.000000  2.000000  3.000000  4.000000  5.000000  6.000000   \n",
       "f1      0.915847  0.966611  0.969321  0.963486  0.969377  0.936619  0.968161   \n",
       "\n",
       "              7         8         9          10         11         12  \\\n",
       "hp_run  7.000000  8.000000  9.000000  10.000000  11.000000  12.000000   \n",
       "f1      0.967319  0.967299  0.966223   0.956245   0.967361   0.966794   \n",
       "\n",
       "               13         14         15         16         17         18  \\\n",
       "hp_run  13.000000  14.000000  15.000000  16.000000  17.000000  18.000000   \n",
       "f1       0.962389   0.966026   0.968998   0.967171   0.966345   0.967894   \n",
       "\n",
       "               19  \n",
       "hp_run  19.000000  \n",
       "f1       0.967661  "
      ]
     },
     "execution_count": 11,
     "metadata": {},
     "output_type": "execute_result"
    }
   ],
   "source": [
    "# compute metrics for each hp_run model\n",
    "\n",
    "binary_metrics = dict()\n",
    "\n",
    "for hp_run in range(20):\n",
    "    # load model\n",
    "\n",
    "    model = XGBClassifier()\n",
    "    f = f\"{b_run_dir}/hp_tune_run_{hp_run}/model.json\"\n",
    "    model.load_model(f)\n",
    "\n",
    "    # make and format predictions\n",
    "\n",
    "    val_preds = model.predict(X_val_scaled)\n",
    "    val_preds = pd.DataFrame(val_preds, index=X_val_scaled.index)\n",
    "\n",
    "    # calculate\n",
    "\n",
    "    batch_size = 256 \n",
    "    batches = val_preds.shape[0] // batch_size\n",
    "    metrics_ls = []\n",
    "    for i in range(batches):\n",
    "        t = true_labels.iloc[i * batch_size : (i+1) * batch_size][\"b\"]\n",
    "        p = val_preds.loc[t.index][0] # TODO: check 0 or 1 - it is 0\n",
    "        f1 = f1_score(t, p)\n",
    "        metrics_ls.append(f1)\n",
    "    binary_metrics[hp_run] = np.mean(metrics_ls)\n",
    "\n",
    "binary_metrics = pd.DataFrame(binary_metrics.items(), columns=['hp_run', 'f1'])\n",
    "binary_metrics.T"
   ]
  },
  {
   "cell_type": "code",
   "execution_count": null,
   "metadata": {},
   "outputs": [
    {
     "name": "stdout",
     "output_type": "stream",
     "text": [
      "4 0.9693769254992518\n"
     ]
    }
   ],
   "source": [
    "# find the best b model that gives the highest F1 score\n",
    "\n",
    "r_b = binary_metrics.set_index('hp_run').f1.argmax()\n",
    "print(r_b, binary_metrics[binary_metrics['hp_run'] == r_b]['f1'].values[0])"
   ]
  },
  {
   "cell_type": "markdown",
   "metadata": {},
   "source": [
    "## XGB BE \n",
    "- Pick the best model each from binary classification and energy regression tasks, and combine their predictions with `b*E`\n",
    "- Note that binary and energy scalers are different because the former was scaled on B+NB training set, and the latter was scaled on B-only training set"
   ]
  },
  {
   "cell_type": "code",
   "execution_count": 13,
   "metadata": {},
   "outputs": [
    {
     "name": "stdout",
     "output_type": "stream",
     "text": [
      "Best binary hp run: 4, energy hp run: 1\n"
     ]
    }
   ],
   "source": [
    "print(f\"Best binary hp run: {r_b}, energy hp run: {r_e}\")\n",
    "\n",
    "# load models\n",
    "\n",
    "b_model = XGBClassifier()\n",
    "f = f\"{b_run_dir}/hp_tune_run_{r_b}/model.json\"\n",
    "b_model.load_model(f)\n",
    "\n",
    "e_model = XGBRegressor()\n",
    "f = f\"{e_run_dir}/hp_tune_run_{r_e}/model.json\"\n",
    "e_model.load_model(f)\n",
    "\n",
    "# make and format predictions\n",
    "\n",
    "b_X_scaled = b_input_scaler.transform(X)\n",
    "b_X_scaled = pd.DataFrame(b_X_scaled, index=X.index, columns=X.columns)\n",
    "b_X_val_scaled = b_X_scaled[b_X_scaled.index.get_level_values('SMILES').isin(smiles_val)]\n",
    "b_val_preds = b_model.predict(b_X_val_scaled)\n",
    "b_val_preds = pd.DataFrame(b_val_preds, index=b_X_val_scaled.index)\n",
    "\n",
    "e_X_scaled = e_input_scaler.transform(X)\n",
    "e_X_scaled = pd.DataFrame(e_X_scaled, index=X.index, columns=X.columns)\n",
    "e_X_val_scaled = e_X_scaled[e_X_scaled.index.get_level_values('SMILES').isin(smiles_val)]\n",
    "e_X_val_scaled = pd.DataFrame(e_X_val_scaled, index=e_X_val_scaled.index, columns=e_X_val_scaled.columns)\n",
    "e_val_preds = e_model.predict(e_X_val_scaled)\n",
    "\n",
    "e_val_preds_rescaled = output_scaler.inverse_transform(e_val_preds.reshape(-1, 1))\n",
    "e_val_preds_rescaled = pd.DataFrame(e_val_preds_rescaled, index=e_X_val_scaled.index)\n",
    "\n",
    "# combine binary and energy into BE \n",
    "\n",
    "val_preds = pd.concat([b_val_preds, e_val_preds_rescaled], axis=1)\n",
    "val_preds.columns = [\"nb\", \"b\", \"E\"]\n",
    "val_preds[\"BE\"] = val_preds[\"nb\"] * val_preds[\"E\"]"
   ]
  },
  {
   "cell_type": "code",
   "execution_count": 14,
   "metadata": {},
   "outputs": [
    {
     "name": "stdout",
     "output_type": "stream",
     "text": [
      "BE RMSE on validation set: 1.0878835659673376\n"
     ]
    }
   ],
   "source": [
    "# RMSE for BE\n",
    "\n",
    "rmse_ls = [] \n",
    "batch_size = 256 \n",
    "batches = val_preds.shape[0] // batch_size\n",
    "rmse_ls = []\n",
    "\n",
    "for i in range(batches):\n",
    "    t = true_labels.iloc[i * batch_size : (i+1) * batch_size][\"Binding (SiO2)\"]\n",
    "    p = val_preds.loc[t.index][\"BE\"]\n",
    "    rmse = np.sqrt(mean_squared_error(t, p))\n",
    "    rmse_ls.append(rmse)\n",
    "\n",
    "rmse = np.mean(rmse_ls)\n",
    "print(f\"BE RMSE on validation set: {rmse}\")"
   ]
  },
  {
   "cell_type": "markdown",
   "metadata": {},
   "source": [
    "## Parity plots"
   ]
  },
  {
   "cell_type": "code",
   "execution_count": 17,
   "metadata": {},
   "outputs": [
    {
     "data": {
      "image/png": "[encoded data removed]",
      "text/plain": [
       "<Figure size 432x288 with 2 Axes>"
      ]
     },
     "metadata": {
      "needs_background": "light"
     },
     "output_type": "display_data"
    }
   ],
   "source": [
    "# parity for BE\n",
    "\n",
    "figsize = np.array((13, 10)) * cm\n",
    "limits = dict(x=(-25, 2), y=(-25, 2))\n",
    "xticks = range(-25, 6, 5)\n",
    "yticks = range(-25, 6, 5)\n",
    "vmin = 1\n",
    "vmax = 100\n",
    "\n",
    "fig, axs = plt.subplots()\n",
    "\n",
    "x = true_labels[\"Binding (SiO2)\"]\n",
    "y = val_preds.loc[x.index]['BE']\n",
    "data_limits = dict(x=(min(x), max(x)), y=(min(y), max(y)))\n",
    "gridsize = get_gridsize(data_limits, 1)\n",
    "kwargs = dict(mincnt=1, cmap=cmap_cm.lipari.reversed(), vmin=vmin, vmax=vmax, gridsize=gridsize)\n",
    "\n",
    "sc = axs.hexbin(x, y, **kwargs)\n",
    "axs = format_axs(axs, 15, 15, 1, \"True BE (kJ/ mol Si)\", \"$\\mu_{BE}$ (kJ/ mol Si)\", 15, 15, limits=limits, xticks=xticks, yticks=yticks)\n",
    "cb = get_cb(fig, sc, axs, \"Count\", ticks=range(0, 101, 20), linewidth=1, tickwidth=1, labelsize=15, labelpad=5)\n",
    "axs = draw_parity(axs, limits['x'], limits['y']);"
   ]
  },
  {
   "cell_type": "code",
   "execution_count": 18,
   "metadata": {},
   "outputs": [
    {
     "data": {
      "image/png": "[encoded data removed]",
      "text/plain": [
       "<Figure size 432x288 with 2 Axes>"
      ]
     },
     "metadata": {
      "needs_background": "light"
     },
     "output_type": "display_data"
    }
   ],
   "source": [
    "# Parity for E \n",
    "\n",
    "figsize = np.array((13, 10)) * cm\n",
    "limits = dict(x=(-25, 5), y=(-25, 5))\n",
    "xticks = range(-25, 6, 5)\n",
    "yticks = range(-25, 6, 5)\n",
    "vmin = 1\n",
    "vmax = 100\n",
    "\n",
    "fig, axs = plt.subplots()\n",
    "\n",
    "x = true_labels[\"Binding (SiO2)\"]\n",
    "y = val_preds.loc[x.index]['E']\n",
    "data_limits = dict(x=(min(x), max(x)), y=(min(y), max(y)))\n",
    "gridsize = get_gridsize(data_limits, 1)\n",
    "kwargs = dict(mincnt=1, cmap=cmap_cm.lipari.reversed(), vmin=vmin, vmax=vmax, gridsize=gridsize)\n",
    "\n",
    "sc = axs.hexbin(x, y, **kwargs)\n",
    "axs = format_axs(axs, 15, 15, 1, \"True BE (kJ/ mol Si)\", \"$\\mu_{BE}$ (kJ/ mol Si)\", 15, 15, limits=limits, xticks=xticks, yticks=yticks)\n",
    "cb = get_cb(fig, sc, axs, \"Count\", ticks=range(0, 101, 20), linewidth=1, tickwidth=1, labelsize=15, labelpad=5)\n",
    "axs = draw_parity(axs, limits['x'], limits['y']);"
   ]
  },
  {
   "cell_type": "code",
   "execution_count": null,
   "metadata": {},
   "outputs": [],
   "source": []
  },
  {
   "cell_type": "markdown",
   "metadata": {},
   "source": [
    "# MLP models\n",
    "- Only the best model was saved. Formatting the data and loading the model uses a lot of code, so we use the `predict.sh` script and read the predictions instead\n",
    "- We use the model from the ensemble that was trained on the same train/val/test split as the xgboost models (split 1)"
   ]
  },
  {
   "cell_type": "code",
   "execution_count": 19,
   "metadata": {},
   "outputs": [],
   "source": [
    "# read predictions \n",
    "mlp_pred_dir = \"../../data/predictions/training_data/\"\n",
    "\n",
    "mlp_e_preds = pd.read_csv(f\"{mlp_pred_dir}/energy/osda_priors_0_zeolite_priors_0_preds.csv\", index_col=0)\n",
    "mlp_b_preds = pd.read_csv(f\"{mlp_pred_dir}/binary_likelihood//osda_priors_0_zeolite_priors_0_preds.csv\", index_col=0)"
   ]
  },
  {
   "cell_type": "code",
   "execution_count": 20,
   "metadata": {},
   "outputs": [],
   "source": [
    "# keep the columns with the same splits as the xgboost models\n",
    "mlp_e_preds = mlp_e_preds[[\"SMILES\", \"Zeolite\", \"Binding (SiO2) (0)\"]]\n",
    "mlp_b_preds = mlp_b_preds[[\"SMILES\", \"Zeolite\", \"b (0)\", \"nb (0)\"]]\n",
    "\n",
    "# extract the validation set \n",
    "mlp_e_preds_val = mlp_e_preds[mlp_e_preds['SMILES'].isin(smiles_val)]\n",
    "mlp_e_preds_val = mlp_e_preds_val.set_index(['SMILES', 'Zeolite'])\n",
    "\n",
    "mlp_b_preds_val = mlp_b_preds[mlp_b_preds['SMILES'].isin(smiles_val)]\n",
    "mlp_b_preds_val = mlp_b_preds.set_index(['SMILES', 'Zeolite'])\n",
    "\n",
    "# combine into one df and format\n",
    "\n",
    "mlp_preds_val = pd.concat([mlp_e_preds_val, mlp_b_preds_val], axis=1)\n",
    "mlp_preds_val[\"binding\"] = mlp_preds_val[[\"b (0)\", \"nb (0)\"]].T.idxmax().values\n",
    "mlp_preds_val[\"binding\"] = mlp_preds_val[\"binding\"].apply(lambda x: 1 if x == \"b (0)\" else 0)\n",
    "mlp_preds_val[\"BE\"] = mlp_preds_val[\"binding\"] * mlp_preds_val[\"Binding (SiO2) (0)\"]"
   ]
  },
  {
   "cell_type": "markdown",
   "metadata": {},
   "source": [
    "## MLP E model"
   ]
  },
  {
   "cell_type": "code",
   "execution_count": 21,
   "metadata": {},
   "outputs": [
    {
     "name": "stdout",
     "output_type": "stream",
     "text": [
      "MLP E RMSE: 1.2285461520642946\n"
     ]
    }
   ],
   "source": [
    "# E RMSE \n",
    "\n",
    "batch_size = 256 \n",
    "batches = true_labels.shape[0] // batch_size\n",
    "rmse_ls = []\n",
    "for i in range(batches):\n",
    "    t = true_labels.iloc[i * batch_size : (i+1) * batch_size][\"Binding (SiO2)\"]\n",
    "    p = mlp_preds_val.loc[t.index][\"Binding (SiO2) (0)\"]\n",
    "    rmse = np.sqrt(mean_squared_error(t, p))\n",
    "    rmse_ls.append(rmse)\n",
    "\n",
    "print(f\"MLP E RMSE: {np.mean(rmse_ls)}\")"
   ]
  },
  {
   "cell_type": "markdown",
   "metadata": {},
   "source": [
    "## MLP b model"
   ]
  },
  {
   "cell_type": "code",
   "execution_count": 22,
   "metadata": {},
   "outputs": [
    {
     "name": "stdout",
     "output_type": "stream",
     "text": [
      "MLP b F1 score: 0.9710859894302091\n"
     ]
    }
   ],
   "source": [
    "# b F1 score \n",
    "\n",
    "batch_size = 256 \n",
    "batches = true_labels.shape[0] // batch_size\n",
    "metrics_ls = []\n",
    "for i in range(batches):\n",
    "    t = true_labels.iloc[i * batch_size : (i+1) * batch_size][\"b\"]\n",
    "    p = mlp_preds_val.loc[t.index][\"binding\"]\n",
    "    rmse = f1_score (t, p)\n",
    "    metrics_ls.append(rmse)\n",
    "\n",
    "print(f\"MLP b F1 score: {np.mean(metrics_ls)}\")"
   ]
  },
  {
   "cell_type": "markdown",
   "metadata": {},
   "source": [
    "## MLP BE"
   ]
  },
  {
   "cell_type": "code",
   "execution_count": 23,
   "metadata": {},
   "outputs": [
    {
     "name": "stdout",
     "output_type": "stream",
     "text": [
      "MLP BE RMSE: 0.988891272254095\n"
     ]
    }
   ],
   "source": [
    "# BE RMSE\n",
    "\n",
    "batch_size = 256 \n",
    "batches = true_labels.shape[0] // batch_size\n",
    "rmse_ls = []\n",
    "for i in range(batches):\n",
    "    t = true_labels.iloc[i * batch_size : (i+1) * batch_size][\"Binding (SiO2)\"]\n",
    "    p = mlp_preds_val.loc[t.index][\"BE\"]\n",
    "    rmse = np.sqrt(mean_squared_error(t, p))\n",
    "    rmse_ls.append(rmse)\n",
    "\n",
    "print(f\"MLP BE RMSE: {np.mean(rmse_ls)}\")"
   ]
  },
  {
   "cell_type": "code",
   "execution_count": null,
   "metadata": {},
   "outputs": [],
   "source": []
  },
  {
   "cell_type": "markdown",
   "metadata": {},
   "source": [
    "## Parity plots"
   ]
  },
  {
   "cell_type": "code",
   "execution_count": 24,
   "metadata": {},
   "outputs": [
    {
     "data": {
      "image/png": "[encoded data removed]",
      "text/plain": [
       "<Figure size 432x288 with 2 Axes>"
      ]
     },
     "metadata": {
      "needs_background": "light"
     },
     "output_type": "display_data"
    }
   ],
   "source": [
    "# parity for BE\n",
    "\n",
    "figsize = np.array((13, 10)) * cm\n",
    "limits = dict(x=(-25, 2), y=(-25, 2))\n",
    "xticks = range(-25, 6, 5)\n",
    "yticks = range(-25, 6, 5)\n",
    "vmin = 1\n",
    "vmax = 100\n",
    "\n",
    "fig, axs = plt.subplots()\n",
    "\n",
    "x = true_labels[\"Binding (SiO2)\"]\n",
    "y = mlp_preds_val.loc[x.index]['BE']\n",
    "data_limits = dict(x=(min(x), max(x)), y=(min(y), max(y)))\n",
    "gridsize = get_gridsize(data_limits, 1)\n",
    "kwargs = dict(mincnt=1, cmap=cmap_cm.lipari.reversed(), vmin=vmin, vmax=vmax, gridsize=gridsize)\n",
    "\n",
    "sc = axs.hexbin(x, y, **kwargs)\n",
    "axs = format_axs(axs, 15, 15, 1, \"True BE (kJ/ mol Si)\", \"$\\mu_{BE}$ (kJ/ mol Si)\", 15, 15, limits=limits, xticks=xticks, yticks=yticks)\n",
    "cb = get_cb(fig, sc, axs, \"Count\", ticks=range(0, 101, 20), linewidth=1, tickwidth=1, labelsize=15, labelpad=5)\n",
    "axs = draw_parity(axs, limits['x'], limits['y']);"
   ]
  },
  {
   "cell_type": "code",
   "execution_count": 25,
   "metadata": {},
   "outputs": [
    {
     "data": {
      "image/png": "[encoded data removed]",
      "text/plain": [
       "<Figure size 432x288 with 2 Axes>"
      ]
     },
     "metadata": {
      "needs_background": "light"
     },
     "output_type": "display_data"
    }
   ],
   "source": [
    "# Parity for E \n",
    "\n",
    "figsize = np.array((13, 10)) * cm\n",
    "limits = dict(x=(-25, 5), y=(-25, 5))\n",
    "xticks = range(-25, 6, 5)\n",
    "yticks = range(-25, 6, 5)\n",
    "vmin = 1\n",
    "vmax = 100\n",
    "\n",
    "fig, axs = plt.subplots()\n",
    "\n",
    "x = true_labels[\"Binding (SiO2)\"]\n",
    "y = mlp_preds_val.loc[x.index]['Binding (SiO2) (0)']\n",
    "data_limits = dict(x=(min(x), max(x)), y=(min(y), max(y)))\n",
    "gridsize = get_gridsize(data_limits, 1)\n",
    "kwargs = dict(mincnt=1, cmap=cmap_cm.lipari.reversed(), vmin=vmin, vmax=vmax, gridsize=gridsize)\n",
    "\n",
    "sc = axs.hexbin(x, y, **kwargs)\n",
    "axs = format_axs(axs, 15, 15, 1, \"True BE (kJ/ mol Si)\", \"$\\mu_{BE}$ (kJ/ mol Si)\", 15, 15, limits=limits, xticks=xticks, yticks=yticks)\n",
    "cb = get_cb(fig, sc, axs, \"Count\", ticks=range(0, 101, 20), linewidth=1, tickwidth=1, labelsize=15, labelpad=5)\n",
    "axs = draw_parity(axs, limits['x'], limits['y']);"
   ]
  },
  {
   "cell_type": "code",
   "execution_count": null,
   "metadata": {},
   "outputs": [],
   "source": []
  },
  {
   "cell_type": "markdown",
   "metadata": {},
   "source": [
    "# Performance on held out sets\n",
    "- Compare the performance of XGBoost and MLP models on held out sets of hypothetical monoquatenary and diquaternary molecules"
   ]
  },
  {
   "cell_type": "code",
   "execution_count": null,
   "metadata": {},
   "outputs": [],
   "source": [
    "# Read XGB predictions\n",
    "\n",
    "xgb_pred_dir = f\"{data_dir}/predictions/xgb/\"\n",
    "xgb_pred_heldout_dir = f\"{xgb_pred_dir}/heldout_hyp_mols/\"\n",
    "xgb_pred_train_dir = f\"{xgb_pred_dir}/training_data/\"\n",
    "\n",
    "# read predictions\n",
    "pred_file = \"osda_priors_0_zeolite_priors_0_preds.csv\"\n",
    "xgb_b_train_preds = pd.read_csv(f\"{xgb_pred_train_dir}/binary_classification/{pred_file}\", index_col=0)\n",
    "xgb_e_train_preds = pd.read_csv(f\"{xgb_pred_train_dir}/energy_regression/{pred_file}\", index_col=0)\n",
    "\n",
    "xgb_b_heldout_preds = pd.read_csv(f\"{xgb_pred_heldout_dir}/binary_classification/{pred_file}\", index_col=0)\n",
    "xgb_e_heldout_preds = pd.read_csv(f\"{xgb_pred_heldout_dir}/energy_regression/{pred_file}\", index_col=0)\n",
    "\n",
    "# combine into one DF \n",
    "xgb_train_preds = pd.concat([\n",
    "    xgb_b_train_preds.set_index([\"Zeolite\", \"SMILES\"]),\n",
    "    xgb_e_train_preds.set_index([\"Zeolite\", \"SMILES\"])\n",
    "], axis=1)\n",
    "\n",
    "xgb_heldout_preds = pd.concat([\n",
    "    xgb_b_heldout_preds.set_index([\"Zeolite\", \"SMILES\"]),\n",
    "    xgb_e_heldout_preds.set_index([\"Zeolite\", \"SMILES\"])\n",
    "], axis=1)\n",
    "\n",
    "xgb_preds = pd.concat([xgb_train_preds, xgb_heldout_preds])\n",
    "xgb_preds[\"BE\"] = xgb_preds[\"binding\"] * xgb_preds[\"Binding (SiO2)\"]"
   ]
  },
  {
   "cell_type": "code",
   "execution_count": null,
   "metadata": {},
   "outputs": [],
   "source": [
    "# Read MLP predictions \n",
    "\n",
    "mlp_pred_dir = f\"{data_dir}/predictions/\"\n",
    "mlp_pred_heldout_dir = f\"{mlp_pred_dir}/heldout_hyp_mols/formatted_be\"\n",
    "mlp_pred_train_dir = f\"{mlp_pred_dir}/training_data/formatted_be\"\n",
    "\n",
    "# read predictions\n",
    "mlp_be_train_preds = [pd.read_csv(f, index_col=0) for f in glob.glob(f\"{mlp_pred_train_dir}/*_mean_*.csv\")]\n",
    "mlp_be_heldout_preds = [pd.read_csv(f, index_col=0) for f in glob.glob(f\"{mlp_pred_heldout_dir}/*_mean_*.csv\")]\n",
    "\n",
    "# combine into one DF \n",
    "mlp_be_train_preds = pd.concat(mlp_be_train_preds)\n",
    "mlp_be_heldout_preds = pd.concat(mlp_be_heldout_preds)\n",
    "mlp_preds = pd.concat([mlp_be_train_preds, mlp_be_heldout_preds])\n",
    "\n",
    "# format to be consistent with XGB\n",
    "mlp_preds = mlp_preds.unstack()\n",
    "mlp_preds = mlp_preds.reset_index()\n",
    "mlp_preds.columns = [\"Zeolite\", \"SMILES\", \"BE\"]\n",
    "mlp_preds = mlp_preds.set_index([\"Zeolite\", \"SMILES\"])"
   ]
  },
  {
   "cell_type": "code",
   "execution_count": null,
   "metadata": {},
   "outputs": [],
   "source": [
    "all_preds = {\n",
    "    \"xgb\": xgb_preds,\n",
    "    \"mlp\": mlp_preds\n",
    "}"
   ]
  },
  {
   "cell_type": "code",
   "execution_count": null,
   "metadata": {},
   "outputs": [],
   "source": [
    "# read heldout dataset truth\n",
    "\n",
    "heldout_truth = pd.read_csv(f\"{data_dir}/datasets/heldout_hyp_mols/heldout_data.csv\", index_col=0)\n",
    "heldout_truth = heldout_truth.set_index([\"Zeolite\", \"SMILES\"])\n",
    "heldout_truth[\"charge\"] = heldout_truth.index.get_level_values(\"SMILES\").map(lambda x: x.count(\"+]\") - x.count(\"-]\"))"
   ]
  },
  {
   "cell_type": "code",
   "execution_count": null,
   "metadata": {},
   "outputs": [
    {
     "name": "stdout",
     "output_type": "stream",
     "text": [
      "xgb BE RMSE on heldout set with charge +1: 4.63601986288674\n",
      "xgb BE RMSE on heldout set with charge +2: 3.855824884583879\n",
      "mlp BE RMSE on heldout set with charge +1: 1.0470854167060257\n",
      "mlp BE RMSE on heldout set with charge +2: 1.6682088773724912\n"
     ]
    }
   ],
   "source": [
    "for model_type, preds in all_preds.items():\n",
    "    for charge in [1, 2]:\n",
    "        rmse_ls = [] \n",
    "        batch_size = 256 \n",
    "        batches = heldout_truth[heldout_truth.charge == charge].shape[0] // batch_size\n",
    "        rmse_ls = []\n",
    "\n",
    "        for i in range(batches):\n",
    "            t = heldout_truth[heldout_truth.charge == charge].iloc[i * batch_size : (i+1) * batch_size]['Binding (SiO2)']\n",
    "            p = preds.loc[t.index]['BE']\n",
    "            rmse = np.sqrt(mean_squared_error(t, p))\n",
    "            rmse_ls.append(rmse)\n",
    "\n",
    "        rmse = np.mean(rmse_ls)\n",
    "        print(f\"{model_type} BE RMSE on heldout set with charge +{charge}: {rmse}\")"
   ]
  },
  {
   "cell_type": "code",
   "execution_count": null,
   "metadata": {},
   "outputs": [],
   "source": []
  }
 ],
 "metadata": {
  "kernelspec": {
   "display_name": "zeobind",
   "language": "python",
   "name": "python3"
  },
  "language_info": {
   "codemirror_mode": {
    "name": "ipython",
    "version": 3
   },
   "file_extension": ".py",
   "mimetype": "text/x-python",
   "name": "python",
   "nbconvert_exporter": "python",
   "pygments_lexer": "ipython3",
   "version": "3.8.12"
  }
 },
 "nbformat": 4,
 "nbformat_minor": 2
}
