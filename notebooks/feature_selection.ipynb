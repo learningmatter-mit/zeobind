{
 "cells": [
  {
   "cell_type": "markdown",
   "metadata": {},
   "source": [
    "# Feature selection\n",
    "- Compare performance of different molecule and zeolite feature sets on a single model."
   ]
  },
  {
   "cell_type": "code",
   "execution_count": 1,
   "metadata": {},
   "outputs": [],
   "source": [
    "import pandas as pd \n",
    "import numpy as np\n",
    "import matplotlib.pyplot as plt\n",
    "from rdkit import Chem \n",
    "from rdkit.Chem import Draw\n",
    "from cmcrameri import cm as cmap_cm\n",
    "\n",
    "# remove warning messages \n",
    "import warnings\n",
    "warnings.filterwarnings(\"ignore\")"
   ]
  },
  {
   "cell_type": "markdown",
   "metadata": {},
   "source": [
    "# Plotting functions "
   ]
  },
  {
   "cell_type": "code",
   "execution_count": 2,
   "metadata": {},
   "outputs": [],
   "source": [
    "cm = 1/2.54  # centimeters in inches\n",
    "\n",
    "def show_mols(smis, legend=None, molsperrow=10, maxmols=50, subimgsize=(200, 200)):\n",
    "    '''Show molecules in a grid.'''\n",
    "    mols = [Chem.MolFromSmiles(smi) for smi in smis]\n",
    "    if not legend:\n",
    "        img = Draw.MolsToGridImage(\n",
    "            mols,\n",
    "            molsPerRow=molsperrow,\n",
    "            subImgSize=subimgsize,\n",
    "            maxMols=maxmols,\n",
    "        )\n",
    "    else:\n",
    "        img = Draw.MolsToGridImage(\n",
    "            mols,\n",
    "            molsPerRow=molsperrow,\n",
    "            subImgSize=subimgsize,\n",
    "            maxMols=maxmols,\n",
    "            legends=legend,\n",
    "        )\n",
    "    return img\n",
    "\n",
    "def save_mpl_fig(fig, basename, ending='.pdf', dpi=300):\n",
    "    fig.savefig(basename + ending, bbox_inches='tight', dpi=dpi)\n",
    "\n",
    "def format_axs(\n",
    "    axs,\n",
    "    xtick_size,\n",
    "    ytick_size,\n",
    "    spines_width,\n",
    "    xlabel,\n",
    "    ylabel,\n",
    "    xlabel_size,\n",
    "    ylabel_size,\n",
    "    limits=None,\n",
    "    tick_width=2, \n",
    "    tick_size=6, \n",
    "    bold_axs=False,\n",
    "    weight=None,\n",
    "    xticks=None,\n",
    "    yticks=None,\n",
    "):\n",
    "    \n",
    "    if bold_axs:\n",
    "        weight = 'bold'\n",
    "\n",
    "    # Set tick labels\n",
    "    if xticks is not None:\n",
    "        axs.set_xticks(xticks)\n",
    "    if yticks is not None:\n",
    "        print('boo')\n",
    "        print(yticks)\n",
    "        axs.set_yticks(yticks)\n",
    "\n",
    "    axs.tick_params(axis=\"x\", which=\"major\", labelsize=xtick_size)\n",
    "    axs.tick_params(axis=\"y\", which=\"major\", labelsize=ytick_size)\n",
    "    axs.xaxis.set_tick_params(width=tick_width, size=tick_size)\n",
    "    axs.yaxis.set_tick_params(width=tick_width, size=tick_size)\n",
    "\n",
    "    # Bold the tick labels\n",
    "    print(axs.get_yticklabels())\n",
    "    axs.set_xticklabels(axs.get_xticklabels(), fontweight=weight)\n",
    "    axs.set_yticklabels(axs.get_yticklabels(), fontweight=weight)\n",
    "    \n",
    "    # axs.tick_params(axis='both', which='minor=\"something\", labelsize=8)\n",
    "    for axis in [\"top\", \"bottom\", \"left\", \"right\"]:\n",
    "        axs.spines[axis].set_linewidth(spines_width)\n",
    "\n",
    "    axs.set_xlabel(xlabel, fontsize=xlabel_size, weight=weight)\n",
    "    axs.set_ylabel(ylabel, fontsize=ylabel_size, weight=weight)\n",
    "    \n",
    "    if not limits:\n",
    "        return axs\n",
    "    if \"x\" in limits.keys():\n",
    "        axs.set_xlim(limits[\"x\"])\n",
    "    if \"y\" in limits.keys():\n",
    "        axs.set_ylim(limits[\"y\"])\n",
    "    \n",
    "    return axs\n",
    "\n",
    "def get_cb(fig, sc, axs, label, ticks=None, linewidth=2, tickwidth=2, labelsize=18, labelpad=20):\n",
    "    '''Get colorbar'''\n",
    "    cb = fig.colorbar(sc, ax=axs)\n",
    "    cb.set_label(label, fontsize=labelsize)\n",
    "    cb.outline.set_linewidth(linewidth)\n",
    "    if ticks is not None:\n",
    "        cb.set_ticks(ticks)\n",
    "    cb.ax.tick_params(width=tickwidth)\n",
    "    cb.ax.tick_params(labelsize=labelsize)\n",
    "    # pad\n",
    "    cb.ax.xaxis.labelpad = labelpad\n",
    "    return cb\n",
    "\n",
    "def get_legend(\n",
    "    fig,\n",
    "    bbox_to_anchor=(0.5, 1.1),\n",
    "    fontsize=15,\n",
    "    loc=\"upper center\",\n",
    "    ncol=2,\n",
    "    axs=None,\n",
    "    format_handles=False,\n",
    "    legend_colors=None,\n",
    "    linewidth=2,\n",
    "    edgecolor=\"k\",\n",
    "    put_where=\"fig\",\n",
    "):\n",
    "    '''Get legend.'''\n",
    "    positions = {\"fig\": fig, \"axs\": axs}\n",
    "    legend = positions[put_where].legend(\n",
    "        fontsize=fontsize,\n",
    "        loc=loc,\n",
    "        bbox_to_anchor=bbox_to_anchor,\n",
    "        ncol=ncol,\n",
    "        frameon=False,\n",
    "    )\n",
    "\n",
    "    if format_handles:\n",
    "        for idx, handle in enumerate(legend.legendHandles):\n",
    "            handle.set_color(legend_colors[idx])\n",
    "            handle.set_linewidth(linewidth)\n",
    "            handle.set_edgecolor(edgecolor)\n",
    "\n",
    "    return legend\n",
    "    \n",
    "def get_color_values(num_colors, c=\"viridis\"):\n",
    "    '''Get a list of color values from a colormap'''\n",
    "    cmap = plt.cm.get_cmap(c)\n",
    "    color_values = [cmap(i) for i in np.linspace(0, 1, num_colors)]\n",
    "    return color_values\n",
    "\n",
    "def draw_parity(axs, xlimits, ylimits, lw=1):\n",
    "    '''Draw a parity line on a plot'''\n",
    "    limits = [min(xlimits[0], ylimits[0]), max(xlimits[1], ylimits[1])]\n",
    "    axs.plot(limits, limits, \"k--\", lw=lw)\n",
    "    return axs"
   ]
  },
  {
   "cell_type": "markdown",
   "metadata": {},
   "source": [
    "# Utility cells"
   ]
  },
  {
   "cell_type": "code",
   "execution_count": 3,
   "metadata": {},
   "outputs": [],
   "source": [
    "run_to_fs_mol = {    \n",
    "    2: 'Physical',\n",
    "    3: 'Morgan fps',\n",
    "    4: 'WHIM fps',\n",
    "    5: 'GETAWAY fps',\n",
    "    6: 'Axes',\n",
    "    7: 'Box',\n",
    "    8: '3D MORSE fps',\n",
    "    # 9: 'Morgan + physical',\n",
    "    }\n",
    "\n",
    "run_to_fs_fws = {\n",
    "    2: 'Physical',\n",
    "    9: 'Physical (extended)',\n",
    "    10: 'PSD',\n",
    "    11: 'PH',\n",
    "    12: 'OHE',\n",
    "    13: 'SOAP',\n",
    "    14: 'PSD moments',\n",
    "    15: 'Ray',\n",
    "    16: 'Ray moments',\n",
    "}\n",
    "\n",
    "mol_runs_in_desired_order = [2, 3, 8, 5, 4, 7, 6]\n",
    "# phys, Morgan, 3D MORSE, GETAWAY, WHIM, Box, Axes\n",
    "# physical, 2D, then abstract fps in decreasing length \n",
    "\n",
    "fw_runs_in_desired_order = [2, 9, 12, 10, 14, 15, 16, 13, 11]\n",
    "# phys, phys long, OHE, PSD, PSD mom, Ray, Ray mom, SOAP, PH\n",
    "# increasing abstractness"
   ]
  },
  {
   "cell_type": "markdown",
   "metadata": {},
   "source": [
    "# Read results file"
   ]
  },
  {
   "cell_type": "code",
   "execution_count": 5,
   "metadata": {},
   "outputs": [
    {
     "name": "stdout",
     "output_type": "stream",
     "text": [
      "Index(['task', 'run', 'fold', 'train_loss', 'val_loss', 'test_loss',\n",
      "       'train_loss_unscaled', 'val_loss_unscaled', 'test_loss_unscaled'],\n",
      "      dtype='object') (315, 9)\n"
     ]
    }
   ],
   "source": [
    "results = pd.read_csv(\"../../data/publication/results.csv\")\n",
    "print(results.columns, results.shape)"
   ]
  },
  {
   "cell_type": "markdown",
   "metadata": {},
   "source": [
    "# Plot"
   ]
  },
  {
   "cell_type": "markdown",
   "metadata": {},
   "source": [
    "## Molecular feature sets"
   ]
  },
  {
   "cell_type": "code",
   "execution_count": 8,
   "metadata": {},
   "outputs": [
    {
     "data": {
      "image/png": "[encoded data removed]",
      "text/plain": [
       "<Figure size 1512x360 with 3 Axes>"
      ]
     },
     "metadata": {
      "needs_background": "light"
     },
     "output_type": "display_data"
    }
   ],
   "source": [
    "def create_bar_chart(x, y, ax, bar_kwargs, tick_width=1, tick_size=20, label_size=20, spines_width=1, weight=None, limits=None, xticks=None):\n",
    "\n",
    "    ax.barh(x, y, **bar_kwargs)\n",
    "    ax.tick_params(axis=\"both\", which=\"major\", labelsize=tick_size, width=tick_width)\n",
    "    if xticks is None:\n",
    "        ax.set_xticklabels(ax.get_xticks(), fontsize=label_size, weight=weight)\n",
    "    else:\n",
    "        ax.set_xticklabels(xticks, fontsize=label_size, weight=weight)\n",
    "    ax.set_yticklabels(x, fontsize=label_size, weight=weight)\n",
    "    \n",
    "    for axis in [\"top\", \"bottom\", \"left\", \"right\"]:\n",
    "        ax.spines[axis].set_linewidth(spines_width)\n",
    "    \n",
    "    if limits:\n",
    "        if \"x\" in limits.keys():\n",
    "            ax.set_xlim(limits[\"x\"])\n",
    "        if \"y\" in limits.keys():\n",
    "            ax.set_ylim(limits[\"y\"])\n",
    "    \n",
    "    # add vertical dotted line to indicate the best model\n",
    "    lowest = min(y)\n",
    "    axs[idx].axvline(lowest, color='k', linestyle='--', alpha=0.7);\n",
    "\n",
    "    return ax\n",
    "\n",
    "# set x axis limits \n",
    "binary_limits = dict(x=[0.0, 0.2])\n",
    "energy_limits = dict(x=[0.0, 4.0])\n",
    "mclass_limits = dict(x=[0, 8])\n",
    "limits = [binary_limits, energy_limits, mclass_limits]\n",
    "\n",
    "fig, axs = plt.subplots(1, 3, figsize=(21, 5))\n",
    "\n",
    "for idx, task in enumerate(['binary', 'energy', 'mclass']):\n",
    "    # get data\n",
    "    dd = results[results.task == task] \n",
    "    dd = dd[dd.run.isin(run_to_fs_mol.keys())]\n",
    "    dd = dd.groupby('run').mean()\n",
    "    dd = dd.sort_index()\n",
    "\n",
    "    # set ordering of feature set\n",
    "    x = [run_to_fs_mol[i] for i in mol_runs_in_desired_order]\n",
    "    y = dd.loc[mol_runs_in_desired_order].val_loss_unscaled\n",
    "\n",
    "    # plot\n",
    "    colors = get_color_values(10, cmap_cm.lipari)\n",
    "    barkwargs = dict(color=colors[2], alpha=1.0, edgecolor='k')\n",
    "    xticks = [round(x,2) for x in np.linspace(\n",
    "        limits[idx]['x'][0], \n",
    "        limits[idx]['x'][1], \n",
    "        5\n",
    "        )]\n",
    "\n",
    "    axs[idx] = create_bar_chart(x, y, axs[idx], bar_kwargs=barkwargs, tick_width=1, tick_size=15, label_size=15, spines_width=1, limits=limits[idx], xticks=xticks)\n",
    "    \n",
    "    if idx != 0:\n",
    "        axs[idx].set_yticklabels([])\n",
    "        axs[idx].set_ylabel(\"\")\n",
    "    axs[idx].set_xlabel(\"\")\n",
    "\n",
    "# Add figure y axis and x axis\n",
    "fs = 25\n",
    "fig.text(0.5, -0.1, 'Validation loss', ha='center', fontsize=fs);\n",
    "fig.text(0.0, 0.5, 'Feature set', va='center', rotation='vertical', fontsize=fs);"
   ]
  },
  {
   "cell_type": "markdown",
   "metadata": {},
   "source": [
    "## Framework feature sets"
   ]
  },
  {
   "cell_type": "code",
   "execution_count": 9,
   "metadata": {},
   "outputs": [
    {
     "data": {
      "image/png": "[encoded data removed]",
      "text/plain": [
       "<Figure size 1512x360 with 3 Axes>"
      ]
     },
     "metadata": {
      "needs_background": "light"
     },
     "output_type": "display_data"
    }
   ],
   "source": [
    "fig, axs = plt.subplots(1, 3, figsize=(21, 5))\n",
    "\n",
    "for idx, task in enumerate(['binary', 'energy', 'mclass']):\n",
    "    # get data\n",
    "    dd = results[results.task == task] \n",
    "    dd = dd[dd.run.isin(run_to_fs_fws.keys())]\n",
    "    dd = dd.groupby('run').mean()\n",
    "    dd = dd.sort_index()\n",
    "\n",
    "    # set ordering of feature set\n",
    "    x = [run_to_fs_fws[i] for i in fw_runs_in_desired_order]\n",
    "    y = dd.loc[fw_runs_in_desired_order].val_loss_unscaled\n",
    "\n",
    "    # plot\n",
    "    colors = get_color_values(5, cmap_cm.lipari)\n",
    "    barkwargs = dict(color=colors[3], alpha=1.0, edgecolor='k')\n",
    "    xticks = [round(x,2) for x in np.linspace(\n",
    "        limits[idx]['x'][0], \n",
    "        limits[idx]['x'][1], \n",
    "        5\n",
    "        )]\n",
    "\n",
    "    axs[idx] = create_bar_chart(x, y, axs[idx], bar_kwargs=barkwargs, tick_width=1, tick_size=15, label_size=15, spines_width=1, limits=limits[idx], xticks=xticks)\n",
    "    \n",
    "    if idx != 0:\n",
    "        axs[idx].set_yticklabels([])\n",
    "        axs[idx].set_ylabel(\"\")\n",
    "    axs[idx].set_xlabel(\"\")\n",
    "\n",
    "# Add figure y axis and x axis\n",
    "fs = 25\n",
    "fig.text(0.5, -0.1, 'Validation loss', ha='center', fontsize=fs);\n",
    "fig.text(0.0, 0.5, 'Feature set', va='center', rotation='vertical', fontsize=fs);"
   ]
  },
  {
   "cell_type": "code",
   "execution_count": null,
   "metadata": {},
   "outputs": [],
   "source": []
  }
 ],
 "metadata": {
  "kernelspec": {
   "display_name": "zeobind",
   "language": "python",
   "name": "python3"
  },
  "language_info": {
   "codemirror_mode": {
    "name": "ipython",
    "version": 3
   },
   "file_extension": ".py",
   "mimetype": "text/x-python",
   "name": "python",
   "nbconvert_exporter": "python",
   "pygments_lexer": "ipython3",
   "version": "3.8.12"
  }
 },
 "nbformat": 4,
 "nbformat_minor": 2
}
