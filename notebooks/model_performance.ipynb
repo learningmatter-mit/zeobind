{
 "cells": [
  {
   "cell_type": "markdown",
   "metadata": {},
   "source": [
    "# Model performance\n",
    "\n",
    "- Compute all metrics and figures used to evaluate model performance in the paper.\n",
    "- Note that this notebook takes very long to run due to comparison of different ensembling methods.\n",
    "    - The computed metrics from `Format predictions` and `Performance metrics` section have been saved in `data/publication/model_performance`."
   ]
  },
  {
   "cell_type": "code",
   "execution_count": null,
   "metadata": {},
   "outputs": [],
   "source": [
    "import json\n",
    "import os\n",
    "from collections import Counter\n",
    "from copy import deepcopy\n",
    "import numpy as np\n",
    "import pandas as pd\n",
    "from math import ceil\n",
    "import matplotlib as mpl\n",
    "import matplotlib.pyplot as plt\n",
    "import matplotlib.font_manager as fm\n",
    "from rdkit import Chem\n",
    "from rdkit.Chem import Draw\n",
    "from scipy.stats import spearmanr, pearsonr\n",
    "from sklearn.decomposition import PCA\n",
    "from sklearn.preprocessing import StandardScaler\n",
    "from sklearn.metrics import (\n",
    "    confusion_matrix,\n",
    "    ConfusionMatrixDisplay,\n",
    "    f1_score,\n",
    "    accuracy_score,\n",
    "    precision_score,\n",
    "    mean_absolute_error, \n",
    "    mean_squared_error,\n",
    "    classification_report\n",
    ")\n",
    "import sys\n",
    "sys.path.append(\"../../\")\n",
    "from zeobind.src.utils.utils import setup_mpl\n",
    "setup_mpl()\n",
    "import warnings\n",
    "warnings.filterwarnings(\"ignore\")"
   ]
  },
  {
   "cell_type": "markdown",
   "metadata": {},
   "source": [
    "# Utility functions"
   ]
  },
  {
   "cell_type": "code",
   "execution_count": 2,
   "metadata": {},
   "outputs": [],
   "source": [
    "PAIR_COLS = ['Zeolite', 'SMILES']"
   ]
  },
  {
   "cell_type": "code",
   "execution_count": 3,
   "metadata": {},
   "outputs": [],
   "source": [
    "def get_competition(df):\n",
    "    \"\"\"Given a matrix of energies, compute the competition energy on a per-row basis.\"\"\"\n",
    "    competition_energy = df.apply(lambda row: row.nsmallest(2).max(), axis=1)\n",
    "    competition = df - competition_energy.values.reshape(-1, 1)\n",
    "    return competition"
   ]
  },
  {
   "cell_type": "code",
   "execution_count": 4,
   "metadata": {},
   "outputs": [],
   "source": [
    "cm = 1/2.54  # centimeters in inches\n",
    "\n",
    "def save_mpl_fig(fig, basename, ending='.pdf', dpi=300):\n",
    "    fig.savefig(basename + ending, bbox_inches='tight', dpi=dpi)\n",
    "\n",
    "def format_axs(\n",
    "    axs,\n",
    "    xtick_size,\n",
    "    ytick_size,\n",
    "    spines_width,\n",
    "    xlabel,\n",
    "    ylabel,\n",
    "    xlabel_size,\n",
    "    ylabel_size,\n",
    "    limits=None,\n",
    "    tick_width=2, \n",
    "    tick_size=6, \n",
    "    bold_axs=False,\n",
    "    xticks=None,\n",
    "    yticks=None,\n",
    "):\n",
    "    \n",
    "    if bold_axs:\n",
    "        weight = 'bold'\n",
    "\n",
    "    # Set tick labels\n",
    "    if xticks is not None:\n",
    "        axs.set_xticks(xticks)\n",
    "    if yticks is not None:\n",
    "        axs.set_yticks(yticks)\n",
    "\n",
    "    axs.tick_params(axis=\"x\", which=\"major\", labelsize=xtick_size)\n",
    "    axs.tick_params(axis=\"y\", which=\"major\", labelsize=ytick_size)\n",
    "    axs.xaxis.set_tick_params(width=tick_width, size=tick_size)\n",
    "    axs.yaxis.set_tick_params(width=tick_width, size=tick_size)\n",
    "\n",
    "    # axs.tick_params(axis='both', which='minor=\"something\", labelsize=8)\n",
    "    for axis in [\"top\", \"bottom\", \"left\", \"right\"]:\n",
    "        axs.spines[axis].set_linewidth(spines_width)\n",
    "\n",
    "    axs.set_xlabel(xlabel, fontsize=xlabel_size)\n",
    "    axs.set_ylabel(ylabel, fontsize=ylabel_size)\n",
    "    \n",
    "    if not limits:\n",
    "        return axs\n",
    "    if \"x\" in limits.keys():\n",
    "        axs.set_xlim(limits[\"x\"])\n",
    "    if \"y\" in limits.keys():\n",
    "        axs.set_ylim(limits[\"y\"])\n",
    "    \n",
    "    return axs\n",
    "\n",
    "def get_cb(fig, sc, axs, label, ticks=None, linewidth=2, tickwidth=2, labelsize=18, labelpad=20):\n",
    "    '''Get colorbar'''\n",
    "    cb = fig.colorbar(sc, ax=axs)\n",
    "    cb.set_label(label, fontsize=labelsize)\n",
    "    cb.outline.set_linewidth(linewidth)\n",
    "    if ticks is not None:\n",
    "        cb.set_ticks(ticks)\n",
    "    cb.ax.tick_params(width=tickwidth)\n",
    "    cb.ax.tick_params(labelsize=labelsize)\n",
    "    # pad\n",
    "    cb.ax.xaxis.labelpad = labelpad\n",
    "    return cb\n",
    "\n",
    "def get_legend(\n",
    "    fig,\n",
    "    bbox_to_anchor=(0.5, 1.1),\n",
    "    fontsize=15,\n",
    "    loc=\"upper center\",\n",
    "    ncol=2,\n",
    "    axs=None,\n",
    "    format_handles=False,\n",
    "    legend_colors=None,\n",
    "    linewidth=2,\n",
    "    edgecolor=\"k\",\n",
    "    put_where=\"fig\",\n",
    "):\n",
    "    '''Get legend.'''\n",
    "    positions = {\"fig\": fig, \"axs\": axs}\n",
    "    legend = positions[put_where].legend(\n",
    "        fontsize=fontsize,\n",
    "        loc=loc,\n",
    "        bbox_to_anchor=bbox_to_anchor,\n",
    "        ncol=ncol,\n",
    "        frameon=False,\n",
    "    )\n",
    "\n",
    "    if format_handles:\n",
    "        for idx, handle in enumerate(legend.legendHandles):\n",
    "            handle.set_color(legend_colors[idx])\n",
    "            handle.set_linewidth(linewidth)\n",
    "            handle.set_edgecolor(edgecolor)\n",
    "\n",
    "    return legend\n",
    "    \n",
    "def get_color_values(num_colors, c=\"viridis\"):\n",
    "    '''Get a list of color values from a colormap'''\n",
    "    cmap = plt.cm.get_cmap(c)\n",
    "    color_values = [cmap(i) for i in np.linspace(0, 1, num_colors)]\n",
    "    return color_values\n",
    "\n",
    "def draw_parity(axs, xlimits, ylimits, lw=1):\n",
    "    '''Draw a parity line on a plot'''\n",
    "    limits = [min(xlimits[0], ylimits[0]), max(xlimits[1], ylimits[1])]\n",
    "    axs.plot(limits, limits, \"k--\", lw=lw)\n",
    "    return axs\n",
    "\n",
    "def get_gridsize(limits, hex_length):\n",
    "    \"\"\"Given the length of the x and y axis, as well as length of the hexagon, return the appropriate gridsize input.\"\"\"\n",
    "    ny = ceil( (limits['y'][1] - limits['y'][0]) / hex_length)\n",
    "    nx = ceil(np.sqrt(3) * ny)\n",
    "    return (nx, ny)"
   ]
  },
  {
   "cell_type": "code",
   "execution_count": 5,
   "metadata": {},
   "outputs": [],
   "source": [
    "def filter_substructures(smiles_list, keep_match=False, smarts='[r3]'):\n",
    "    # Convert the SMARTS pattern to a RDKit molecule object\n",
    "    pattern = Chem.MolFromSmarts(smarts)\n",
    "\n",
    "    smis_noss = []\n",
    "    smis_ss = []\n",
    "    # Loop over the SMILES strings and check for 3-membered rings\n",
    "    for smiles in smiles_list:\n",
    "        mol = Chem.MolFromSmiles(smiles)\n",
    "        if mol.HasSubstructMatch(pattern):\n",
    "            smis_ss.append(smiles)\n",
    "        else:\n",
    "            smis_noss.append(smiles)\n",
    "    print(f'Number of molecules with and without 3-membered rings: {len(smis_ss), len(smis_noss)}')\n",
    "    if keep_match:\n",
    "        return smis_ss\n",
    "    else:\n",
    "        return smis_noss\n",
    "\n",
    "def filter_double_bonds(smiles_list, keep_match=False):\n",
    "    smis_noss = []\n",
    "    smis_ss = []\n",
    "    for smiles in smiles_list:\n",
    "        m = Chem.MolFromSmiles(smiles)\n",
    "        if any(m.GetBondWithIdx(idx).GetBondType().name == 'DOUBLE' for idx in range(m.GetNumBonds())):\n",
    "            smis_ss.append(smiles)\n",
    "        else:\n",
    "            smis_noss.append(smiles)\n",
    "    print(f'Number of molecules with and without double bonds: {len(smis_ss), len(smis_noss)}')\n",
    "    if keep_match:\n",
    "        return smis_ss\n",
    "    else:\n",
    "        return smis_noss\n",
    "    \n",
    "def show_mols(smis, legend=None, molsperrow=10, maxmols=50, subimgsize=(200, 200)):\n",
    "    '''Show molecules in a grid.'''\n",
    "    mols = [Chem.MolFromSmiles(smi) for smi in smis]\n",
    "    if not legend:\n",
    "        img = Draw.MolsToGridImage(\n",
    "            mols,\n",
    "            molsPerRow=molsperrow,\n",
    "            subImgSize=subimgsize,\n",
    "            maxMols=maxmols,\n",
    "        )\n",
    "    else:\n",
    "        img = Draw.MolsToGridImage(\n",
    "            mols,\n",
    "            molsPerRow=molsperrow,\n",
    "            subImgSize=subimgsize,\n",
    "            maxMols=maxmols,\n",
    "            legends=legend,\n",
    "        )\n",
    "    return img"
   ]
  },
  {
   "cell_type": "code",
   "execution_count": 6,
   "metadata": {},
   "outputs": [],
   "source": [
    "def count_charge(smiles):\n",
    "    return smiles.count(\"+]\") - smiles.count(\"-]\")"
   ]
  },
  {
   "cell_type": "markdown",
   "metadata": {},
   "source": [
    "# Import files"
   ]
  },
  {
   "cell_type": "code",
   "execution_count": 7,
   "metadata": {},
   "outputs": [],
   "source": [
    "data_dir = \"../../data\"\n",
    "main_op_dir = f\"{data_dir}/publication/model_performance/\"\n",
    "os.makedirs(main_op_dir, exist_ok=True)"
   ]
  },
  {
   "cell_type": "code",
   "execution_count": 8,
   "metadata": {},
   "outputs": [
    {
     "name": "stdout",
     "output_type": "stream",
     "text": [
      "(614263, 74)\n"
     ]
    }
   ],
   "source": [
    "# read labels for training data\n",
    "iza_truth = pd.read_csv(f\"{data_dir}/datasets/training_data/training_data.csv\", index_col=0)\n",
    "print(iza_truth.shape)"
   ]
  },
  {
   "cell_type": "code",
   "execution_count": 9,
   "metadata": {},
   "outputs": [
    {
     "name": "stdout",
     "output_type": "stream",
     "text": [
      "(140450, 72)\n"
     ]
    }
   ],
   "source": [
    "# read labels for heldout data\n",
    "heldout_truth = pd.read_csv(f\"{data_dir}/datasets/heldout_hyp_mols/heldout_data.csv\", index_col=0)\n",
    "print(heldout_truth.shape)"
   ]
  },
  {
   "cell_type": "code",
   "execution_count": 10,
   "metadata": {},
   "outputs": [],
   "source": [
    "heldout_truth[\"charge\"] = heldout_truth[\"SMILES\"].apply(count_charge)"
   ]
  },
  {
   "cell_type": "code",
   "execution_count": 11,
   "metadata": {},
   "outputs": [
    {
     "name": "stdout",
     "output_type": "stream",
     "text": [
      "dict_keys(['mol_weight', 'mol_volume', 'asphericity', 'eccentricity', 'inertial_shape_factor', 'spherocity_index', 'gyration_radius', 'pmi1', 'pmi2', 'pmi3', 'npr1', 'npr2', 'free_sasa', 'bertz_ct', 'num_rot_bonds', 'num_bonds', 'formal_charge'])\n",
      "dict_keys(['a', 'b', 'c', 'alpha', 'beta', 'gamma', 'num_atoms_per_vol', 'num_atoms', 'volume', 'largest_free_sphere', 'largest_free_sphere_a', 'largest_free_sphere_b', 'largest_free_sphere_c', 'largest_included_sphere', 'largest_included_sphere_a', 'largest_included_sphere_b', 'largest_included_sphere_c', 'largest_included_sphere_fsp'])\n"
     ]
    }
   ],
   "source": [
    "# read molecule and framework feature names \n",
    "with open(\"../src/configs/osda_v1_phys.json\", \"r\") as f:\n",
    "    ofeatures = json.load(f).keys() \n",
    "with open(\"../src/configs/zeolite_v1_phys_short.json\", \"r\") as f:\n",
    "    zfeatures = json.load(f).keys() \n",
    "\n",
    "print(ofeatures)\n",
    "print(zfeatures)\n",
    "\n",
    "feature_dict = dict(\n",
    "    mol_weight=\"$M_{mol} \\; (g/mol)$\",\n",
    "    mol_volume=\"$V_{mol} \\; (\\AA^3)$\",\n",
    "    asphericity=\"Asphericity\",\n",
    "    eccentricity=\"Eccentricity\",\n",
    "    inertial_shape_factor=\"Inertial shape factor\",\n",
    "    spherocity_index=\"Spherocity\",\n",
    "    gyration_radius=\"$R_{gyration}$\",\n",
    "    pmi1=\"PMI 1\",\n",
    "    pmi2=\"PMI 2\",\n",
    "    pmi3=\"PMI 3\",\n",
    "    npr1=\"NPR 1\",\n",
    "    npr2=\"NPR 2\",\n",
    "    free_sasa=\"FSASA \\; (\\AA^2)$\",\n",
    "    bertz_ct=\"Bertz CT\",\n",
    "    num_rot_bonds=\"$N_{rot \\; bonds}$\",\n",
    "    num_bonds=\"$N_{bonds}$\",\n",
    "    formal_charge=\"Charge\",\n",
    "    a=\"a\", \n",
    "    b=\"b\", \n",
    "    c=\"c\", \n",
    "    alpha=\"$\\alpha$\", \n",
    "    beta=\"$\\beta$\", \n",
    "    gamma=\"$\\gamma$\", \n",
    "    num_atoms_per_vol=\"$N_{atoms} \\; (1/\\AA^3)$\", \n",
    "    num_atoms=\"$N_{atoms}$\", \n",
    "    volume=\"V_{fw} \\; (\\AA^3)$\", \n",
    "    largest_free_sphere=\"D_{LFS} \\; (\\AA)$\", \n",
    "    largest_free_sphere_a=\"D_{LFS,a} \\; (\\AA)$\", \n",
    "    largest_free_sphere_b=\"D_{LFS,b} \\; (\\AA)$\", \n",
    "    largest_free_sphere_c=\"D_{LFS,c} \\; (\\AA)$\", \n",
    "    largest_included_sphere=\"D_{LIS} \\; (\\AA)$\", \n",
    "    largest_included_sphere_a=\"D_{LIS,a} \\; (\\AA)$\", \n",
    "    largest_included_sphere_b=\"D_{LIS,b} \\; (\\AA)$\", \n",
    "    largest_included_sphere_c=\"D_{LIS,c} \\; (\\AA)$\", \n",
    "    largest_included_sphere_fsp=\"D_{LIS,FSP} \\; (\\AA)$\",\n",
    ")"
   ]
  },
  {
   "cell_type": "code",
   "execution_count": 83,
   "metadata": {},
   "outputs": [
    {
     "name": "stdout",
     "output_type": "stream",
     "text": [
      "(2974, 1667) (216, 1948)\n"
     ]
    }
   ],
   "source": [
    "# read training data features \n",
    "iza_opriors = pd.read_pickle(f\"{data_dir}/datasets/training_data/osda_priors_0.pkl\")\n",
    "zpriors = pd.read_pickle(f\"{data_dir}/datasets/training_data/zeolite_priors_0.pkl\")\n",
    "print(iza_opriors.shape, zpriors.shape)"
   ]
  },
  {
   "cell_type": "code",
   "execution_count": 13,
   "metadata": {},
   "outputs": [
    {
     "name": "stdout",
     "output_type": "stream",
     "text": [
      "(7477, 17)\n"
     ]
    }
   ],
   "source": [
    "# read heldout dataset features \n",
    "heldout_opriors = pd.read_pickle(f\"{data_dir}/datasets/heldout_hyp_mols/osda_priors_0.pkl\")[ofeatures]\n",
    "print(heldout_opriors.shape)"
   ]
  },
  {
   "cell_type": "code",
   "execution_count": 14,
   "metadata": {},
   "outputs": [
    {
     "name": "stdout",
     "output_type": "stream",
     "text": [
      "1 {'train': 2360, 'val': 315, 'test': 299}\n",
      "2 {'train': 2388, 'val': 287, 'test': 299}\n",
      "3 {'train': 2390, 'val': 285, 'test': 299}\n",
      "4 {'train': 2391, 'val': 284, 'test': 299}\n",
      "5 {'train': 2370, 'val': 305, 'test': 299}\n"
     ]
    }
   ],
   "source": [
    "# read data splits \n",
    "splits_dir = f\"{data_dir}/datasets/training_data/splits\"\n",
    "splits = dict()\n",
    "for i in range(1,6):\n",
    "    splits[i] = dict(\n",
    "        train=np.load(splits_dir + f'/{i}/' + 'smiles_train.npy'),\n",
    "        val=np.load(splits_dir + f'/{i}/' + 'smiles_val.npy'),\n",
    "        test=np.load(splits_dir + f'/{i}/' + 'smiles_test.npy'),\n",
    "    )\n",
    "\n",
    "for k, v in splits.items():\n",
    "    print(k, {k: len(v) for k, v in v.items()})"
   ]
  },
  {
   "cell_type": "markdown",
   "metadata": {},
   "source": [
    "# Distribution of labels"
   ]
  },
  {
   "cell_type": "code",
   "execution_count": 15,
   "metadata": {},
   "outputs": [],
   "source": [
    "# binary classification task\n",
    "with open(main_op_dir + \"/binary_labels.csv\", \"w\") as f:\n",
    "    f.write(\"Model,Set,Binding,Non_binding\\n\")\n",
    "    for i in range(1,6):\n",
    "        for task in ['Train', 'Val', 'Test']:\n",
    "            ss = splits[i][task.lower()]\n",
    "            tt = iza_truth[iza_truth['SMILES'].isin(ss)]\n",
    "            line = f\"{i},{task},{sum(tt.b == 1)},{sum(tt.nb == 1)}\\n\"\n",
    "            f.write(line)"
   ]
  },
  {
   "cell_type": "code",
   "execution_count": 16,
   "metadata": {},
   "outputs": [
    {
     "data": {
      "image/png": "[encoded data removed]",
      "text/plain": [
       "<Figure size 1152x360 with 3 Axes>"
      ]
     },
     "metadata": {
      "needs_background": "light"
     },
     "output_type": "display_data"
    },
    {
     "data": {
      "image/png": "[encoded data removed]",
      "text/plain": [
       "<Figure size 1152x360 with 3 Axes>"
      ]
     },
     "metadata": {
      "needs_background": "light"
     },
     "output_type": "display_data"
    },
    {
     "data": {
      "image/png": "[encoded data removed]",
      "text/plain": [
       "<Figure size 1152x360 with 3 Axes>"
      ]
     },
     "metadata": {
      "needs_background": "light"
     },
     "output_type": "display_data"
    },
    {
     "data": {
      "image/png": "[encoded data removed]",
      "text/plain": [
       "<Figure size 1152x360 with 3 Axes>"
      ]
     },
     "metadata": {
      "needs_background": "light"
     },
     "output_type": "display_data"
    },
    {
     "data": {
      "image/png": "[encoded data removed]",
      "text/plain": [
       "<Figure size 1152x360 with 3 Axes>"
      ]
     },
     "metadata": {
      "needs_background": "light"
     },
     "output_type": "display_data"
    }
   ],
   "source": [
    "# energy task \n",
    "colors = get_color_values(5, 'viridis')\n",
    "limits = dict(\n",
    "    train=dict(x=(-30, 2), y=(0, 20000)),\n",
    "    val=dict(x=(-30, 2), y=(0, 2200)),\n",
    "    test=dict(x=(-30, 2), y=(0, 1800)),\n",
    ")\n",
    "wspace = 0.3\n",
    "\n",
    "for i in range(1, 6):\n",
    "    fig, axs = plt.subplots(1, 3, figsize=(16, 5))\n",
    "\n",
    "    for idx, task in enumerate(['Train', 'Val', 'Test']):\n",
    "\n",
    "        ss = splits[i][task.lower()]    \n",
    "        tt = iza_truth[\n",
    "            (iza_truth['SMILES'].isin(ss))\n",
    "            & (iza_truth['Binding (SiO2)'].lt(0.0))\n",
    "            ]\n",
    "\n",
    "        x = tt['Binding (SiO2)'].values\n",
    "        kwargs = dict(edgecolor='k', color=colors[i-1], bins=50)\n",
    "        axs[idx].hist(x, **kwargs)\n",
    "\n",
    "        axs[idx] = format_axs(axs[idx], 15, 15, 1, f\"{task} Set BE (kJ/ mol Si)\", \"Count\", 15, 15, limits=limits[task.lower()], )\n",
    "        plt.subplots_adjust(wspace=wspace)\n",
    "\n",
    "    save_mpl_fig(fig, main_op_dir + f\"/be_split_{i}_dist\", ending='.svg', dpi=300)"
   ]
  },
  {
   "cell_type": "code",
   "execution_count": 17,
   "metadata": {},
   "outputs": [
    {
     "data": {
      "image/png": "[encoded data removed]",
      "text/plain": [
       "<Figure size 1152x360 with 3 Axes>"
      ]
     },
     "metadata": {
      "needs_background": "light"
     },
     "output_type": "display_data"
    },
    {
     "data": {
      "image/png": "[encoded data removed]",
      "text/plain": [
       "<Figure size 1152x360 with 3 Axes>"
      ]
     },
     "metadata": {
      "needs_background": "light"
     },
     "output_type": "display_data"
    },
    {
     "data": {
      "image/png": "[encoded data removed]",
      "text/plain": [
       "<Figure size 1152x360 with 3 Axes>"
      ]
     },
     "metadata": {
      "needs_background": "light"
     },
     "output_type": "display_data"
    },
    {
     "data": {
      "image/png": "[encoded data removed]",
      "text/plain": [
       "<Figure size 1152x360 with 3 Axes>"
      ]
     },
     "metadata": {
      "needs_background": "light"
     },
     "output_type": "display_data"
    },
    {
     "data": {
      "image/png": "[encoded data removed]",
      "text/plain": [
       "<Figure size 1152x360 with 3 Axes>"
      ]
     },
     "metadata": {
      "needs_background": "light"
     },
     "output_type": "display_data"
    }
   ],
   "source": [
    "# loading task\n",
    "# energy task \n",
    "colors = get_color_values(5, 'viridis')\n",
    "limits = dict(\n",
    "    train=dict(x=(-30, 2), y=(0, 20000)),\n",
    "    val=dict(x=(-30, 2), y=(0, 2200)),\n",
    "    test=dict(x=(-30, 2), y=(0, 1800)),\n",
    ")\n",
    "wspace = 0.3\n",
    "\n",
    "for i in range(1, 6):\n",
    "    fig, axs = plt.subplots(1, 3, figsize=(16, 5))\n",
    "\n",
    "    for idx, task in enumerate(['Train', 'Val', 'Test']):\n",
    "\n",
    "        ss = splits[i][task.lower()]    \n",
    "        tt = iza_truth[\n",
    "            (iza_truth['SMILES'].isin(ss))\n",
    "            & (iza_truth['Binding (SiO2)'].lt(0.0))\n",
    "            ]\n",
    "\n",
    "        x = tt['load_norm_class'].values\n",
    "        kwargs = dict(edgecolor='k', color=colors[i-1], bins=50)\n",
    "        axs[idx].hist(x, **kwargs)\n",
    "\n",
    "        axs[idx] = format_axs(axs[idx], 15, 15, 1, task+\" Set $l_{uc}$\", \"Count\", 15, 15, ) #limits=limits[task.lower()], )\n",
    "        plt.subplots_adjust(wspace=wspace)\n",
    "\n",
    "    save_mpl_fig(fig, main_op_dir + f\"/load_norm_class_split_{i}_dist\", ending='.svg', dpi=300)"
   ]
  },
  {
   "cell_type": "markdown",
   "metadata": {},
   "source": [
    "# Read predictions"
   ]
  },
  {
   "cell_type": "code",
   "execution_count": 18,
   "metadata": {},
   "outputs": [
    {
     "name": "stdout",
     "output_type": "stream",
     "text": [
      "['formatted_energy', 'binary_likelihood', 'formatted_be', 'mclass', 'energy', 'formatted_binary']\n",
      "0.017490148544311523 mins to read (648768, 7)\n",
      "0.047627850373586016 mins to read (648768, 12)\n",
      "0.05579804579416911 mins to read (4061, 218)\n"
     ]
    }
   ],
   "source": [
    "import time \n",
    "\n",
    "def read_preds(parent_dir):\n",
    "    start = time.time()\n",
    "    print(os.listdir(parent_dir))\n",
    "\n",
    "    efiles = [f for f in os.listdir(parent_dir + \"/energy\") if '.csv' in f]\n",
    "    edfs = [pd.read_csv(parent_dir + \"/energy/\" + f, index_col=0) for f in efiles]\n",
    "    edf = pd.concat(edfs, axis=0)\n",
    "    print(f\"{(time.time() - start) / 60} mins to read {edf.shape}\")\n",
    "\n",
    "    bfiles = [f for f in os.listdir(parent_dir + \"/binary_likelihood\") if '.csv' in f]\n",
    "    bdfs = [pd.read_csv(parent_dir + \"/binary_likelihood/\" + f, index_col=0) for f in bfiles]\n",
    "    bdf = pd.concat(bdfs, axis=0)\n",
    "    print(f\"{(time.time() - start) / 60} mins to read {bdf.shape}\")\n",
    "\n",
    "    befiles = [f for f in os.listdir(parent_dir + \"/formatted_be\") if '.csv' in f]\n",
    "    mean_befiles = [f for f in befiles if 'mean' in f]\n",
    "    std_befiles = [f for f in befiles if 'std' in f]\n",
    "    mean_bedfs = [pd.read_csv(parent_dir + \"/formatted_be/\" + f, index_col=0) for f in mean_befiles]\n",
    "    std_bedfs = [pd.read_csv(parent_dir + \"/formatted_be/\" + f, index_col=0) for f in std_befiles]\n",
    "    mean_bedf = pd.concat(mean_bedfs, axis=0)\n",
    "    std_bedf = pd.concat(std_bedfs, axis=0)\n",
    "    print(f\"{(time.time() - start) / 60} mins to read {mean_bedf.shape}\")\n",
    "\n",
    "    return dict(\n",
    "        energy=edf,\n",
    "        binary=bdf,\n",
    "        mean_be=mean_bedf,\n",
    "        std_be=std_bedf,\n",
    "    )\n",
    "\n",
    "iza_preds = read_preds(f\"{data_dir}/predictions/training_data/\")"
   ]
  },
  {
   "cell_type": "code",
   "execution_count": 19,
   "metadata": {},
   "outputs": [
    {
     "name": "stdout",
     "output_type": "stream",
     "text": [
      "(614263, 233)\n"
     ]
    }
   ],
   "source": [
    "iza_preds[\"mclass\"] = pd.read_csv(f\"{data_dir}/predictions/training_data/mclass/uncondensed/osda_priors_0_zeolite_priors_0_preds.csv\")\n",
    "print(iza_preds[\"mclass\"].shape)"
   ]
  },
  {
   "cell_type": "code",
   "execution_count": 20,
   "metadata": {},
   "outputs": [
    {
     "name": "stdout",
     "output_type": "stream",
     "text": [
      "['formatted_energy', 'binary_likelihood', 'formatted_be', 'mclass', 'energy', 'formatted_binary']\n",
      "0.004208048184712728 mins to read (140450, 7)\n",
      "0.00985875129699707 mins to read (140450, 12)\n",
      "0.012886309623718261 mins to read (5985, 218)\n"
     ]
    }
   ],
   "source": [
    "# read heldout preds\n",
    "heldout_preds = read_preds(f\"{data_dir}/predictions/heldout_hyp_mols/\")"
   ]
  },
  {
   "cell_type": "code",
   "execution_count": 21,
   "metadata": {},
   "outputs": [
    {
     "name": "stdout",
     "output_type": "stream",
     "text": [
      "(140450, 232)\n"
     ]
    }
   ],
   "source": [
    "# read heldout mclass preds\n",
    "heldout_preds[\"mclass\"] = pd.read_csv(f\"{data_dir}/predictions/heldout_hyp_mols/mclass/uncondensed/osda_priors_0_zeolite_priors_0_preds.csv\", index_col=0)\n",
    "print(heldout_preds[\"mclass\"].shape)"
   ]
  },
  {
   "cell_type": "code",
   "execution_count": 22,
   "metadata": {},
   "outputs": [],
   "source": [
    "# reformat be from mat into df\n",
    "iza_preds['mean_be'] = iza_preds['mean_be'].unstack().dropna()\n",
    "heldout_preds['mean_be'] = heldout_preds['mean_be'].unstack().dropna()\n",
    "\n",
    "iza_preds['std_be'] = iza_preds['std_be'].unstack().dropna()\n",
    "heldout_preds['std_be'] = heldout_preds['std_be'].unstack().dropna()"
   ]
  },
  {
   "cell_type": "code",
   "execution_count": null,
   "metadata": {},
   "outputs": [],
   "source": []
  },
  {
   "cell_type": "markdown",
   "metadata": {},
   "source": [
    "# Format predictions\n",
    "- Different methods of combining ensemble b predictions, ensemble E predictions, and subsequently BE predictions are computed here.\n",
    "- Competition energy is also computed from the final BE numbers"
   ]
  },
  {
   "cell_type": "markdown",
   "metadata": {},
   "source": [
    "## Binary"
   ]
  },
  {
   "cell_type": "code",
   "execution_count": 23,
   "metadata": {},
   "outputs": [],
   "source": [
    "def format_binary(bdf, blabel=\"binding\"):\n",
    "    \"\"\"\n",
    "    - `b` and `nb` - logits\n",
    "        - (mean) - mean of logits\n",
    "        - (min) - min of logits\n",
    "        - (max) - max of logits\n",
    "        - (std) - std of logits\n",
    "    - `exp(b)` and `exp(nb)` - exponentiated logits\n",
    "    - `denom` - sum of exponentiated logits\n",
    "    - `softmax b` and `softmax nb` - exponentiated logits / sum of exponentiated logits\n",
    "        - (mean) - mean of softmax probabilities\n",
    "        - (min) - min of softmax probabilities\n",
    "        - (max) - max of softmax probabilities\n",
    "        - (std) - std of softmax probabilities\n",
    "    - `binding` (or blabel) - class (0 or 1)\n",
    "        - (logits mean) - from mean of logits\n",
    "        - (logits min) - from min of logits\n",
    "        - (logits max) - from max of logits\n",
    "        - (mean) - from softmax (mean)\n",
    "        - (min) - from softmax (min)\n",
    "        - (max) - from softmax (max)\n",
    "        - (mode) - compute class (0 or 1) for each model, then take the mode of that \n",
    "    \n",
    "    - Note that taking the mean, min or max of the softmaxes means the sum of the softmaxes is not 1.    \n",
    "    \"\"\"\n",
    "    start = time.time()\n",
    "    num_models = range(5)\n",
    "\n",
    "    # logits \n",
    "    bdf[\"b (mean)\"] = bdf[[f\"b ({i})\" for i in num_models]].mean(axis=1)\n",
    "    bdf[\"b (min)\"] = bdf[[f\"b ({i})\" for i in num_models]].min(axis=1)\n",
    "    bdf[\"b (max)\"] = bdf[[f\"b ({i})\" for i in num_models]].max(axis=1)\n",
    "    bdf[\"b (std)\"] = bdf[[f\"b ({i})\" for i in num_models]].std(axis=1)\n",
    "    bdf[\"nb (mean)\"] = bdf[[f\"nb ({i})\" for i in num_models]].mean(axis=1)\n",
    "    bdf[\"nb (min)\"] = bdf[[f\"nb ({i})\" for i in num_models]].min(axis=1)\n",
    "    bdf[\"nb (max)\"] = bdf[[f\"nb ({i})\" for i in num_models]].max(axis=1)\n",
    "    bdf[\"nb (std)\"] = bdf[[f\"nb ({i})\" for i in num_models]].std(axis=1)\n",
    "    print(\"logits done\", round((time.time() - start) / 60,2))\n",
    "\n",
    "    # binding from logits\n",
    "    bdf[f'{blabel} (logits mean)'] = bdf[\"b (mean)\"] > bdf[\"nb (mean)\"]\n",
    "    bdf[f'{blabel} (logits mean)'] = bdf[f'{blabel} (logits mean)'].apply(lambda x: 1 if x else 0)\n",
    "    bdf[f'{blabel} (logits min)'] = bdf[\"b (min)\"] > bdf[\"nb (min)\"]\n",
    "    bdf[f'{blabel} (logits min)'] = bdf[f'{blabel} (logits min)'].apply(lambda x: 1 if x else 0)\n",
    "    bdf[f'{blabel} (logits max)'] = bdf[\"b (max)\"] > bdf[\"nb (max)\"]\n",
    "    bdf[f'{blabel} (logits max)'] = bdf[f'{blabel} (logits max)'].apply(lambda x: 1 if x else 0)\n",
    "    print(f\"{blabel} from logits done\", round((time.time() - start) / 60,2))\n",
    "\n",
    "    # compute binding (1-5)\n",
    "    for i in num_models:\n",
    "        bdf[f\"exp(b) ({i})\"] = np.exp(bdf[f\"b ({i})\"])\n",
    "        bdf[f\"exp(nb) ({i})\"] = np.exp(bdf[f\"nb ({i})\"])\n",
    "        bdf[f\"denom ({i})\"] = bdf[f\"exp(b) ({i})\"] + bdf[f\"exp(nb) ({i})\"]\n",
    "        bdf[f\"softmax b ({i})\"] = bdf[f\"exp(b) ({i})\"] / bdf[f\"denom ({i})\"]\n",
    "        bdf[f\"softmax nb ({i})\"] = bdf[f\"exp(nb) ({i})\"] / bdf[f\"denom ({i})\"]\n",
    "        bdf[f\"{blabel} ({i})\"] = bdf[f\"softmax b ({i})\"].apply(\n",
    "            lambda x: 1 if x > 0.5 else 0\n",
    "        )\n",
    "    print(f\"{blabel} (1-5) done\", round((time.time() - start) / 60,2))\n",
    "    \n",
    "    # compute binding (mean)\n",
    "    bdf['softmax b (mean)'] = bdf[[f\"softmax b ({i})\" for i in num_models]].mean(axis=1)\n",
    "    bdf['softmax nb (mean)'] = bdf[[f\"softmax nb ({i})\" for i in num_models]].mean(axis=1)\n",
    "    bdf[f'{blabel} (mean)'] = bdf['softmax b (mean)'] > bdf['softmax nb (mean)']\n",
    "    bdf[f'{blabel} (mean)'] = bdf[f'{blabel} (mean)'].apply(lambda x: 1 if x else 0)\n",
    "    print(f\"{blabel} (mean) done\", round((time.time() - start) / 60,2))\n",
    "\n",
    "    # compute binding (min)\n",
    "    bdf['softmax b (min)'] = bdf[[f\"softmax b ({i})\" for i in num_models]].min(axis=1)\n",
    "    bdf['softmax nb (min)'] = bdf[[f\"softmax nb ({i})\" for i in num_models]].min(axis=1)\n",
    "    bdf[f'{blabel} (min)'] = bdf['softmax b (min)'] > bdf['softmax nb (min)']\n",
    "    bdf[f'{blabel} (min)'] = bdf[f'{blabel} (min)'].apply(lambda x: 1 if x else 0)\n",
    "    print(f\"{blabel} (min) done\", round((time.time() - start) / 60,2))\n",
    "\n",
    "    # compute binding (max)\n",
    "    bdf['softmax b (max)'] = bdf[[f\"softmax b ({i})\" for i in num_models]].max(axis=1)\n",
    "    bdf['softmax nb (max)'] = bdf[[f\"softmax nb ({i})\" for i in num_models]].max(axis=1)\n",
    "    bdf[f'{blabel} (max)'] = bdf['softmax b (max)'] > bdf['softmax nb (max)']\n",
    "    bdf[f'{blabel} (max)'] = bdf[f'{blabel} (max)'].apply(lambda x: 1 if x else 0)\n",
    "    print(f\"{blabel} (max) done\", round((time.time() - start) / 60,2))\n",
    "\n",
    "    # compute binding (mode)\n",
    "    bdf[f'{blabel} (mode)'] = bdf[[f\"{blabel} ({i})\" for i in num_models]].mode(axis=1)\n",
    "    print(f\"{blabel} (mode) done\", round((time.time() - start) / 60,2))\n",
    "\n",
    "    # std \n",
    "    bdf['softmax b (std)'] = bdf[[f\"softmax b ({i})\" for i in num_models]].std(axis=1)\n",
    "    bdf['softmax nb (std)'] = bdf[[f\"softmax nb ({i})\" for i in num_models]].std(axis=1)\n",
    "    print(\"std done\", round((time.time() - start) / 60,2))\n",
    "\n",
    "\n",
    "    return bdf"
   ]
  },
  {
   "cell_type": "code",
   "execution_count": 24,
   "metadata": {},
   "outputs": [
    {
     "name": "stdout",
     "output_type": "stream",
     "text": [
      "logits done 0.0\n",
      "binding from logits done 0.0\n",
      "binding (1-5) done 0.01\n",
      "binding (mean) done 0.01\n",
      "binding (min) done 0.01\n",
      "binding (max) done 0.01\n",
      "binding (mode) done 0.31\n",
      "std done 0.31\n"
     ]
    }
   ],
   "source": [
    "bdf = deepcopy(heldout_preds[\"binary\"])\n",
    "bdf = format_binary(bdf)"
   ]
  },
  {
   "cell_type": "code",
   "execution_count": 25,
   "metadata": {},
   "outputs": [],
   "source": [
    "binding_cols = ['binding (0)', 'binding (1)', 'binding (2)', 'binding (3)', 'binding (4)', \n",
    "                'binding (logits mean)', 'binding (logits min)', 'binding (logits max)', \n",
    "                'binding (mean)', 'binding (min)', 'binding (max)', 'binding (mode)']"
   ]
  },
  {
   "cell_type": "code",
   "execution_count": 26,
   "metadata": {},
   "outputs": [],
   "source": [
    "heldout_preds[\"binary\"] = bdf"
   ]
  },
  {
   "cell_type": "code",
   "execution_count": 27,
   "metadata": {},
   "outputs": [
    {
     "name": "stdout",
     "output_type": "stream",
     "text": [
      "logits done 0.0\n",
      "binding from logits done 0.02\n",
      "binding (1-5) done 0.03\n",
      "binding (mean) done 0.04\n",
      "binding (min) done 0.05\n",
      "binding (max) done 0.05\n",
      "binding (mode) done 1.47\n",
      "std done 1.48\n"
     ]
    }
   ],
   "source": [
    "bdf = deepcopy(iza_preds[\"binary\"])\n",
    "bdf = format_binary(bdf)"
   ]
  },
  {
   "cell_type": "code",
   "execution_count": 28,
   "metadata": {},
   "outputs": [],
   "source": [
    "iza_preds[\"binary\"] = bdf"
   ]
  },
  {
   "cell_type": "markdown",
   "metadata": {},
   "source": [
    "## Energy"
   ]
  },
  {
   "cell_type": "code",
   "execution_count": 29,
   "metadata": {},
   "outputs": [
    {
     "name": "stdout",
     "output_type": "stream",
     "text": [
      "energy done 0.0\n"
     ]
    }
   ],
   "source": [
    "def format_energy(edf, elabel=\"Binding (SiO2)\"):\n",
    "    \"\"\"\n",
    "    - `energy` - mean of energies\n",
    "    - `min` - min of energies\n",
    "    - `max` - max of energies\n",
    "    - `std` - std of energies\n",
    "    \"\"\"\n",
    "    start = time.time()\n",
    "    num_models = range(5)\n",
    "    edf[f\"{elabel} (mean)\"] = edf[[f\"{elabel} ({i})\" for i in num_models]].mean(axis=1)\n",
    "    edf[f\"{elabel} (min)\"] = edf[[f\"{elabel} ({i})\" for i in num_models]].min(axis=1)\n",
    "    edf[f\"{elabel} (max)\"] = edf[[f\"{elabel} ({i})\" for i in num_models]].max(axis=1)\n",
    "    edf[f\"{elabel} (std)\"] = edf[[f\"{elabel} ({i})\" for i in num_models]].std(axis=1)\n",
    "    print(\"energy done\", round((time.time() - start) / 60,2))\n",
    "    return edf\n",
    "\n",
    "edf = deepcopy(heldout_preds[\"energy\"])\n",
    "edf = format_energy(edf)\n",
    "heldout_preds[\"energy\"] = edf "
   ]
  },
  {
   "cell_type": "code",
   "execution_count": 30,
   "metadata": {},
   "outputs": [
    {
     "name": "stdout",
     "output_type": "stream",
     "text": [
      "energy done 0.0\n"
     ]
    }
   ],
   "source": [
    "edf = deepcopy(iza_preds[\"energy\"])\n",
    "edf = format_energy(edf)\n",
    "iza_preds[\"energy\"] = edf"
   ]
  },
  {
   "cell_type": "markdown",
   "metadata": {},
   "source": [
    "## BE"
   ]
  },
  {
   "cell_type": "code",
   "execution_count": 31,
   "metadata": {},
   "outputs": [],
   "source": [
    "def format_be(bdf, edf, pair_cols=PAIR_COLS, elabel=\"Binding (SiO2)\", blabel=\"binding\", belabel=\"BE\"):\n",
    "    # align the indices\n",
    "    edf = edf.set_index(pair_cols)\n",
    "    bdf = bdf.set_index(pair_cols)\n",
    "    bedf = pd.concat([bdf, edf], axis=1)\n",
    "\n",
    "    # compute be in all the different ways\n",
    "    bes = dict()\n",
    "    for b_mthd in [0, 1, 2, 3, 4, \"logits min\", \"logits max\", \"logits mean\", \"min\", \"max\", \"mean\", \"mode\"]:\n",
    "        for e_mthd in [0, 1, 2, 3, 4, \"min\", \"max\", \"mean\"]:\n",
    "            bes[f\"{belabel} (b: {b_mthd}, e: {e_mthd})\"] = bedf[f\"{elabel} ({e_mthd})\"] * bedf[f\"{blabel} ({b_mthd})\"]\n",
    "    bedf = pd.concat([bedf, pd.DataFrame(bes)], axis=1)\n",
    "\n",
    "    # ensembling the individual models \n",
    "    indiv_be_cols = [f\"{belabel} (b: {i}, e: {i})\" for i in range(5)]\n",
    "    bedf[f\"{belabel} (mean)\"] = bedf[indiv_be_cols].mean(axis=1)\n",
    "    bedf[f\"{belabel} (min)\"] = bedf[indiv_be_cols].min(axis=1)\n",
    "    bedf[f\"{belabel} (max)\"] = bedf[indiv_be_cols].max(axis=1)\n",
    "    bedf[f\"{belabel} (std)\"] = bedf[indiv_be_cols].std(axis=1)\n",
    "\n",
    "    be_cols = [col for col in bedf.columns if belabel in col]\n",
    "    bedf = bedf[be_cols]\n",
    "    bedf = bedf.reset_index()\n",
    "\n",
    "    return bedf\n",
    "\n",
    "\n",
    "bdf = deepcopy(heldout_preds[\"binary\"])\n",
    "edf = deepcopy(heldout_preds[\"energy\"])\n",
    "bedf = format_be(bdf, edf)\n",
    "heldout_preds[\"be\"] = bedf"
   ]
  },
  {
   "cell_type": "code",
   "execution_count": 32,
   "metadata": {},
   "outputs": [],
   "source": [
    "bdf = deepcopy(iza_preds[\"binary\"])\n",
    "edf = deepcopy(iza_preds[\"energy\"])\n",
    "bedf = format_be(bdf, edf)\n",
    "iza_preds[\"be\"] = bedf"
   ]
  },
  {
   "cell_type": "markdown",
   "metadata": {},
   "source": [
    "## Mclass"
   ]
  },
  {
   "cell_type": "code",
   "execution_count": 33,
   "metadata": {},
   "outputs": [],
   "source": [
    "def format_mclass(mdf, mlabel=\"load_norm_\", class_label=\"loading_norm\"):\n",
    "    \"\"\"\n",
    "    - `load_norm_<class num>` - logits\n",
    "        - (mean) - mean of logits\n",
    "        - (min) - min of logits\n",
    "        - (max) - max of logits\n",
    "        - (std) - std of logits\n",
    "    - `exp(load_norm_<class_num>)` - exponentiated logits\n",
    "    - `denom` - sum of exponentiated logits\n",
    "    - `softmax <class_num>` - exponentiated logits / sum of exponentiated logits\n",
    "        - (mean) - mean of softmax probabilities\n",
    "        - (min) - min of softmax probabilities\n",
    "        - (max) - max of softmax probabilities\n",
    "        - (std) - std of softmax probabilities\n",
    "    - `loading_norm` \n",
    "        - (logits mean) - from mean of logits\n",
    "        - (logits min) - from min of logits\n",
    "        - (logits max) - from max of logits\n",
    "        - (mean) - from softmax (mean)\n",
    "        - (min) - from softmax (min)\n",
    "        - (max) - from softmax (max)\n",
    "        - (mode) - compute class for each model, then take the mode of that \n",
    "    \n",
    "    - Note that taking the mean, min or max of the softmaxes means the sum of the softmaxes is not 1.    \n",
    "    \"\"\"\n",
    "    start = time.time()\n",
    "    num_models = range(5)\n",
    "    num_classes = range(46)\n",
    "\n",
    "\n",
    "    # logits \n",
    "    for c in num_classes:\n",
    "        mdf[f\"{mlabel}{c} (mean)\"] = mdf[[f\"{mlabel}{c} ({i})\" for i in num_models]].mean(axis=1)\n",
    "        mdf[f\"{mlabel}{c} (min)\"] = mdf[[f\"{mlabel}{c} ({i})\" for i in num_models]].min(axis=1)\n",
    "        mdf[f\"{mlabel}{c} (max)\"] = mdf[[f\"{mlabel}{c} ({i})\" for i in num_models]].max(axis=1)\n",
    "        mdf[f\"{mlabel}{c} (std)\"] = mdf[[f\"{mlabel}{c} ({i})\" for i in num_models]].std(axis=1)\n",
    "\n",
    "    print(\"logits done\", round((time.time() - start) / 60,2))\n",
    "\n",
    "    # class from logits\n",
    "    mdf[f'{class_label} (logits mean)'] = mdf[[f\"load_norm_{c} (mean)\" for c in num_classes]].idxmax(axis=1)\n",
    "    mdf[f'{class_label} (logits mean)'] = mdf[f'{class_label} (logits mean)'].apply(lambda x: int(x.split('_')[2].split(' ')[0]))\n",
    "\n",
    "    mdf[f'{class_label} (logits min)'] = mdf[[f\"load_norm_{c} (min)\" for c in num_classes]].idxmax(axis=1)\n",
    "    mdf[f'{class_label} (logits min)'] = mdf[f'{class_label} (logits min)'].apply(lambda x: int(x.split('_')[2].split(' ')[0]))\n",
    "\n",
    "    mdf[f'{class_label} (logits max)'] = mdf[[f\"load_norm_{c} (max)\" for c in num_classes]].idxmax(axis=1)\n",
    "    mdf[f'{class_label} (logits max)'] = mdf[f'{class_label} (logits max)'].apply(lambda x: int(x.split('_')[2].split(' ')[0]))\n",
    "\n",
    "    # compute class (1-5)\n",
    "    for i in num_models:\n",
    "        for c in num_classes:\n",
    "            mdf[f\"exp({mlabel}{c}) ({i})\"] = np.exp(mdf[f\"{mlabel}{c} ({i})\"])\n",
    "        mdf[f\"denom ({i})\"] = mdf[[f\"exp({mlabel}{c}) ({i})\" for c in num_classes]].sum(axis=1)\n",
    "        for c in num_classes:\n",
    "            mdf[f\"softmax {c} ({i})\"] = mdf[f\"exp({mlabel}{c}) ({i})\"] / mdf[f\"denom ({i})\"]\n",
    "        # get the class \n",
    "        cols = [f\"softmax {c} ({i})\" for c in num_classes]\n",
    "        mdf[f\"{class_label} ({i})\"] = mdf[cols].idxmax(axis=1)\n",
    "        mdf[f'{class_label} ({i})'] = mdf[f'{class_label} ({i})'].apply(lambda x: int(x.split(' ')[1]))\n",
    "    print(f\"{class_label} (1-5) done\", round((time.time() - start) / 60,2))\n",
    "    \n",
    "    # compute class (mean)\n",
    "    for c in num_classes:\n",
    "        mdf[f'softmax {c} (mean)'] = mdf[[f\"softmax {c} ({i})\" for i in num_models]].mean(axis=1)\n",
    "    mdf[f'{class_label} (mean)'] = mdf[[f'softmax {c} (mean)' for c in num_classes]].idxmax(axis=1)\n",
    "    mdf[f'{class_label} (mean)'] = mdf[f'{class_label} (mean)'].apply(lambda x: int(x.split(' ')[1]))\n",
    "    print(f\"{class_label} (mean) done\", round((time.time() - start) / 60,2))\n",
    "\n",
    "    # compute class (min)\n",
    "    for c in num_classes:\n",
    "        mdf[f'softmax {c} (min)'] = mdf[[f\"softmax {c} ({i})\" for i in num_models]].min(axis=1)\n",
    "    mdf[f'{class_label} (min)'] = mdf[[f'softmax {c} (min)' for c in num_classes]].idxmax(axis=1)\n",
    "    mdf[f'{class_label} (min)'] = mdf[f'{class_label} (min)'].apply(lambda x: int(x.split(' ')[1]))\n",
    "    print(f\"{class_label} (min) done\", round((time.time() - start) / 60,2))\n",
    "\n",
    "    # compute class (max)\n",
    "    for c in num_classes:\n",
    "        mdf[f'softmax {c} (max)'] = mdf[[f\"softmax {c} ({i})\" for i in num_models]].max(axis=1)\n",
    "    mdf[f'{class_label} (max)'] = mdf[[f'softmax {c} (max)' for c in num_classes]].idxmax(axis=1)\n",
    "    mdf[f'{class_label} (max)'] = mdf[f'{class_label} (max)'].apply(lambda x: int(x.split(' ')[1]))\n",
    "    print(f\"{class_label} (max) done\", round((time.time() - start) / 60,2))\n",
    "\n",
    "    # compute class (mode)\n",
    "    # It is possible for there to be multiple modes, so we will keep all \n",
    "    mode_cols = [f\"{class_label} (mode) ({i})\" for i in num_models]\n",
    "    mdf[mode_cols] = mdf[[f\"{class_label} ({i})\" for i in num_models]].mode(axis=1)\n",
    "    print(f\"{class_label} (mode) done\", round((time.time() - start) / 60,2))\n",
    "\n",
    "    # std \n",
    "    for c in num_classes:\n",
    "        mdf[f'softmax {c} (std)'] = mdf[[f\"softmax {c} ({i})\" for i in num_models]].std(axis=1)\n",
    "    print(\"std done\", round((time.time() - start) / 60,2))\n",
    "\n",
    "    return mdf"
   ]
  },
  {
   "cell_type": "code",
   "execution_count": 36,
   "metadata": {},
   "outputs": [],
   "source": [
    "num_models = range(5)\n",
    "load_cols = [f\"loading_norm ({i})\" for i in [\"logits min\", \"logits max\", \"logits mean\", \"min\", \"max\", \"mean\"]] + [f\"loading_norm (mode) ({i})\" for i in num_models]"
   ]
  },
  {
   "cell_type": "code",
   "execution_count": 34,
   "metadata": {},
   "outputs": [
    {
     "name": "stdout",
     "output_type": "stream",
     "text": [
      "logits done 0.6\n",
      "loading_norm (1-5) done 0.7\n",
      "loading_norm (mean) done 1.12\n",
      "loading_norm (min) done 1.56\n",
      "loading_norm (max) done 2.02\n",
      "loading_norm (mode) done 2.58\n",
      "std done 3.06\n"
     ]
    }
   ],
   "source": [
    "# takes 3 mins \n",
    "mdf = deepcopy(heldout_preds[\"mclass\"])\n",
    "mdf = format_mclass(mdf)"
   ]
  },
  {
   "cell_type": "code",
   "execution_count": 37,
   "metadata": {},
   "outputs": [],
   "source": [
    "heldout_preds[\"mclass\"] = mdf"
   ]
  },
  {
   "cell_type": "code",
   "execution_count": 38,
   "metadata": {},
   "outputs": [
    {
     "name": "stdout",
     "output_type": "stream",
     "text": [
      "logits done 2.6\n",
      "loading_norm (1-5) done 4.88\n",
      "loading_norm (mean) done 37.42\n",
      "loading_norm (min) done 73.24\n",
      "loading_norm (max) done 114.44\n",
      "loading_norm (mode) done 116.91\n",
      "std done 162.7\n"
     ]
    }
   ],
   "source": [
    "# This cell takes a while to run\n",
    "mdf = deepcopy(iza_preds[\"mclass\"])\n",
    "mdf = format_mclass(mdf)"
   ]
  },
  {
   "cell_type": "code",
   "execution_count": 40,
   "metadata": {},
   "outputs": [],
   "source": [
    "iza_preds[\"mclass\"] = mdf"
   ]
  },
  {
   "cell_type": "markdown",
   "metadata": {},
   "source": [
    "## Save formatted predictions"
   ]
  },
  {
   "cell_type": "code",
   "execution_count": 51,
   "metadata": {},
   "outputs": [],
   "source": [
    "for k, v in iza_preds.items():\n",
    "    output_file = f\"{main_op_dir}/training_data_preds_{k}.csv\"\n",
    "    v.to_csv(output_file)\n",
    "\n",
    "for k, v in heldout_preds.items():\n",
    "    output_file = f\"{main_op_dir}/heldout_data_preds_{k}.csv\"\n",
    "    v.to_csv(output_file)"
   ]
  },
  {
   "cell_type": "code",
   "execution_count": 58,
   "metadata": {},
   "outputs": [
    {
     "name": "stdout",
     "output_type": "stream",
     "text": [
      "energy\n",
      "binary\n",
      "mean_be\n",
      "std_be\n",
      "mclass\n",
      "be\n"
     ]
    }
   ],
   "source": [
    "# Save only test set\n",
    "for k, v in iza_preds.items():\n",
    "    print(k)\n",
    "    output_file = f\"{main_op_dir}/training_data_preds_{k}_test.csv\"\n",
    "    try:\n",
    "        to_save = v[v['SMILES'].isin(splits[5]['test'])]\n",
    "    except KeyError:\n",
    "        to_save = v[v.index.get_level_values('SMILES').isin(splits[5]['test'])]\n",
    "\n",
    "    to_save.to_csv(output_file)"
   ]
  },
  {
   "cell_type": "markdown",
   "metadata": {},
   "source": [
    "# Load formatted predictions\n",
    "- Load "
   ]
  },
  {
   "cell_type": "code",
   "execution_count": null,
   "metadata": {},
   "outputs": [],
   "source": [
    "iza_preds = dict() \n",
    "heldout_preds = dict()\n",
    "\n",
    "for k in ['energy', 'binary', 'mean_be', 'std_be', 'be', 'mclass']:\n",
    "    iza_preds[k] = pd.read_csv(f\"{main_op_dir}/training_data_preds_{k}_test.csv\", index_col=0)\n",
    "    heldout_preds[k] = pd.read_csv(f\"{main_op_dir}/heldout_data_preds_{k}.csv\", index_col=0)"
   ]
  },
  {
   "cell_type": "markdown",
   "metadata": {},
   "source": [
    "# Performance metrics\n",
    "- To compare ensembling methods, metrics are computed on the test set as each single model sees a different validation set, so computing metrics on a selected validation set would bias the results."
   ]
  },
  {
   "cell_type": "markdown",
   "metadata": {},
   "source": [
    "## b metrics"
   ]
  },
  {
   "cell_type": "code",
   "execution_count": 59,
   "metadata": {},
   "outputs": [],
   "source": [
    "def get_avg_batched_metrics(x, y, func, batch_size=256, is_binary=False, ):\n",
    "    \"\"\"\n",
    "    - Get the average of a metric computed on a batched dataset.\n",
    "    - No shuffling.\n",
    "    \"\"\"\n",
    "    metrics = [] \n",
    "    for i in range(0, len(x), batch_size):\n",
    "        target = x[i:i+batch_size]\n",
    "        input = y[i:i+batch_size]\n",
    "        if is_binary:\n",
    "            if input.sum().sum() == 0:\n",
    "                # skip batch if all labels are 0 as precision would be 0\n",
    "                continue\n",
    "        metrics.append(func(target, input))\n",
    "    return np.mean(metrics)"
   ]
  },
  {
   "cell_type": "code",
   "execution_count": 60,
   "metadata": {},
   "outputs": [],
   "source": [
    "def get_binary_metrics(x, y, split=None, index_cols=PAIR_COLS, split_by=\"SMILES\"):\n",
    "    \"\"\"\n",
    "    - `split` is an iterable of `split_by` that the metrics are computed on\n",
    "    \"\"\"\n",
    "    if split is not None:\n",
    "        x = x[x[split_by].isin(split)]\n",
    "    x = x.set_index(index_cols)\n",
    "    y = y.set_index(index_cols)\n",
    "    y = y.reindex(x.index)\n",
    "\n",
    "    metrics = dict()\n",
    "    metrics[\"accuracy\"] = get_avg_batched_metrics(x, y, accuracy_score, is_binary=True)\n",
    "    metrics[\"precision\"] = get_avg_batched_metrics(x, y, precision_score, is_binary=True)\n",
    "    metrics[\"f1\"] = get_avg_batched_metrics(x, y, f1_score, is_binary=True)\n",
    "    return metrics"
   ]
  },
  {
   "cell_type": "code",
   "execution_count": 61,
   "metadata": {},
   "outputs": [
    {
     "data": {
      "text/html": [
       "<div>\n",
       "<style scoped>\n",
       "    .dataframe tbody tr th:only-of-type {\n",
       "        vertical-align: middle;\n",
       "    }\n",
       "\n",
       "    .dataframe tbody tr th {\n",
       "        vertical-align: top;\n",
       "    }\n",
       "\n",
       "    .dataframe thead th {\n",
       "        text-align: right;\n",
       "    }\n",
       "</style>\n",
       "<table border=\"1\" class=\"dataframe\">\n",
       "  <thead>\n",
       "    <tr style=\"text-align: right;\">\n",
       "      <th></th>\n",
       "      <th>binding (0)</th>\n",
       "      <th>binding (1)</th>\n",
       "      <th>binding (2)</th>\n",
       "      <th>binding (3)</th>\n",
       "      <th>binding (4)</th>\n",
       "      <th>binding (logits mean)</th>\n",
       "      <th>binding (logits min)</th>\n",
       "      <th>binding (logits max)</th>\n",
       "      <th>binding (mean)</th>\n",
       "      <th>binding (min)</th>\n",
       "      <th>binding (max)</th>\n",
       "      <th>binding (mode)</th>\n",
       "    </tr>\n",
       "  </thead>\n",
       "  <tbody>\n",
       "    <tr>\n",
       "      <th>accuracy</th>\n",
       "      <td>0.964387</td>\n",
       "      <td>0.964408</td>\n",
       "      <td>0.965344</td>\n",
       "      <td>0.965107</td>\n",
       "      <td>0.963496</td>\n",
       "      <td>0.965917</td>\n",
       "      <td>0.965738</td>\n",
       "      <td>0.965986</td>\n",
       "      <td>0.965803</td>\n",
       "      <td>0.965965</td>\n",
       "      <td>0.965965</td>\n",
       "      <td>0.965465</td>\n",
       "    </tr>\n",
       "    <tr>\n",
       "      <th>precision</th>\n",
       "      <td>0.969359</td>\n",
       "      <td>0.966935</td>\n",
       "      <td>0.963529</td>\n",
       "      <td>0.963062</td>\n",
       "      <td>0.963555</td>\n",
       "      <td>0.966718</td>\n",
       "      <td>0.966948</td>\n",
       "      <td>0.966231</td>\n",
       "      <td>0.966615</td>\n",
       "      <td>0.966596</td>\n",
       "      <td>0.966596</td>\n",
       "      <td>0.966309</td>\n",
       "    </tr>\n",
       "    <tr>\n",
       "      <th>f1</th>\n",
       "      <td>0.967294</td>\n",
       "      <td>0.967418</td>\n",
       "      <td>0.968362</td>\n",
       "      <td>0.968184</td>\n",
       "      <td>0.966655</td>\n",
       "      <td>0.968836</td>\n",
       "      <td>0.968681</td>\n",
       "      <td>0.968903</td>\n",
       "      <td>0.968740</td>\n",
       "      <td>0.968895</td>\n",
       "      <td>0.968895</td>\n",
       "      <td>0.968434</td>\n",
       "    </tr>\n",
       "  </tbody>\n",
       "</table>\n",
       "</div>"
      ],
      "text/plain": [
       "           binding (0)  binding (1)  binding (2)  binding (3)  binding (4)  \\\n",
       "accuracy      0.964387     0.964408     0.965344     0.965107     0.963496   \n",
       "precision     0.969359     0.966935     0.963529     0.963062     0.963555   \n",
       "f1            0.967294     0.967418     0.968362     0.968184     0.966655   \n",
       "\n",
       "           binding (logits mean)  binding (logits min)  binding (logits max)  \\\n",
       "accuracy                0.965917              0.965738              0.965986   \n",
       "precision               0.966718              0.966948              0.966231   \n",
       "f1                      0.968836              0.968681              0.968903   \n",
       "\n",
       "           binding (mean)  binding (min)  binding (max)  binding (mode)  \n",
       "accuracy         0.965803       0.965965       0.965965        0.965465  \n",
       "precision        0.966615       0.966596       0.966596        0.966309  \n",
       "f1               0.968740       0.968895       0.968895        0.968434  "
      ]
     },
     "execution_count": 61,
     "metadata": {},
     "output_type": "execute_result"
    }
   ],
   "source": [
    "# Training dataset binary metrics - test\n",
    "binary_metrics = dict()\n",
    "for c in binding_cols:\n",
    "    x = deepcopy(iza_truth[PAIR_COLS + [\"b\"]])\n",
    "    y = deepcopy(iza_preds[\"binary\"][PAIR_COLS + [c]])\n",
    "    binary_metrics[c] = get_binary_metrics(x, y, splits[1][\"test\"])\n",
    "\n",
    "test_binary_metrics = pd.DataFrame.from_dict(binary_metrics)\n",
    "test_binary_metrics.to_csv(main_op_dir + \"/test_data_binary_metrics.csv\")\n",
    "\n",
    "test_binary_metrics"
   ]
  },
  {
   "cell_type": "code",
   "execution_count": 62,
   "metadata": {},
   "outputs": [],
   "source": [
    "c = binding_cols[0]\n",
    "x = heldout_truth[heldout_truth[\"charge\"] == 1]\n",
    "x = deepcopy(x[PAIR_COLS + [\"b\"]])\n",
    "y = deepcopy(heldout_preds[\"binary\"][PAIR_COLS + [c]])\n",
    "x = x.set_index(PAIR_COLS)\n",
    "y = y.set_index(PAIR_COLS).reindex(x.index)\n",
    "for c in binding_cols:\n",
    "    if c not in heldout_preds['binary'].columns:\n",
    "        print(c)"
   ]
  },
  {
   "cell_type": "code",
   "execution_count": 63,
   "metadata": {},
   "outputs": [
    {
     "data": {
      "text/html": [
       "<div>\n",
       "<style scoped>\n",
       "    .dataframe tbody tr th:only-of-type {\n",
       "        vertical-align: middle;\n",
       "    }\n",
       "\n",
       "    .dataframe tbody tr th {\n",
       "        vertical-align: top;\n",
       "    }\n",
       "\n",
       "    .dataframe thead th {\n",
       "        text-align: right;\n",
       "    }\n",
       "</style>\n",
       "<table border=\"1\" class=\"dataframe\">\n",
       "  <thead>\n",
       "    <tr style=\"text-align: right;\">\n",
       "      <th></th>\n",
       "      <th>binding (0)</th>\n",
       "      <th>binding (1)</th>\n",
       "      <th>binding (2)</th>\n",
       "      <th>binding (3)</th>\n",
       "      <th>binding (4)</th>\n",
       "      <th>binding (logits mean)</th>\n",
       "      <th>binding (logits min)</th>\n",
       "      <th>binding (logits max)</th>\n",
       "      <th>binding (mean)</th>\n",
       "      <th>binding (min)</th>\n",
       "      <th>binding (max)</th>\n",
       "      <th>binding (mode)</th>\n",
       "    </tr>\n",
       "  </thead>\n",
       "  <tbody>\n",
       "    <tr>\n",
       "      <th>accuracy</th>\n",
       "      <td>0.951870</td>\n",
       "      <td>0.952858</td>\n",
       "      <td>0.952198</td>\n",
       "      <td>0.953109</td>\n",
       "      <td>0.953847</td>\n",
       "      <td>0.954644</td>\n",
       "      <td>0.953968</td>\n",
       "      <td>0.954781</td>\n",
       "      <td>0.954624</td>\n",
       "      <td>0.954473</td>\n",
       "      <td>0.954473</td>\n",
       "      <td>0.954573</td>\n",
       "    </tr>\n",
       "    <tr>\n",
       "      <th>precision</th>\n",
       "      <td>0.912461</td>\n",
       "      <td>0.916492</td>\n",
       "      <td>0.907245</td>\n",
       "      <td>0.908424</td>\n",
       "      <td>0.913539</td>\n",
       "      <td>0.916894</td>\n",
       "      <td>0.915917</td>\n",
       "      <td>0.913987</td>\n",
       "      <td>0.916731</td>\n",
       "      <td>0.915267</td>\n",
       "      <td>0.915267</td>\n",
       "      <td>0.916166</td>\n",
       "    </tr>\n",
       "    <tr>\n",
       "      <th>f1</th>\n",
       "      <td>0.913974</td>\n",
       "      <td>0.912372</td>\n",
       "      <td>0.909549</td>\n",
       "      <td>0.916152</td>\n",
       "      <td>0.917250</td>\n",
       "      <td>0.918292</td>\n",
       "      <td>0.917578</td>\n",
       "      <td>0.915283</td>\n",
       "      <td>0.918066</td>\n",
       "      <td>0.917679</td>\n",
       "      <td>0.917679</td>\n",
       "      <td>0.918333</td>\n",
       "    </tr>\n",
       "  </tbody>\n",
       "</table>\n",
       "</div>"
      ],
      "text/plain": [
       "           binding (0)  binding (1)  binding (2)  binding (3)  binding (4)  \\\n",
       "accuracy      0.951870     0.952858     0.952198     0.953109     0.953847   \n",
       "precision     0.912461     0.916492     0.907245     0.908424     0.913539   \n",
       "f1            0.913974     0.912372     0.909549     0.916152     0.917250   \n",
       "\n",
       "           binding (logits mean)  binding (logits min)  binding (logits max)  \\\n",
       "accuracy                0.954644              0.953968              0.954781   \n",
       "precision               0.916894              0.915917              0.913987   \n",
       "f1                      0.918292              0.917578              0.915283   \n",
       "\n",
       "           binding (mean)  binding (min)  binding (max)  binding (mode)  \n",
       "accuracy         0.954624       0.954473       0.954473        0.954573  \n",
       "precision        0.916731       0.915267       0.915267        0.916166  \n",
       "f1               0.918066       0.917679       0.917679        0.918333  "
      ]
     },
     "execution_count": 63,
     "metadata": {},
     "output_type": "execute_result"
    }
   ],
   "source": [
    "# Heldout set binary metrics by charge - monoquaternary\n",
    "binary_metrics = dict()\n",
    "for c in binding_cols:\n",
    "    x = heldout_truth[heldout_truth[\"charge\"] == 1]\n",
    "    x = deepcopy(x[PAIR_COLS + [\"b\"]])\n",
    "    y = deepcopy(heldout_preds[\"binary\"][PAIR_COLS + [c]])\n",
    "    binary_metrics[c] = get_binary_metrics(x, y, split=None)\n",
    "\n",
    "heldout_binary_metrics_mono = pd.DataFrame.from_dict(binary_metrics)\n",
    "heldout_binary_metrics_mono.to_csv(main_op_dir + \"/heldout_data_binary_metrics_mono.csv\")\n",
    "heldout_binary_metrics_mono"
   ]
  },
  {
   "cell_type": "code",
   "execution_count": 64,
   "metadata": {},
   "outputs": [
    {
     "data": {
      "text/html": [
       "<div>\n",
       "<style scoped>\n",
       "    .dataframe tbody tr th:only-of-type {\n",
       "        vertical-align: middle;\n",
       "    }\n",
       "\n",
       "    .dataframe tbody tr th {\n",
       "        vertical-align: top;\n",
       "    }\n",
       "\n",
       "    .dataframe thead th {\n",
       "        text-align: right;\n",
       "    }\n",
       "</style>\n",
       "<table border=\"1\" class=\"dataframe\">\n",
       "  <thead>\n",
       "    <tr style=\"text-align: right;\">\n",
       "      <th></th>\n",
       "      <th>binding (0)</th>\n",
       "      <th>binding (1)</th>\n",
       "      <th>binding (2)</th>\n",
       "      <th>binding (3)</th>\n",
       "      <th>binding (4)</th>\n",
       "      <th>binding (logits mean)</th>\n",
       "      <th>binding (logits min)</th>\n",
       "      <th>binding (logits max)</th>\n",
       "      <th>binding (mean)</th>\n",
       "      <th>binding (min)</th>\n",
       "      <th>binding (max)</th>\n",
       "      <th>binding (mode)</th>\n",
       "    </tr>\n",
       "  </thead>\n",
       "  <tbody>\n",
       "    <tr>\n",
       "      <th>accuracy</th>\n",
       "      <td>0.933320</td>\n",
       "      <td>0.932782</td>\n",
       "      <td>0.932326</td>\n",
       "      <td>0.932863</td>\n",
       "      <td>0.935944</td>\n",
       "      <td>0.935059</td>\n",
       "      <td>0.934657</td>\n",
       "      <td>0.935449</td>\n",
       "      <td>0.935122</td>\n",
       "      <td>0.935130</td>\n",
       "      <td>0.935130</td>\n",
       "      <td>0.935136</td>\n",
       "    </tr>\n",
       "    <tr>\n",
       "      <th>precision</th>\n",
       "      <td>0.868175</td>\n",
       "      <td>0.865180</td>\n",
       "      <td>0.863932</td>\n",
       "      <td>0.856567</td>\n",
       "      <td>0.870987</td>\n",
       "      <td>0.869843</td>\n",
       "      <td>0.868450</td>\n",
       "      <td>0.866721</td>\n",
       "      <td>0.869812</td>\n",
       "      <td>0.868402</td>\n",
       "      <td>0.868402</td>\n",
       "      <td>0.869374</td>\n",
       "    </tr>\n",
       "    <tr>\n",
       "      <th>f1</th>\n",
       "      <td>0.885005</td>\n",
       "      <td>0.880661</td>\n",
       "      <td>0.882153</td>\n",
       "      <td>0.881788</td>\n",
       "      <td>0.888045</td>\n",
       "      <td>0.888080</td>\n",
       "      <td>0.886000</td>\n",
       "      <td>0.885076</td>\n",
       "      <td>0.888092</td>\n",
       "      <td>0.886411</td>\n",
       "      <td>0.886411</td>\n",
       "      <td>0.888635</td>\n",
       "    </tr>\n",
       "  </tbody>\n",
       "</table>\n",
       "</div>"
      ],
      "text/plain": [
       "           binding (0)  binding (1)  binding (2)  binding (3)  binding (4)  \\\n",
       "accuracy      0.933320     0.932782     0.932326     0.932863     0.935944   \n",
       "precision     0.868175     0.865180     0.863932     0.856567     0.870987   \n",
       "f1            0.885005     0.880661     0.882153     0.881788     0.888045   \n",
       "\n",
       "           binding (logits mean)  binding (logits min)  binding (logits max)  \\\n",
       "accuracy                0.935059              0.934657              0.935449   \n",
       "precision               0.869843              0.868450              0.866721   \n",
       "f1                      0.888080              0.886000              0.885076   \n",
       "\n",
       "           binding (mean)  binding (min)  binding (max)  binding (mode)  \n",
       "accuracy         0.935122       0.935130       0.935130        0.935136  \n",
       "precision        0.869812       0.868402       0.868402        0.869374  \n",
       "f1               0.888092       0.886411       0.886411        0.888635  "
      ]
     },
     "execution_count": 64,
     "metadata": {},
     "output_type": "execute_result"
    }
   ],
   "source": [
    "# Heldout set binary metrics by charge - diquarternary\n",
    "binary_metrics = dict()\n",
    "for c in binding_cols:\n",
    "    x = deepcopy(heldout_truth[PAIR_COLS + [\"b\"]])\n",
    "    y = deepcopy(heldout_preds[\"binary\"][PAIR_COLS + [c]])\n",
    "    binary_metrics[c] = get_binary_metrics(x, y, split=None)\n",
    "\n",
    "heldout_binary_metrics_diq = pd.DataFrame.from_dict(binary_metrics)\n",
    "heldout_binary_metrics_diq.to_csv(main_op_dir + \"/heldout_data_binary_metrics_diq.csv\")\n",
    "heldout_binary_metrics_diq"
   ]
  },
  {
   "cell_type": "markdown",
   "metadata": {},
   "source": [
    "## Energy helper functions"
   ]
  },
  {
   "cell_type": "code",
   "execution_count": 65,
   "metadata": {},
   "outputs": [],
   "source": [
    "def rmse(x, y):\n",
    "    return np.sqrt(np.mean((x.values - y.values) ** 2))"
   ]
  },
  {
   "cell_type": "code",
   "execution_count": 66,
   "metadata": {},
   "outputs": [],
   "source": [
    "def get_avg_batched_val(x, y, split=None, index_cols=PAIR_COLS, split_by=\"SMILES\", batch_size=256):\n",
    "    \"\"\"\n",
    "    - Get the average of a metric computed on a batched dataset.\n",
    "    - No shuffling.\n",
    "    \"\"\"\n",
    "    if split is not None:\n",
    "        x = x[x[split_by].isin(split)]\n",
    "    x = x.set_index(index_cols)\n",
    "    y = y.set_index(index_cols)\n",
    "    y = y.reindex(x.index)\n",
    "\n",
    "    metrics = [] \n",
    "    for i in range(0, len(y), batch_size):\n",
    "        target = y[i:i+batch_size]\n",
    "        metrics.append(target.mean())\n",
    "    return np.mean(metrics)"
   ]
  },
  {
   "cell_type": "code",
   "execution_count": 71,
   "metadata": {},
   "outputs": [],
   "source": [
    "def get_energy_metrics(x, y, split=None, index_cols=PAIR_COLS, split_by=\"SMILES\"):\n",
    "    \"\"\"\n",
    "    - `split` is an iterable of `split_by` that the metrics are computed on\n",
    "    \"\"\"\n",
    "    if split is not None:\n",
    "        x = x[x[split_by].isin(split)]\n",
    "    x = x.set_index(index_cols)\n",
    "    y = y.set_index(index_cols)\n",
    "    y = y.reindex(x.index)\n",
    "    # NOTE: No shuffling of data (see get_avg_batched_metrics)\n",
    "\n",
    "    metrics = dict()\n",
    "    metrics[\"rmse\"] = get_avg_batched_metrics(x, y, rmse)\n",
    "    metrics[\"mse\"] = get_avg_batched_metrics(x, y, mean_squared_error)\n",
    "    metrics[\"mae\"] = get_avg_batched_metrics(x, y, mean_absolute_error)\n",
    "    return metrics"
   ]
  },
  {
   "cell_type": "markdown",
   "metadata": {},
   "source": [
    "## E metrics"
   ]
  },
  {
   "cell_type": "code",
   "execution_count": 68,
   "metadata": {},
   "outputs": [],
   "source": [
    "energy_cols = [f\"Binding (SiO2) ({i})\" for i in [0, 1, 2, 3, 4, 'mean', 'min', 'max']]"
   ]
  },
  {
   "cell_type": "code",
   "execution_count": 72,
   "metadata": {},
   "outputs": [
    {
     "data": {
      "text/html": [
       "<div>\n",
       "<style scoped>\n",
       "    .dataframe tbody tr th:only-of-type {\n",
       "        vertical-align: middle;\n",
       "    }\n",
       "\n",
       "    .dataframe tbody tr th {\n",
       "        vertical-align: top;\n",
       "    }\n",
       "\n",
       "    .dataframe thead th {\n",
       "        text-align: right;\n",
       "    }\n",
       "</style>\n",
       "<table border=\"1\" class=\"dataframe\">\n",
       "  <thead>\n",
       "    <tr style=\"text-align: right;\">\n",
       "      <th></th>\n",
       "      <th>Binding (SiO2) (0)</th>\n",
       "      <th>Binding (SiO2) (1)</th>\n",
       "      <th>Binding (SiO2) (2)</th>\n",
       "      <th>Binding (SiO2) (3)</th>\n",
       "      <th>Binding (SiO2) (4)</th>\n",
       "      <th>Binding (SiO2) (mean)</th>\n",
       "      <th>Binding (SiO2) (min)</th>\n",
       "      <th>Binding (SiO2) (max)</th>\n",
       "    </tr>\n",
       "  </thead>\n",
       "  <tbody>\n",
       "    <tr>\n",
       "      <th>rmse</th>\n",
       "      <td>1.515001</td>\n",
       "      <td>1.460348</td>\n",
       "      <td>1.466008</td>\n",
       "      <td>1.460294</td>\n",
       "      <td>1.485443</td>\n",
       "      <td>1.455228</td>\n",
       "      <td>1.646798</td>\n",
       "      <td>1.349203</td>\n",
       "    </tr>\n",
       "    <tr>\n",
       "      <th>mse</th>\n",
       "      <td>2.309201</td>\n",
       "      <td>2.145187</td>\n",
       "      <td>2.161504</td>\n",
       "      <td>2.144253</td>\n",
       "      <td>2.218057</td>\n",
       "      <td>2.129284</td>\n",
       "      <td>2.727586</td>\n",
       "      <td>1.830252</td>\n",
       "    </tr>\n",
       "    <tr>\n",
       "      <th>mae</th>\n",
       "      <td>1.055952</td>\n",
       "      <td>1.023259</td>\n",
       "      <td>1.016357</td>\n",
       "      <td>1.025229</td>\n",
       "      <td>1.042432</td>\n",
       "      <td>1.020663</td>\n",
       "      <td>1.147829</td>\n",
       "      <td>0.948983</td>\n",
       "    </tr>\n",
       "    <tr>\n",
       "      <th>std_e</th>\n",
       "      <td>-4.133274</td>\n",
       "      <td>-4.042555</td>\n",
       "      <td>-4.031463</td>\n",
       "      <td>-4.069186</td>\n",
       "      <td>-4.113812</td>\n",
       "      <td>-4.078058</td>\n",
       "      <td>-4.350033</td>\n",
       "      <td>-3.808285</td>\n",
       "    </tr>\n",
       "  </tbody>\n",
       "</table>\n",
       "</div>"
      ],
      "text/plain": [
       "       Binding (SiO2) (0)  Binding (SiO2) (1)  Binding (SiO2) (2)  \\\n",
       "rmse             1.515001            1.460348            1.466008   \n",
       "mse              2.309201            2.145187            2.161504   \n",
       "mae              1.055952            1.023259            1.016357   \n",
       "std_e           -4.133274           -4.042555           -4.031463   \n",
       "\n",
       "       Binding (SiO2) (3)  Binding (SiO2) (4)  Binding (SiO2) (mean)  \\\n",
       "rmse             1.460294            1.485443               1.455228   \n",
       "mse              2.144253            2.218057               2.129284   \n",
       "mae              1.025229            1.042432               1.020663   \n",
       "std_e           -4.069186           -4.113812              -4.078058   \n",
       "\n",
       "       Binding (SiO2) (min)  Binding (SiO2) (max)  \n",
       "rmse               1.646798              1.349203  \n",
       "mse                2.727586              1.830252  \n",
       "mae                1.147829              0.948983  \n",
       "std_e             -4.350033             -3.808285  "
      ]
     },
     "execution_count": 72,
     "metadata": {},
     "output_type": "execute_result"
    }
   ],
   "source": [
    "# Training dataset energy metrics - test\n",
    "energy_metrics = dict()\n",
    "for c in energy_cols:\n",
    "    x = deepcopy(iza_truth[PAIR_COLS + [\"Binding (SiO2)\"]])\n",
    "    y = deepcopy(iza_preds[\"energy\"][PAIR_COLS + [c]])\n",
    "    energy_metrics[c] = get_energy_metrics(x, y, splits[1][\"test\"])\n",
    "    energy_metrics[c][\"std_e\"] = get_avg_batched_val(x, y, splits[1][\"test\"])\n",
    "\n",
    "test_energy_metrics = pd.DataFrame.from_dict(energy_metrics)\n",
    "test_energy_metrics.to_csv(main_op_dir + \"/test_data_energy_metrics_test.csv\")\n",
    "test_energy_metrics "
   ]
  },
  {
   "cell_type": "code",
   "execution_count": 73,
   "metadata": {},
   "outputs": [
    {
     "data": {
      "text/html": [
       "<div>\n",
       "<style scoped>\n",
       "    .dataframe tbody tr th:only-of-type {\n",
       "        vertical-align: middle;\n",
       "    }\n",
       "\n",
       "    .dataframe tbody tr th {\n",
       "        vertical-align: top;\n",
       "    }\n",
       "\n",
       "    .dataframe thead th {\n",
       "        text-align: right;\n",
       "    }\n",
       "</style>\n",
       "<table border=\"1\" class=\"dataframe\">\n",
       "  <thead>\n",
       "    <tr style=\"text-align: right;\">\n",
       "      <th></th>\n",
       "      <th>Binding (SiO2) (0)</th>\n",
       "      <th>Binding (SiO2) (1)</th>\n",
       "      <th>Binding (SiO2) (2)</th>\n",
       "      <th>Binding (SiO2) (3)</th>\n",
       "      <th>Binding (SiO2) (4)</th>\n",
       "      <th>Binding (SiO2) (mean)</th>\n",
       "      <th>Binding (SiO2) (min)</th>\n",
       "      <th>Binding (SiO2) (max)</th>\n",
       "    </tr>\n",
       "  </thead>\n",
       "  <tbody>\n",
       "    <tr>\n",
       "      <th>rmse</th>\n",
       "      <td>1.334934</td>\n",
       "      <td>1.332643</td>\n",
       "      <td>1.349413</td>\n",
       "      <td>1.338412</td>\n",
       "      <td>1.326145</td>\n",
       "      <td>1.316983</td>\n",
       "      <td>1.405799</td>\n",
       "      <td>1.303046</td>\n",
       "    </tr>\n",
       "    <tr>\n",
       "      <th>mse</th>\n",
       "      <td>2.112330</td>\n",
       "      <td>2.118309</td>\n",
       "      <td>2.134266</td>\n",
       "      <td>2.130927</td>\n",
       "      <td>2.146025</td>\n",
       "      <td>2.066782</td>\n",
       "      <td>2.315076</td>\n",
       "      <td>2.076947</td>\n",
       "    </tr>\n",
       "    <tr>\n",
       "      <th>mae</th>\n",
       "      <td>0.949990</td>\n",
       "      <td>0.941683</td>\n",
       "      <td>0.962987</td>\n",
       "      <td>0.950119</td>\n",
       "      <td>0.943361</td>\n",
       "      <td>0.934583</td>\n",
       "      <td>1.005597</td>\n",
       "      <td>0.927586</td>\n",
       "    </tr>\n",
       "    <tr>\n",
       "      <th>std_e</th>\n",
       "      <td>-3.808383</td>\n",
       "      <td>-3.677503</td>\n",
       "      <td>-3.740241</td>\n",
       "      <td>-3.754744</td>\n",
       "      <td>-3.820213</td>\n",
       "      <td>-3.760217</td>\n",
       "      <td>-4.037804</td>\n",
       "      <td>-3.483719</td>\n",
       "    </tr>\n",
       "  </tbody>\n",
       "</table>\n",
       "</div>"
      ],
      "text/plain": [
       "       Binding (SiO2) (0)  Binding (SiO2) (1)  Binding (SiO2) (2)  \\\n",
       "rmse             1.334934            1.332643            1.349413   \n",
       "mse              2.112330            2.118309            2.134266   \n",
       "mae              0.949990            0.941683            0.962987   \n",
       "std_e           -3.808383           -3.677503           -3.740241   \n",
       "\n",
       "       Binding (SiO2) (3)  Binding (SiO2) (4)  Binding (SiO2) (mean)  \\\n",
       "rmse             1.338412            1.326145               1.316983   \n",
       "mse              2.130927            2.146025               2.066782   \n",
       "mae              0.950119            0.943361               0.934583   \n",
       "std_e           -3.754744           -3.820213              -3.760217   \n",
       "\n",
       "       Binding (SiO2) (min)  Binding (SiO2) (max)  \n",
       "rmse               1.405799              1.303046  \n",
       "mse                2.315076              2.076947  \n",
       "mae                1.005597              0.927586  \n",
       "std_e             -4.037804             -3.483719  "
      ]
     },
     "execution_count": 73,
     "metadata": {},
     "output_type": "execute_result"
    }
   ],
   "source": [
    "# heldout set energy metrics - monoquaternary\n",
    "energy_metrics = dict()\n",
    "for c in energy_cols:\n",
    "    x = heldout_truth[heldout_truth.charge == 1]\n",
    "    x = deepcopy(x[PAIR_COLS + [\"Binding (SiO2)\"]])\n",
    "    y = deepcopy(heldout_preds[\"energy\"][PAIR_COLS + [c]])\n",
    "    energy_metrics[c] = get_energy_metrics(x, y)\n",
    "    energy_metrics[c][\"std_e\"] = get_avg_batched_val(x, y, None)\n",
    "\n",
    "heldout_energy_metrics_mono = pd.DataFrame.from_dict(energy_metrics)\n",
    "heldout_energy_metrics_mono.to_csv(main_op_dir + \"/heldout_data_energy_metrics_mono.csv\")\n",
    "heldout_energy_metrics_mono"
   ]
  },
  {
   "cell_type": "code",
   "execution_count": 74,
   "metadata": {},
   "outputs": [
    {
     "data": {
      "text/html": [
       "<div>\n",
       "<style scoped>\n",
       "    .dataframe tbody tr th:only-of-type {\n",
       "        vertical-align: middle;\n",
       "    }\n",
       "\n",
       "    .dataframe tbody tr th {\n",
       "        vertical-align: top;\n",
       "    }\n",
       "\n",
       "    .dataframe thead th {\n",
       "        text-align: right;\n",
       "    }\n",
       "</style>\n",
       "<table border=\"1\" class=\"dataframe\">\n",
       "  <thead>\n",
       "    <tr style=\"text-align: right;\">\n",
       "      <th></th>\n",
       "      <th>Binding (SiO2) (0)</th>\n",
       "      <th>Binding (SiO2) (1)</th>\n",
       "      <th>Binding (SiO2) (2)</th>\n",
       "      <th>Binding (SiO2) (3)</th>\n",
       "      <th>Binding (SiO2) (4)</th>\n",
       "      <th>Binding (SiO2) (mean)</th>\n",
       "      <th>Binding (SiO2) (min)</th>\n",
       "      <th>Binding (SiO2) (max)</th>\n",
       "    </tr>\n",
       "  </thead>\n",
       "  <tbody>\n",
       "    <tr>\n",
       "      <th>rmse</th>\n",
       "      <td>2.587043</td>\n",
       "      <td>2.415841</td>\n",
       "      <td>2.440188</td>\n",
       "      <td>2.392414</td>\n",
       "      <td>2.453333</td>\n",
       "      <td>2.425683</td>\n",
       "      <td>2.828793</td>\n",
       "      <td>2.119084</td>\n",
       "    </tr>\n",
       "    <tr>\n",
       "      <th>mse</th>\n",
       "      <td>7.605378</td>\n",
       "      <td>6.793811</td>\n",
       "      <td>6.898467</td>\n",
       "      <td>6.687610</td>\n",
       "      <td>6.955314</td>\n",
       "      <td>6.810327</td>\n",
       "      <td>9.049917</td>\n",
       "      <td>5.337487</td>\n",
       "    </tr>\n",
       "    <tr>\n",
       "      <th>mae</th>\n",
       "      <td>2.060296</td>\n",
       "      <td>1.903633</td>\n",
       "      <td>1.909115</td>\n",
       "      <td>1.884966</td>\n",
       "      <td>1.933564</td>\n",
       "      <td>1.925323</td>\n",
       "      <td>2.270133</td>\n",
       "      <td>1.656557</td>\n",
       "    </tr>\n",
       "    <tr>\n",
       "      <th>std_e</th>\n",
       "      <td>-3.844774</td>\n",
       "      <td>-3.643641</td>\n",
       "      <td>-3.632499</td>\n",
       "      <td>-3.598630</td>\n",
       "      <td>-3.662587</td>\n",
       "      <td>-3.676426</td>\n",
       "      <td>-4.166870</td>\n",
       "      <td>-3.209868</td>\n",
       "    </tr>\n",
       "  </tbody>\n",
       "</table>\n",
       "</div>"
      ],
      "text/plain": [
       "       Binding (SiO2) (0)  Binding (SiO2) (1)  Binding (SiO2) (2)  \\\n",
       "rmse             2.587043            2.415841            2.440188   \n",
       "mse              7.605378            6.793811            6.898467   \n",
       "mae              2.060296            1.903633            1.909115   \n",
       "std_e           -3.844774           -3.643641           -3.632499   \n",
       "\n",
       "       Binding (SiO2) (3)  Binding (SiO2) (4)  Binding (SiO2) (mean)  \\\n",
       "rmse             2.392414            2.453333               2.425683   \n",
       "mse              6.687610            6.955314               6.810327   \n",
       "mae              1.884966            1.933564               1.925323   \n",
       "std_e           -3.598630           -3.662587              -3.676426   \n",
       "\n",
       "       Binding (SiO2) (min)  Binding (SiO2) (max)  \n",
       "rmse               2.828793              2.119084  \n",
       "mse                9.049917              5.337487  \n",
       "mae                2.270133              1.656557  \n",
       "std_e             -4.166870             -3.209868  "
      ]
     },
     "execution_count": 74,
     "metadata": {},
     "output_type": "execute_result"
    }
   ],
   "source": [
    "# heldout set energy metrics - diquaternary\n",
    "energy_metrics = dict()\n",
    "for c in energy_cols:\n",
    "    x = heldout_truth[heldout_truth.charge == 2]\n",
    "    x = deepcopy(x[PAIR_COLS + [\"Binding (SiO2)\"]])\n",
    "    y = deepcopy(heldout_preds[\"energy\"][PAIR_COLS + [c]])\n",
    "    energy_metrics[c] = get_energy_metrics(x, y)\n",
    "    energy_metrics[c][\"std_e\"] = get_avg_batched_val(x, y, None)\n",
    "\n",
    "heldout_energy_metrics_diq = pd.DataFrame.from_dict(energy_metrics)\n",
    "heldout_energy_metrics_diq.to_csv(main_op_dir + \"/heldout_data_energy_metrics_diq.csv\")\n",
    "heldout_energy_metrics_diq"
   ]
  },
  {
   "cell_type": "markdown",
   "metadata": {},
   "source": [
    "## BE metrics"
   ]
  },
  {
   "cell_type": "code",
   "execution_count": 75,
   "metadata": {},
   "outputs": [],
   "source": [
    "be_cols = [c for c in heldout_preds['be'].columns if 'BE' in c]"
   ]
  },
  {
   "cell_type": "code",
   "execution_count": 76,
   "metadata": {},
   "outputs": [
    {
     "data": {
      "text/html": [
       "<div>\n",
       "<style scoped>\n",
       "    .dataframe tbody tr th:only-of-type {\n",
       "        vertical-align: middle;\n",
       "    }\n",
       "\n",
       "    .dataframe tbody tr th {\n",
       "        vertical-align: top;\n",
       "    }\n",
       "\n",
       "    .dataframe thead th {\n",
       "        text-align: right;\n",
       "    }\n",
       "</style>\n",
       "<table border=\"1\" class=\"dataframe\">\n",
       "  <thead>\n",
       "    <tr style=\"text-align: right;\">\n",
       "      <th></th>\n",
       "      <th>BE (b: 0, e: 0)</th>\n",
       "      <th>BE (b: 0, e: 1)</th>\n",
       "      <th>BE (b: 0, e: 2)</th>\n",
       "      <th>BE (b: 0, e: 3)</th>\n",
       "      <th>BE (b: 0, e: 4)</th>\n",
       "      <th>BE (b: 0, e: min)</th>\n",
       "      <th>BE (b: 0, e: max)</th>\n",
       "      <th>BE (b: 0, e: mean)</th>\n",
       "      <th>BE (b: 1, e: 0)</th>\n",
       "      <th>BE (b: 1, e: 1)</th>\n",
       "      <th>...</th>\n",
       "      <th>BE (b: mode, e: 2)</th>\n",
       "      <th>BE (b: mode, e: 3)</th>\n",
       "      <th>BE (b: mode, e: 4)</th>\n",
       "      <th>BE (b: mode, e: min)</th>\n",
       "      <th>BE (b: mode, e: max)</th>\n",
       "      <th>BE (b: mode, e: mean)</th>\n",
       "      <th>BE (mean)</th>\n",
       "      <th>BE (min)</th>\n",
       "      <th>BE (max)</th>\n",
       "      <th>BE (std)</th>\n",
       "    </tr>\n",
       "  </thead>\n",
       "  <tbody>\n",
       "    <tr>\n",
       "      <th>rmse</th>\n",
       "      <td>1.117271</td>\n",
       "      <td>1.121786</td>\n",
       "      <td>1.110691</td>\n",
       "      <td>1.115239</td>\n",
       "      <td>1.121309</td>\n",
       "      <td>1.149014</td>\n",
       "      <td>1.113077</td>\n",
       "      <td>1.103368</td>\n",
       "      <td>1.106611</td>\n",
       "      <td>1.108684</td>\n",
       "      <td>...</td>\n",
       "      <td>1.096985</td>\n",
       "      <td>1.102237</td>\n",
       "      <td>1.109285</td>\n",
       "      <td>1.140416</td>\n",
       "      <td>1.098824</td>\n",
       "      <td>1.090643</td>\n",
       "      <td>1.068926</td>\n",
       "      <td>1.136573</td>\n",
       "      <td>1.119876</td>\n",
       "      <td>5.683746</td>\n",
       "    </tr>\n",
       "    <tr>\n",
       "      <th>mse</th>\n",
       "      <td>1.267641</td>\n",
       "      <td>1.277335</td>\n",
       "      <td>1.251859</td>\n",
       "      <td>1.262072</td>\n",
       "      <td>1.276402</td>\n",
       "      <td>1.339932</td>\n",
       "      <td>1.257011</td>\n",
       "      <td>1.235987</td>\n",
       "      <td>1.239558</td>\n",
       "      <td>1.243937</td>\n",
       "      <td>...</td>\n",
       "      <td>1.219392</td>\n",
       "      <td>1.231275</td>\n",
       "      <td>1.247313</td>\n",
       "      <td>1.318281</td>\n",
       "      <td>1.223050</td>\n",
       "      <td>1.205781</td>\n",
       "      <td>1.156893</td>\n",
       "      <td>1.307606</td>\n",
       "      <td>1.273145</td>\n",
       "      <td>32.381726</td>\n",
       "    </tr>\n",
       "    <tr>\n",
       "      <th>mae</th>\n",
       "      <td>0.567955</td>\n",
       "      <td>0.570438</td>\n",
       "      <td>0.564583</td>\n",
       "      <td>0.567786</td>\n",
       "      <td>0.570598</td>\n",
       "      <td>0.581280</td>\n",
       "      <td>0.572565</td>\n",
       "      <td>0.560121</td>\n",
       "      <td>0.568291</td>\n",
       "      <td>0.569514</td>\n",
       "      <td>...</td>\n",
       "      <td>0.563717</td>\n",
       "      <td>0.567416</td>\n",
       "      <td>0.570080</td>\n",
       "      <td>0.582188</td>\n",
       "      <td>0.571236</td>\n",
       "      <td>0.559583</td>\n",
       "      <td>0.555496</td>\n",
       "      <td>0.591173</td>\n",
       "      <td>0.570940</td>\n",
       "      <td>3.739262</td>\n",
       "    </tr>\n",
       "    <tr>\n",
       "      <th>std_e</th>\n",
       "      <td>-3.622927</td>\n",
       "      <td>-3.592206</td>\n",
       "      <td>-3.591247</td>\n",
       "      <td>-3.594903</td>\n",
       "      <td>-3.610181</td>\n",
       "      <td>-3.739561</td>\n",
       "      <td>-3.464696</td>\n",
       "      <td>-3.602293</td>\n",
       "      <td>-3.632500</td>\n",
       "      <td>-3.600382</td>\n",
       "      <td>...</td>\n",
       "      <td>-3.604363</td>\n",
       "      <td>-3.608381</td>\n",
       "      <td>-3.623600</td>\n",
       "      <td>-3.755444</td>\n",
       "      <td>-3.476093</td>\n",
       "      <td>-3.615829</td>\n",
       "      <td>-3.615316</td>\n",
       "      <td>-3.790545</td>\n",
       "      <td>-3.442533</td>\n",
       "      <td>0.144869</td>\n",
       "    </tr>\n",
       "  </tbody>\n",
       "</table>\n",
       "<p>4 rows × 100 columns</p>\n",
       "</div>"
      ],
      "text/plain": [
       "       BE (b: 0, e: 0)  BE (b: 0, e: 1)  BE (b: 0, e: 2)  BE (b: 0, e: 3)  \\\n",
       "rmse          1.117271         1.121786         1.110691         1.115239   \n",
       "mse           1.267641         1.277335         1.251859         1.262072   \n",
       "mae           0.567955         0.570438         0.564583         0.567786   \n",
       "std_e        -3.622927        -3.592206        -3.591247        -3.594903   \n",
       "\n",
       "       BE (b: 0, e: 4)  BE (b: 0, e: min)  BE (b: 0, e: max)  \\\n",
       "rmse          1.121309           1.149014           1.113077   \n",
       "mse           1.276402           1.339932           1.257011   \n",
       "mae           0.570598           0.581280           0.572565   \n",
       "std_e        -3.610181          -3.739561          -3.464696   \n",
       "\n",
       "       BE (b: 0, e: mean)  BE (b: 1, e: 0)  BE (b: 1, e: 1)  ...  \\\n",
       "rmse             1.103368         1.106611         1.108684  ...   \n",
       "mse              1.235987         1.239558         1.243937  ...   \n",
       "mae              0.560121         0.568291         0.569514  ...   \n",
       "std_e           -3.602293        -3.632500        -3.600382  ...   \n",
       "\n",
       "       BE (b: mode, e: 2)  BE (b: mode, e: 3)  BE (b: mode, e: 4)  \\\n",
       "rmse             1.096985            1.102237            1.109285   \n",
       "mse              1.219392            1.231275            1.247313   \n",
       "mae              0.563717            0.567416            0.570080   \n",
       "std_e           -3.604363           -3.608381           -3.623600   \n",
       "\n",
       "       BE (b: mode, e: min)  BE (b: mode, e: max)  BE (b: mode, e: mean)  \\\n",
       "rmse               1.140416              1.098824               1.090643   \n",
       "mse                1.318281              1.223050               1.205781   \n",
       "mae                0.582188              0.571236               0.559583   \n",
       "std_e             -3.755444             -3.476093              -3.615829   \n",
       "\n",
       "       BE (mean)  BE (min)  BE (max)   BE (std)  \n",
       "rmse    1.068926  1.136573  1.119876   5.683746  \n",
       "mse     1.156893  1.307606  1.273145  32.381726  \n",
       "mae     0.555496  0.591173  0.570940   3.739262  \n",
       "std_e  -3.615316 -3.790545 -3.442533   0.144869  \n",
       "\n",
       "[4 rows x 100 columns]"
      ]
     },
     "execution_count": 76,
     "metadata": {},
     "output_type": "execute_result"
    }
   ],
   "source": [
    "# Training dataset BE metrics - test\n",
    "energy_metrics = dict()\n",
    "for c in be_cols:\n",
    "    x = deepcopy(iza_truth[PAIR_COLS + [\"Binding (SiO2)\"]])\n",
    "    y = deepcopy(iza_preds[\"be\"][PAIR_COLS + [c]])\n",
    "    energy_metrics[c] = get_energy_metrics(x, y, splits[1][\"test\"])\n",
    "    energy_metrics[c][\"std_e\"] = get_avg_batched_val(x, y, splits[1][\"test\"])\n",
    "\n",
    "test_be_metrics = pd.DataFrame.from_dict(energy_metrics)\n",
    "test_be_metrics.to_csv(main_op_dir + \"/test_data_be_metrics.csv\")\n",
    "test_be_metrics"
   ]
  },
  {
   "cell_type": "code",
   "execution_count": 79,
   "metadata": {},
   "outputs": [
    {
     "name": "stdout",
     "output_type": "stream",
     "text": [
      "Best ensembling method: BE (mean)\n"
     ]
    },
    {
     "data": {
      "text/html": [
       "<div>\n",
       "<style scoped>\n",
       "    .dataframe tbody tr th:only-of-type {\n",
       "        vertical-align: middle;\n",
       "    }\n",
       "\n",
       "    .dataframe tbody tr th {\n",
       "        vertical-align: top;\n",
       "    }\n",
       "\n",
       "    .dataframe thead th {\n",
       "        text-align: right;\n",
       "    }\n",
       "</style>\n",
       "<table border=\"1\" class=\"dataframe\">\n",
       "  <thead>\n",
       "    <tr style=\"text-align: right;\">\n",
       "      <th></th>\n",
       "      <th>BE (mean)</th>\n",
       "      <th>BE (b: logits max, e: mean)</th>\n",
       "      <th>BE (b: max, e: mean)</th>\n",
       "      <th>BE (b: min, e: mean)</th>\n",
       "      <th>BE (b: logits mean, e: mean)</th>\n",
       "      <th>BE (b: mean, e: mean)</th>\n",
       "      <th>BE (b: 2, e: mean)</th>\n",
       "      <th>BE (b: logits min, e: mean)</th>\n",
       "      <th>BE (b: logits max, e: 2)</th>\n",
       "      <th>BE (b: 3, e: mean)</th>\n",
       "    </tr>\n",
       "  </thead>\n",
       "  <tbody>\n",
       "    <tr>\n",
       "      <th>rmse</th>\n",
       "      <td>1.068926</td>\n",
       "      <td>1.082012</td>\n",
       "      <td>1.083565</td>\n",
       "      <td>1.083565</td>\n",
       "      <td>1.084335</td>\n",
       "      <td>1.084439</td>\n",
       "      <td>1.085234</td>\n",
       "      <td>1.086445</td>\n",
       "      <td>1.089246</td>\n",
       "      <td>1.089305</td>\n",
       "    </tr>\n",
       "    <tr>\n",
       "      <th>mse</th>\n",
       "      <td>1.156893</td>\n",
       "      <td>1.186261</td>\n",
       "      <td>1.190450</td>\n",
       "      <td>1.190450</td>\n",
       "      <td>1.191521</td>\n",
       "      <td>1.192022</td>\n",
       "      <td>1.193809</td>\n",
       "      <td>1.197143</td>\n",
       "      <td>1.201747</td>\n",
       "      <td>1.201933</td>\n",
       "    </tr>\n",
       "    <tr>\n",
       "      <th>mae</th>\n",
       "      <td>0.555496</td>\n",
       "      <td>0.557302</td>\n",
       "      <td>0.557549</td>\n",
       "      <td>0.557549</td>\n",
       "      <td>0.557526</td>\n",
       "      <td>0.557603</td>\n",
       "      <td>0.560051</td>\n",
       "      <td>0.557797</td>\n",
       "      <td>0.561731</td>\n",
       "      <td>0.562304</td>\n",
       "    </tr>\n",
       "    <tr>\n",
       "      <th>std_e</th>\n",
       "      <td>-3.615316</td>\n",
       "      <td>-3.618015</td>\n",
       "      <td>-3.617403</td>\n",
       "      <td>-3.617403</td>\n",
       "      <td>-3.617079</td>\n",
       "      <td>-3.617147</td>\n",
       "      <td>-3.623981</td>\n",
       "      <td>-3.615288</td>\n",
       "      <td>-3.606668</td>\n",
       "      <td>-3.623338</td>\n",
       "    </tr>\n",
       "  </tbody>\n",
       "</table>\n",
       "</div>"
      ],
      "text/plain": [
       "       BE (mean)  BE (b: logits max, e: mean)  BE (b: max, e: mean)  \\\n",
       "rmse    1.068926                     1.082012              1.083565   \n",
       "mse     1.156893                     1.186261              1.190450   \n",
       "mae     0.555496                     0.557302              0.557549   \n",
       "std_e  -3.615316                    -3.618015             -3.617403   \n",
       "\n",
       "       BE (b: min, e: mean)  BE (b: logits mean, e: mean)  \\\n",
       "rmse               1.083565                      1.084335   \n",
       "mse                1.190450                      1.191521   \n",
       "mae                0.557549                      0.557526   \n",
       "std_e             -3.617403                     -3.617079   \n",
       "\n",
       "       BE (b: mean, e: mean)  BE (b: 2, e: mean)  BE (b: logits min, e: mean)  \\\n",
       "rmse                1.084439            1.085234                     1.086445   \n",
       "mse                 1.192022            1.193809                     1.197143   \n",
       "mae                 0.557603            0.560051                     0.557797   \n",
       "std_e              -3.617147           -3.623981                    -3.615288   \n",
       "\n",
       "       BE (b: logits max, e: 2)  BE (b: 3, e: mean)  \n",
       "rmse                   1.089246            1.089305  \n",
       "mse                    1.201747            1.201933  \n",
       "mae                    0.561731            0.562304  \n",
       "std_e                 -3.606668           -3.623338  "
      ]
     },
     "execution_count": 79,
     "metadata": {},
     "output_type": "execute_result"
    }
   ],
   "source": [
    "print(\"Best ensembling method:\", test_be_metrics.loc['rmse'].idxmin()) \n",
    "test_be_metrics[be_cols].T.sort_values('rmse').head(10).T"
   ]
  },
  {
   "cell_type": "code",
   "execution_count": 80,
   "metadata": {},
   "outputs": [],
   "source": [
    "# heldout set BE metrics - monoquaternary\n",
    "energy_metrics = dict()\n",
    "for c in be_cols:\n",
    "    x = heldout_truth[heldout_truth.charge == 1]\n",
    "    x = deepcopy(x[PAIR_COLS + [\"Binding (SiO2)\"]])\n",
    "    y = deepcopy(heldout_preds[\"be\"][PAIR_COLS + [c]])\n",
    "    energy_metrics[c] = get_energy_metrics(x, y)\n",
    "    energy_metrics[c][\"std_e\"] = get_avg_batched_val(x, y, None)\n",
    "\n",
    "heldout_be_metrics_mono = pd.DataFrame.from_dict(energy_metrics)\n",
    "heldout_be_metrics_mono.to_csv(main_op_dir + \"/heldout_be_metrics_mono.csv\")"
   ]
  },
  {
   "cell_type": "code",
   "execution_count": 81,
   "metadata": {},
   "outputs": [],
   "source": [
    "# heldout set BE metrics - diquaternary\n",
    "energy_metrics = dict()\n",
    "for c in be_cols:\n",
    "    x = heldout_truth[heldout_truth.charge == 2]\n",
    "    x = deepcopy(x[PAIR_COLS + [\"Binding (SiO2)\"]])\n",
    "    y = deepcopy(heldout_preds[\"be\"][PAIR_COLS + [c]])\n",
    "    energy_metrics[c] = get_energy_metrics(x, y)\n",
    "    energy_metrics[c][\"std_e\"] = get_avg_batched_val(x, y, None)\n",
    "\n",
    "heldout_be_metrics_diq = pd.DataFrame.from_dict(energy_metrics)\n",
    "heldout_be_metrics_diq.to_csv(main_op_dir + \"/heldout_be_metrics_diq.csv\")"
   ]
  },
  {
   "cell_type": "markdown",
   "metadata": {},
   "source": [
    "## RMSE and Uncertainty"
   ]
  },
  {
   "cell_type": "code",
   "execution_count": 84,
   "metadata": {},
   "outputs": [
    {
     "name": "stdout",
     "output_type": "stream",
     "text": [
      "[('v_small_sph', 23), ('small_sph', 89), ('med_sph', 85), ('large_sph', 19), ('small_ring', 101), ('med_ring', 44), ('large_ring', 71)]\n"
     ]
    }
   ],
   "source": [
    "v_small_sph = zpriors[zpriors.largest_included_sphere.between(0, 4)].index.tolist()\n",
    "small_sph = zpriors[zpriors.largest_included_sphere.between(4, 6)].index.tolist()\n",
    "med_sph = zpriors[zpriors.largest_included_sphere.between(6, 9)].index.tolist()\n",
    "large_sph = zpriors[zpriors.largest_included_sphere.between(9, 20)].index.tolist()\n",
    "\n",
    "small_ring = zpriors[zpriors.ring_size_0.between(0, 9)].index.tolist()\n",
    "med_ring = zpriors[zpriors.ring_size_0.between(10, 11)].index.tolist()\n",
    "large_ring = zpriors[zpriors.ring_size_0.between(12, 20)].index.tolist()\n",
    "\n",
    "fw_sizes = dict(\n",
    "    v_small_sph=v_small_sph, small_sph=small_sph, med_sph=med_sph, large_sph=large_sph,\n",
    "    small_ring=small_ring, med_ring=med_ring, large_ring=large_ring\n",
    ")\n",
    "print([(k, len(v)) for k, v in fw_sizes.items()])"
   ]
  },
  {
   "cell_type": "code",
   "execution_count": 85,
   "metadata": {},
   "outputs": [
    {
     "name": "stdout",
     "output_type": "stream",
     "text": [
      "0.14710250276681672\n",
      "0.15511664981627254\n",
      "0.27321025377845976\n"
     ]
    }
   ],
   "source": [
    "# Computing the overall standard deviation of the ensemble in the test set and the heldout molecular sets \n",
    "x = iza_preds[\"be\"]\n",
    "y = x = x[PAIR_COLS + [\"BE (std)\"]]\n",
    "print(get_avg_batched_val(x, y, split=splits[1][\"test\"]))\n",
    "\n",
    "x = heldout_truth[heldout_truth.charge == 1]\n",
    "y = heldout_preds[\"be\"][PAIR_COLS + [\"BE (std)\"]]\n",
    "print(get_avg_batched_val(x, y))\n",
    "\n",
    "x = heldout_truth[heldout_truth.charge == 2]\n",
    "y = heldout_preds[\"be\"][PAIR_COLS + [\"BE (std)\"]]\n",
    "print(get_avg_batched_val(x, y))"
   ]
  },
  {
   "cell_type": "code",
   "execution_count": 86,
   "metadata": {},
   "outputs": [],
   "source": [
    "rmse_unc_dict = dict()\n",
    "\n",
    "for k, v in fw_sizes.items():\n",
    "    rmse_unc_dict[k] = dict() \n",
    "    \n",
    "    # IZA dataset, train val and test\n",
    "    x = iza_truth[iza_truth['Zeolite'].isin(v)]\n",
    "    x = x[PAIR_COLS + [\"Binding (SiO2)\"]]\n",
    "\n",
    "    for label in [\"train\", \"val\", \"test\"]:\n",
    "        y = iza_preds[\"be\"][PAIR_COLS + [\"BE (mean)\"]]\n",
    "        m = get_energy_metrics(x, y, split=splits[1][label])\n",
    "        rmse_unc_dict[k][label + \"_rmse\"] = m[\"rmse\"]\n",
    "\n",
    "        y = iza_preds[\"be\"][PAIR_COLS + [\"BE (std)\"]]\n",
    "        m = get_avg_batched_val(x, y, split=splits[1][label])\n",
    "        rmse_unc_dict[k][label + \"_unc\"] = m\n",
    "\n",
    "    # Heldout dataset, monoquaternary\n",
    "    x = heldout_truth[\n",
    "        (heldout_truth.charge == 1) & (heldout_truth['Zeolite'].isin(v))\n",
    "        ]\n",
    "    x = x[PAIR_COLS + [\"Binding (SiO2)\"]]\n",
    "\n",
    "    y = heldout_preds[\"be\"][PAIR_COLS + [\"BE (mean)\"] ]\n",
    "    m = get_energy_metrics(x, y)\n",
    "    rmse_unc_dict[k][\"mono_rmse\"] = m[\"rmse\"]\n",
    "\n",
    "    y = heldout_preds[\"be\"][PAIR_COLS + [\"BE (std)\"]]\n",
    "    m = get_avg_batched_val(x, y)\n",
    "    rmse_unc_dict[k][\"mono_unc\"] = m\n",
    "\n",
    "    # Heldout dataset, monoquaternary\n",
    "    x = heldout_truth[\n",
    "        (heldout_truth.charge == 2) & (heldout_truth['Zeolite'].isin(v))\n",
    "        ]\n",
    "    x = x[PAIR_COLS + [\"Binding (SiO2)\"]]\n",
    "\n",
    "    y = heldout_preds[\"be\"][PAIR_COLS + [\"BE (mean)\"]] \n",
    "    m = get_energy_metrics(x, y)\n",
    "    rmse_unc_dict[k][\"diq_rmse\"] = m[\"rmse\"]\n",
    "\n",
    "    y = heldout_preds[\"be\"][PAIR_COLS + [\"BE (std)\"]]\n",
    "    m = get_avg_batched_val(x, y)\n",
    "    rmse_unc_dict[k][\"diq_unc\"] = m"
   ]
  },
  {
   "cell_type": "code",
   "execution_count": 87,
   "metadata": {},
   "outputs": [
    {
     "data": {
      "text/html": [
       "<div>\n",
       "<style scoped>\n",
       "    .dataframe tbody tr th:only-of-type {\n",
       "        vertical-align: middle;\n",
       "    }\n",
       "\n",
       "    .dataframe tbody tr th {\n",
       "        vertical-align: top;\n",
       "    }\n",
       "\n",
       "    .dataframe thead th {\n",
       "        text-align: right;\n",
       "    }\n",
       "</style>\n",
       "<table border=\"1\" class=\"dataframe\">\n",
       "  <thead>\n",
       "    <tr style=\"text-align: right;\">\n",
       "      <th></th>\n",
       "      <th>v_small_sph</th>\n",
       "      <th>small_sph</th>\n",
       "      <th>med_sph</th>\n",
       "      <th>large_sph</th>\n",
       "      <th>small_ring</th>\n",
       "      <th>med_ring</th>\n",
       "      <th>large_ring</th>\n",
       "    </tr>\n",
       "  </thead>\n",
       "  <tbody>\n",
       "    <tr>\n",
       "      <th>train_rmse</th>\n",
       "      <td>0.224783</td>\n",
       "      <td>0.866741</td>\n",
       "      <td>1.189267</td>\n",
       "      <td>1.248445</td>\n",
       "      <td>0.880107</td>\n",
       "      <td>1.065096</td>\n",
       "      <td>1.141127</td>\n",
       "    </tr>\n",
       "    <tr>\n",
       "      <th>train_unc</th>\n",
       "      <td>0.012301</td>\n",
       "      <td>0.115318</td>\n",
       "      <td>0.183433</td>\n",
       "      <td>0.163361</td>\n",
       "      <td>0.112625</td>\n",
       "      <td>0.164363</td>\n",
       "      <td>0.155509</td>\n",
       "    </tr>\n",
       "    <tr>\n",
       "      <th>val_rmse</th>\n",
       "      <td>0.013788</td>\n",
       "      <td>0.709573</td>\n",
       "      <td>1.093585</td>\n",
       "      <td>1.086353</td>\n",
       "      <td>0.742739</td>\n",
       "      <td>0.913183</td>\n",
       "      <td>1.038328</td>\n",
       "    </tr>\n",
       "    <tr>\n",
       "      <th>val_unc</th>\n",
       "      <td>0.000291</td>\n",
       "      <td>0.082476</td>\n",
       "      <td>0.160042</td>\n",
       "      <td>0.129968</td>\n",
       "      <td>0.079784</td>\n",
       "      <td>0.135302</td>\n",
       "      <td>0.134717</td>\n",
       "    </tr>\n",
       "    <tr>\n",
       "      <th>test_rmse</th>\n",
       "      <td>0.031330</td>\n",
       "      <td>0.821066</td>\n",
       "      <td>1.315657</td>\n",
       "      <td>1.323053</td>\n",
       "      <td>0.909371</td>\n",
       "      <td>1.140037</td>\n",
       "      <td>1.203303</td>\n",
       "    </tr>\n",
       "    <tr>\n",
       "      <th>test_unc</th>\n",
       "      <td>0.000078</td>\n",
       "      <td>0.101786</td>\n",
       "      <td>0.210221</td>\n",
       "      <td>0.186117</td>\n",
       "      <td>0.110238</td>\n",
       "      <td>0.172587</td>\n",
       "      <td>0.173152</td>\n",
       "    </tr>\n",
       "    <tr>\n",
       "      <th>mono_rmse</th>\n",
       "      <td>0.043425</td>\n",
       "      <td>0.665027</td>\n",
       "      <td>1.508345</td>\n",
       "      <td>1.673711</td>\n",
       "      <td>0.768477</td>\n",
       "      <td>1.130786</td>\n",
       "      <td>1.382626</td>\n",
       "    </tr>\n",
       "    <tr>\n",
       "      <th>mono_unc</th>\n",
       "      <td>0.002023</td>\n",
       "      <td>0.103750</td>\n",
       "      <td>0.239278</td>\n",
       "      <td>0.169719</td>\n",
       "      <td>0.117677</td>\n",
       "      <td>0.156232</td>\n",
       "      <td>0.198586</td>\n",
       "    </tr>\n",
       "    <tr>\n",
       "      <th>diq_rmse</th>\n",
       "      <td>0.009816</td>\n",
       "      <td>1.099329</td>\n",
       "      <td>2.515044</td>\n",
       "      <td>2.111305</td>\n",
       "      <td>1.381070</td>\n",
       "      <td>1.912052</td>\n",
       "      <td>2.048891</td>\n",
       "    </tr>\n",
       "    <tr>\n",
       "      <th>diq_unc</th>\n",
       "      <td>0.000570</td>\n",
       "      <td>0.158983</td>\n",
       "      <td>0.418304</td>\n",
       "      <td>0.452696</td>\n",
       "      <td>0.216430</td>\n",
       "      <td>0.275255</td>\n",
       "      <td>0.339733</td>\n",
       "    </tr>\n",
       "  </tbody>\n",
       "</table>\n",
       "</div>"
      ],
      "text/plain": [
       "            v_small_sph  small_sph   med_sph  large_sph  small_ring  med_ring  \\\n",
       "train_rmse     0.224783   0.866741  1.189267   1.248445    0.880107  1.065096   \n",
       "train_unc      0.012301   0.115318  0.183433   0.163361    0.112625  0.164363   \n",
       "val_rmse       0.013788   0.709573  1.093585   1.086353    0.742739  0.913183   \n",
       "val_unc        0.000291   0.082476  0.160042   0.129968    0.079784  0.135302   \n",
       "test_rmse      0.031330   0.821066  1.315657   1.323053    0.909371  1.140037   \n",
       "test_unc       0.000078   0.101786  0.210221   0.186117    0.110238  0.172587   \n",
       "mono_rmse      0.043425   0.665027  1.508345   1.673711    0.768477  1.130786   \n",
       "mono_unc       0.002023   0.103750  0.239278   0.169719    0.117677  0.156232   \n",
       "diq_rmse       0.009816   1.099329  2.515044   2.111305    1.381070  1.912052   \n",
       "diq_unc        0.000570   0.158983  0.418304   0.452696    0.216430  0.275255   \n",
       "\n",
       "            large_ring  \n",
       "train_rmse    1.141127  \n",
       "train_unc     0.155509  \n",
       "val_rmse      1.038328  \n",
       "val_unc       0.134717  \n",
       "test_rmse     1.203303  \n",
       "test_unc      0.173152  \n",
       "mono_rmse     1.382626  \n",
       "mono_unc      0.198586  \n",
       "diq_rmse      2.048891  \n",
       "diq_unc       0.339733  "
      ]
     },
     "execution_count": 87,
     "metadata": {},
     "output_type": "execute_result"
    }
   ],
   "source": [
    "rmse_unc = pd.DataFrame.from_dict(rmse_unc_dict)\n",
    "rmse_unc.to_csv(main_op_dir + \"/rmse_unc.csv\")\n",
    "rmse_unc"
   ]
  },
  {
   "cell_type": "markdown",
   "metadata": {},
   "source": [
    "## Ranking"
   ]
  },
  {
   "cell_type": "code",
   "execution_count": 88,
   "metadata": {},
   "outputs": [],
   "source": [
    "def get_rankings(truth, preds, index=\"SMILES\", columns=\"Zeolite\", values=\"BE (mean)\", mol_set=\"test\"):\n",
    "    # format truth\n",
    "    truthmat = truth.pivot(index=index, columns=columns, values=\"Binding (SiO2)\")\n",
    "    \n",
    "    # keep only frameworks with at least 99% molecules\n",
    "    # thresh = min number of non-na values required\n",
    "    truthmat = truthmat.dropna(thresh=0.99 * len(truthmat), axis=1)\n",
    "\n",
    "    # keep only molecules with all remaining frameworks\n",
    "    truthmat = truthmat.dropna(thresh=1.0 * truthmat.shape[1], axis=0)\n",
    "\n",
    "    # format predictions\n",
    "    predmat = preds.pivot(index=index, columns=columns, values=values)\n",
    "    predmat = predmat.loc[truthmat.index][truthmat.columns]\n",
    "    \n",
    "    # compute rankings for each molecule\n",
    "    spearman = {}\n",
    "    pearson = {}\n",
    "    for s in truthmat.index:\n",
    "        x = truthmat.loc[s].values\n",
    "        y = predmat.loc[s].values\n",
    "        spearman[s] = spearmanr(x, y).correlation\n",
    "        pearson[s] = pearsonr(x, y)[0]\n",
    "\n",
    "    return pd.DataFrame.from_dict({f\"{mol_set}_spearman\": spearman, f\"{mol_set}_pearson\": pearson})"
   ]
  },
  {
   "cell_type": "code",
   "execution_count": 89,
   "metadata": {},
   "outputs": [],
   "source": [
    "iza_test_ranks = get_rankings(iza_truth[iza_truth['SMILES'].isin(splits[1][\"test\"])], iza_preds[\"be\"], values=\"BE (mean)\")\n",
    "iza_test_ranks.to_csv(main_op_dir + \"/test_data_ranks.csv\")"
   ]
  },
  {
   "cell_type": "code",
   "execution_count": 90,
   "metadata": {},
   "outputs": [
    {
     "data": {
      "text/html": [
       "<div>\n",
       "<style scoped>\n",
       "    .dataframe tbody tr th:only-of-type {\n",
       "        vertical-align: middle;\n",
       "    }\n",
       "\n",
       "    .dataframe tbody tr th {\n",
       "        vertical-align: top;\n",
       "    }\n",
       "\n",
       "    .dataframe thead th {\n",
       "        text-align: right;\n",
       "    }\n",
       "</style>\n",
       "<table border=\"1\" class=\"dataframe\">\n",
       "  <thead>\n",
       "    <tr style=\"text-align: right;\">\n",
       "      <th></th>\n",
       "      <th>test_spearman</th>\n",
       "      <th>test_pearson</th>\n",
       "    </tr>\n",
       "  </thead>\n",
       "  <tbody>\n",
       "    <tr>\n",
       "      <th>C(CCCC[N+]12CCC(CC1)CC2)CCC[N+]12CCC(CC1)CC2</th>\n",
       "      <td>0.907367</td>\n",
       "      <td>0.901546</td>\n",
       "    </tr>\n",
       "    <tr>\n",
       "      <th>C(CCCC[N+]12CCN(CC1)CC2)CCC[N+]12CCN(CC1)CC2</th>\n",
       "      <td>0.898837</td>\n",
       "      <td>0.889767</td>\n",
       "    </tr>\n",
       "    <tr>\n",
       "      <th>C(CC[N+]12CCC(CC1)NC2)CC[N+]12CCC(CC1)NC2</th>\n",
       "      <td>0.918223</td>\n",
       "      <td>0.894417</td>\n",
       "    </tr>\n",
       "    <tr>\n",
       "      <th>C1CCC[N+]2(CC1)CCCCCC2</th>\n",
       "      <td>0.981619</td>\n",
       "      <td>0.980433</td>\n",
       "    </tr>\n",
       "    <tr>\n",
       "      <th>C1CN2CCN1CC2</th>\n",
       "      <td>0.925860</td>\n",
       "      <td>0.935188</td>\n",
       "    </tr>\n",
       "    <tr>\n",
       "      <th>...</th>\n",
       "      <td>...</td>\n",
       "      <td>...</td>\n",
       "    </tr>\n",
       "    <tr>\n",
       "      <th>Cc1n(Cc2cc(Cn3cc[n+](C)c3C)cc(Cn3cc[n+](C)c3C)c2)cc[n+]1C</th>\n",
       "      <td>0.711502</td>\n",
       "      <td>0.688319</td>\n",
       "    </tr>\n",
       "    <tr>\n",
       "      <th>OC[C@@H]1CCCN1Cc1ccccc1</th>\n",
       "      <td>0.934166</td>\n",
       "      <td>0.934110</td>\n",
       "    </tr>\n",
       "    <tr>\n",
       "      <th>c1c[n+]([C@]23C[C@H]4C[C@H](C[C@H](C4)C2)C3)cn1[C@]12C[C@H]3C[C@H](C[C@H](C3)C1)C2</th>\n",
       "      <td>0.936924</td>\n",
       "      <td>0.930006</td>\n",
       "    </tr>\n",
       "    <tr>\n",
       "      <th>c1ccc(CC[NH+]2CCCC2)cc1</th>\n",
       "      <td>0.942639</td>\n",
       "      <td>0.947188</td>\n",
       "    </tr>\n",
       "    <tr>\n",
       "      <th>c1ccc(CN2CCCC2)cc1</th>\n",
       "      <td>0.930282</td>\n",
       "      <td>0.945157</td>\n",
       "    </tr>\n",
       "  </tbody>\n",
       "</table>\n",
       "<p>271 rows × 2 columns</p>\n",
       "</div>"
      ],
      "text/plain": [
       "                                                    test_spearman  \\\n",
       "C(CCCC[N+]12CCC(CC1)CC2)CCC[N+]12CCC(CC1)CC2             0.907367   \n",
       "C(CCCC[N+]12CCN(CC1)CC2)CCC[N+]12CCN(CC1)CC2             0.898837   \n",
       "C(CC[N+]12CCC(CC1)NC2)CC[N+]12CCC(CC1)NC2                0.918223   \n",
       "C1CCC[N+]2(CC1)CCCCCC2                                   0.981619   \n",
       "C1CN2CCN1CC2                                             0.925860   \n",
       "...                                                           ...   \n",
       "Cc1n(Cc2cc(Cn3cc[n+](C)c3C)cc(Cn3cc[n+](C)c3C)c...       0.711502   \n",
       "OC[C@@H]1CCCN1Cc1ccccc1                                  0.934166   \n",
       "c1c[n+]([C@]23C[C@H]4C[C@H](C[C@H](C4)C2)C3)cn1...       0.936924   \n",
       "c1ccc(CC[NH+]2CCCC2)cc1                                  0.942639   \n",
       "c1ccc(CN2CCCC2)cc1                                       0.930282   \n",
       "\n",
       "                                                    test_pearson  \n",
       "C(CCCC[N+]12CCC(CC1)CC2)CCC[N+]12CCC(CC1)CC2            0.901546  \n",
       "C(CCCC[N+]12CCN(CC1)CC2)CCC[N+]12CCN(CC1)CC2            0.889767  \n",
       "C(CC[N+]12CCC(CC1)NC2)CC[N+]12CCC(CC1)NC2               0.894417  \n",
       "C1CCC[N+]2(CC1)CCCCCC2                                  0.980433  \n",
       "C1CN2CCN1CC2                                            0.935188  \n",
       "...                                                          ...  \n",
       "Cc1n(Cc2cc(Cn3cc[n+](C)c3C)cc(Cn3cc[n+](C)c3C)c...      0.688319  \n",
       "OC[C@@H]1CCCN1Cc1ccccc1                                 0.934110  \n",
       "c1c[n+]([C@]23C[C@H]4C[C@H](C[C@H](C4)C2)C3)cn1...      0.930006  \n",
       "c1ccc(CC[NH+]2CCCC2)cc1                                 0.947188  \n",
       "c1ccc(CN2CCCC2)cc1                                      0.945157  \n",
       "\n",
       "[271 rows x 2 columns]"
      ]
     },
     "execution_count": 90,
     "metadata": {},
     "output_type": "execute_result"
    }
   ],
   "source": [
    "iza_test_ranks"
   ]
  },
  {
   "cell_type": "markdown",
   "metadata": {},
   "source": [
    "## l_uc metrics"
   ]
  },
  {
   "cell_type": "code",
   "execution_count": 91,
   "metadata": {},
   "outputs": [],
   "source": [
    "def get_load_metrics(x, y, split=None, index_cols=PAIR_COLS, split_by=\"SMILES\"):\n",
    "    \"\"\"\n",
    "    - `split` is an iterable of `split_by` that the metrics are computed on\n",
    "    \"\"\"\n",
    "    if split is not None:\n",
    "        x = x[x[split_by].isin(split)]\n",
    "\n",
    "    x = x.set_index(index_cols)\n",
    "    y = y.set_index(index_cols)\n",
    "    y = y.reindex(x.index)\n",
    "\n",
    "    # NOTE: No shuffling of data (see get_avg_batched_metrics)\n",
    "    metrics = classification_report(x, y, output_dict=True, zero_division=0)\n",
    "    return metrics\n",
    "\n",
    "def get_load_metrics_df(truth, preds, split=None, charge=None):\n",
    "    load_metrics = dict()\n",
    "    for c in load_cols:\n",
    "        y = deepcopy(preds)\n",
    "        \n",
    "        # For mode:\n",
    "        # In the case where mode returns more than 1 class, we remove the data points because the final class is ambiguous\n",
    "        if 'mode' in c:\n",
    "            if '0' in c:\n",
    "                y = y[y['loading_norm (mode) (1)'].isna()]\n",
    "            else:\n",
    "                continue\n",
    "        \n",
    "        # Need to get indices common to x and y \n",
    "        x = deepcopy(truth)\n",
    "        if charge is not None:\n",
    "            x = x[x.charge == charge]\n",
    "        x = x[PAIR_COLS + [\"load_norm_class\"]]\n",
    "        x = x.set_index(PAIR_COLS)\n",
    "        y = y.set_index(PAIR_COLS)\n",
    "\n",
    "        # index y to x index\n",
    "        y = y.reindex(x.index)\n",
    "\n",
    "        # remove rows with no predictions \n",
    "        y = y[c].dropna()\n",
    "\n",
    "        # reindex x to y index\n",
    "        x = x.reindex(y.index)\n",
    "\n",
    "        x = x.reset_index()\n",
    "        y = y.reset_index()\n",
    "        load_metrics[c] = get_load_metrics(x, y, split)\n",
    "\n",
    "    load_metrics_2 = dict()\n",
    "    for col_name, v in load_metrics.items():\n",
    "        load_metrics_2[col_name] = dict()\n",
    "        for key in v.keys():\n",
    "            if key in ['accuracy', 'macro avg', 'weighted avg']:\n",
    "                load_metrics_2[col_name][key] = v[key]\n",
    "\n",
    "    load_metrics = pd.DataFrame.from_dict(load_metrics_2)\n",
    "\n",
    "    for m in ['precision', 'recall', 'f1-score', 'support']:\n",
    "        load_metrics.loc[f\"macro_avg_{m}\", :] = load_metrics.T[\"macro avg\"].apply(lambda x: x[m]).T\n",
    "        load_metrics.loc[f\"weighted_avg_{m}\", :] = load_metrics.T[\"weighted avg\"].apply(lambda x: x[m]).T\n",
    "    load_metrics = load_metrics.drop(index=['macro avg', 'weighted avg'])\n",
    "\n",
    "    return load_metrics"
   ]
  },
  {
   "cell_type": "code",
   "execution_count": 92,
   "metadata": {},
   "outputs": [
    {
     "data": {
      "text/html": [
       "<div>\n",
       "<style scoped>\n",
       "    .dataframe tbody tr th:only-of-type {\n",
       "        vertical-align: middle;\n",
       "    }\n",
       "\n",
       "    .dataframe tbody tr th {\n",
       "        vertical-align: top;\n",
       "    }\n",
       "\n",
       "    .dataframe thead th {\n",
       "        text-align: right;\n",
       "    }\n",
       "</style>\n",
       "<table border=\"1\" class=\"dataframe\">\n",
       "  <thead>\n",
       "    <tr style=\"text-align: right;\">\n",
       "      <th></th>\n",
       "      <th>loading_norm (logits min)</th>\n",
       "      <th>loading_norm (logits max)</th>\n",
       "      <th>loading_norm (logits mean)</th>\n",
       "      <th>loading_norm (min)</th>\n",
       "      <th>loading_norm (max)</th>\n",
       "      <th>loading_norm (mean)</th>\n",
       "      <th>loading_norm (mode) (0)</th>\n",
       "    </tr>\n",
       "  </thead>\n",
       "  <tbody>\n",
       "    <tr>\n",
       "      <th>accuracy</th>\n",
       "      <td>0.735018</td>\n",
       "      <td>0.734066</td>\n",
       "      <td>0.735346</td>\n",
       "      <td>0.735554</td>\n",
       "      <td>0.735256</td>\n",
       "      <td>0.735584</td>\n",
       "      <td>0.739155</td>\n",
       "    </tr>\n",
       "    <tr>\n",
       "      <th>macro_avg_precision</th>\n",
       "      <td>0.369995</td>\n",
       "      <td>0.371302</td>\n",
       "      <td>0.379599</td>\n",
       "      <td>0.364901</td>\n",
       "      <td>0.372508</td>\n",
       "      <td>0.379484</td>\n",
       "      <td>0.369581</td>\n",
       "    </tr>\n",
       "    <tr>\n",
       "      <th>weighted_avg_precision</th>\n",
       "      <td>0.72772</td>\n",
       "      <td>0.726265</td>\n",
       "      <td>0.727764</td>\n",
       "      <td>0.728823</td>\n",
       "      <td>0.727086</td>\n",
       "      <td>0.727936</td>\n",
       "      <td>0.731316</td>\n",
       "    </tr>\n",
       "    <tr>\n",
       "      <th>macro_avg_recall</th>\n",
       "      <td>0.361768</td>\n",
       "      <td>0.375179</td>\n",
       "      <td>0.374332</td>\n",
       "      <td>0.359537</td>\n",
       "      <td>0.374043</td>\n",
       "      <td>0.375102</td>\n",
       "      <td>0.370535</td>\n",
       "    </tr>\n",
       "    <tr>\n",
       "      <th>weighted_avg_recall</th>\n",
       "      <td>0.735018</td>\n",
       "      <td>0.734066</td>\n",
       "      <td>0.735346</td>\n",
       "      <td>0.735554</td>\n",
       "      <td>0.735256</td>\n",
       "      <td>0.735584</td>\n",
       "      <td>0.739155</td>\n",
       "    </tr>\n",
       "    <tr>\n",
       "      <th>macro_avg_f1-score</th>\n",
       "      <td>0.361322</td>\n",
       "      <td>0.367363</td>\n",
       "      <td>0.371196</td>\n",
       "      <td>0.356856</td>\n",
       "      <td>0.366869</td>\n",
       "      <td>0.371542</td>\n",
       "      <td>0.364748</td>\n",
       "    </tr>\n",
       "    <tr>\n",
       "      <th>weighted_avg_f1-score</th>\n",
       "      <td>0.729556</td>\n",
       "      <td>0.727368</td>\n",
       "      <td>0.729356</td>\n",
       "      <td>0.730249</td>\n",
       "      <td>0.728655</td>\n",
       "      <td>0.729529</td>\n",
       "      <td>0.732912</td>\n",
       "    </tr>\n",
       "    <tr>\n",
       "      <th>macro_avg_support</th>\n",
       "      <td>33591</td>\n",
       "      <td>33591</td>\n",
       "      <td>33591</td>\n",
       "      <td>33591</td>\n",
       "      <td>33591</td>\n",
       "      <td>33591</td>\n",
       "      <td>33311</td>\n",
       "    </tr>\n",
       "    <tr>\n",
       "      <th>weighted_avg_support</th>\n",
       "      <td>33591</td>\n",
       "      <td>33591</td>\n",
       "      <td>33591</td>\n",
       "      <td>33591</td>\n",
       "      <td>33591</td>\n",
       "      <td>33591</td>\n",
       "      <td>33311</td>\n",
       "    </tr>\n",
       "  </tbody>\n",
       "</table>\n",
       "</div>"
      ],
      "text/plain": [
       "                       loading_norm (logits min) loading_norm (logits max)  \\\n",
       "accuracy                                0.735018                  0.734066   \n",
       "macro_avg_precision                     0.369995                  0.371302   \n",
       "weighted_avg_precision                   0.72772                  0.726265   \n",
       "macro_avg_recall                        0.361768                  0.375179   \n",
       "weighted_avg_recall                     0.735018                  0.734066   \n",
       "macro_avg_f1-score                      0.361322                  0.367363   \n",
       "weighted_avg_f1-score                   0.729556                  0.727368   \n",
       "macro_avg_support                          33591                     33591   \n",
       "weighted_avg_support                       33591                     33591   \n",
       "\n",
       "                       loading_norm (logits mean) loading_norm (min)  \\\n",
       "accuracy                                 0.735346           0.735554   \n",
       "macro_avg_precision                      0.379599           0.364901   \n",
       "weighted_avg_precision                   0.727764           0.728823   \n",
       "macro_avg_recall                         0.374332           0.359537   \n",
       "weighted_avg_recall                      0.735346           0.735554   \n",
       "macro_avg_f1-score                       0.371196           0.356856   \n",
       "weighted_avg_f1-score                    0.729356           0.730249   \n",
       "macro_avg_support                           33591              33591   \n",
       "weighted_avg_support                        33591              33591   \n",
       "\n",
       "                       loading_norm (max) loading_norm (mean)  \\\n",
       "accuracy                         0.735256            0.735584   \n",
       "macro_avg_precision              0.372508            0.379484   \n",
       "weighted_avg_precision           0.727086            0.727936   \n",
       "macro_avg_recall                 0.374043            0.375102   \n",
       "weighted_avg_recall              0.735256            0.735584   \n",
       "macro_avg_f1-score               0.366869            0.371542   \n",
       "weighted_avg_f1-score            0.728655            0.729529   \n",
       "macro_avg_support                   33591               33591   \n",
       "weighted_avg_support                33591               33591   \n",
       "\n",
       "                       loading_norm (mode) (0)  \n",
       "accuracy                              0.739155  \n",
       "macro_avg_precision                   0.369581  \n",
       "weighted_avg_precision                0.731316  \n",
       "macro_avg_recall                      0.370535  \n",
       "weighted_avg_recall                   0.739155  \n",
       "macro_avg_f1-score                    0.364748  \n",
       "weighted_avg_f1-score                 0.732912  \n",
       "macro_avg_support                        33311  \n",
       "weighted_avg_support                     33311  "
      ]
     },
     "execution_count": 92,
     "metadata": {},
     "output_type": "execute_result"
    }
   ],
   "source": [
    "# Training dataset mclass metrics\n",
    "test_load_metrics = get_load_metrics_df(iza_truth[iza_truth.b == 1], iza_preds[\"mclass\"], split=splits[1][\"test\"])\n",
    "test_load_metrics.to_csv(main_op_dir + \"/test_data_load_metrics.csv\")\n",
    "test_load_metrics"
   ]
  },
  {
   "cell_type": "code",
   "execution_count": 93,
   "metadata": {},
   "outputs": [],
   "source": [
    "heldout_truth['load_norm_class'] = heldout_truth[[f'load_norm_{i}' for i in range(47)]].idxmax(1)"
   ]
  },
  {
   "cell_type": "code",
   "execution_count": 94,
   "metadata": {},
   "outputs": [],
   "source": [
    "heldout_truth['load_norm_class'] = heldout_truth['load_norm_class'].apply(lambda x: int(x.split('_')[-1]))"
   ]
  },
  {
   "cell_type": "code",
   "execution_count": 95,
   "metadata": {},
   "outputs": [
    {
     "data": {
      "text/html": [
       "<div>\n",
       "<style scoped>\n",
       "    .dataframe tbody tr th:only-of-type {\n",
       "        vertical-align: middle;\n",
       "    }\n",
       "\n",
       "    .dataframe tbody tr th {\n",
       "        vertical-align: top;\n",
       "    }\n",
       "\n",
       "    .dataframe thead th {\n",
       "        text-align: right;\n",
       "    }\n",
       "</style>\n",
       "<table border=\"1\" class=\"dataframe\">\n",
       "  <thead>\n",
       "    <tr style=\"text-align: right;\">\n",
       "      <th></th>\n",
       "      <th>loading_norm (logits min)</th>\n",
       "      <th>loading_norm (logits max)</th>\n",
       "      <th>loading_norm (logits mean)</th>\n",
       "      <th>loading_norm (min)</th>\n",
       "      <th>loading_norm (max)</th>\n",
       "      <th>loading_norm (mean)</th>\n",
       "      <th>loading_norm (mode) (0)</th>\n",
       "    </tr>\n",
       "  </thead>\n",
       "  <tbody>\n",
       "    <tr>\n",
       "      <th>accuracy</th>\n",
       "      <td>0.683125</td>\n",
       "      <td>0.681366</td>\n",
       "      <td>0.685395</td>\n",
       "      <td>0.684322</td>\n",
       "      <td>0.685535</td>\n",
       "      <td>0.685201</td>\n",
       "      <td>0.690256</td>\n",
       "    </tr>\n",
       "    <tr>\n",
       "      <th>macro_avg_precision</th>\n",
       "      <td>0.233151</td>\n",
       "      <td>0.232343</td>\n",
       "      <td>0.239553</td>\n",
       "      <td>0.23375</td>\n",
       "      <td>0.238926</td>\n",
       "      <td>0.23896</td>\n",
       "      <td>0.241259</td>\n",
       "    </tr>\n",
       "    <tr>\n",
       "      <th>weighted_avg_precision</th>\n",
       "      <td>0.659928</td>\n",
       "      <td>0.659923</td>\n",
       "      <td>0.662088</td>\n",
       "      <td>0.661722</td>\n",
       "      <td>0.662201</td>\n",
       "      <td>0.661822</td>\n",
       "      <td>0.667079</td>\n",
       "    </tr>\n",
       "    <tr>\n",
       "      <th>macro_avg_recall</th>\n",
       "      <td>0.228517</td>\n",
       "      <td>0.236477</td>\n",
       "      <td>0.232309</td>\n",
       "      <td>0.23296</td>\n",
       "      <td>0.233273</td>\n",
       "      <td>0.231034</td>\n",
       "      <td>0.23266</td>\n",
       "    </tr>\n",
       "    <tr>\n",
       "      <th>weighted_avg_recall</th>\n",
       "      <td>0.683125</td>\n",
       "      <td>0.681366</td>\n",
       "      <td>0.685395</td>\n",
       "      <td>0.684322</td>\n",
       "      <td>0.685535</td>\n",
       "      <td>0.685201</td>\n",
       "      <td>0.690256</td>\n",
       "    </tr>\n",
       "    <tr>\n",
       "      <th>macro_avg_f1-score</th>\n",
       "      <td>0.222834</td>\n",
       "      <td>0.226794</td>\n",
       "      <td>0.226496</td>\n",
       "      <td>0.225472</td>\n",
       "      <td>0.226712</td>\n",
       "      <td>0.224876</td>\n",
       "      <td>0.226159</td>\n",
       "    </tr>\n",
       "    <tr>\n",
       "      <th>weighted_avg_f1-score</th>\n",
       "      <td>0.668536</td>\n",
       "      <td>0.666638</td>\n",
       "      <td>0.670168</td>\n",
       "      <td>0.669783</td>\n",
       "      <td>0.669887</td>\n",
       "      <td>0.66987</td>\n",
       "      <td>0.674924</td>\n",
       "    </tr>\n",
       "    <tr>\n",
       "      <th>macro_avg_support</th>\n",
       "      <td>56849</td>\n",
       "      <td>56849</td>\n",
       "      <td>56849</td>\n",
       "      <td>56849</td>\n",
       "      <td>56849</td>\n",
       "      <td>56849</td>\n",
       "      <td>56324</td>\n",
       "    </tr>\n",
       "    <tr>\n",
       "      <th>weighted_avg_support</th>\n",
       "      <td>56849</td>\n",
       "      <td>56849</td>\n",
       "      <td>56849</td>\n",
       "      <td>56849</td>\n",
       "      <td>56849</td>\n",
       "      <td>56849</td>\n",
       "      <td>56324</td>\n",
       "    </tr>\n",
       "  </tbody>\n",
       "</table>\n",
       "</div>"
      ],
      "text/plain": [
       "                       loading_norm (logits min) loading_norm (logits max)  \\\n",
       "accuracy                                0.683125                  0.681366   \n",
       "macro_avg_precision                     0.233151                  0.232343   \n",
       "weighted_avg_precision                  0.659928                  0.659923   \n",
       "macro_avg_recall                        0.228517                  0.236477   \n",
       "weighted_avg_recall                     0.683125                  0.681366   \n",
       "macro_avg_f1-score                      0.222834                  0.226794   \n",
       "weighted_avg_f1-score                   0.668536                  0.666638   \n",
       "macro_avg_support                          56849                     56849   \n",
       "weighted_avg_support                       56849                     56849   \n",
       "\n",
       "                       loading_norm (logits mean) loading_norm (min)  \\\n",
       "accuracy                                 0.685395           0.684322   \n",
       "macro_avg_precision                      0.239553            0.23375   \n",
       "weighted_avg_precision                   0.662088           0.661722   \n",
       "macro_avg_recall                         0.232309            0.23296   \n",
       "weighted_avg_recall                      0.685395           0.684322   \n",
       "macro_avg_f1-score                       0.226496           0.225472   \n",
       "weighted_avg_f1-score                    0.670168           0.669783   \n",
       "macro_avg_support                           56849              56849   \n",
       "weighted_avg_support                        56849              56849   \n",
       "\n",
       "                       loading_norm (max) loading_norm (mean)  \\\n",
       "accuracy                         0.685535            0.685201   \n",
       "macro_avg_precision              0.238926             0.23896   \n",
       "weighted_avg_precision           0.662201            0.661822   \n",
       "macro_avg_recall                 0.233273            0.231034   \n",
       "weighted_avg_recall              0.685535            0.685201   \n",
       "macro_avg_f1-score               0.226712            0.224876   \n",
       "weighted_avg_f1-score            0.669887             0.66987   \n",
       "macro_avg_support                   56849               56849   \n",
       "weighted_avg_support                56849               56849   \n",
       "\n",
       "                       loading_norm (mode) (0)  \n",
       "accuracy                              0.690256  \n",
       "macro_avg_precision                   0.241259  \n",
       "weighted_avg_precision                0.667079  \n",
       "macro_avg_recall                       0.23266  \n",
       "weighted_avg_recall                   0.690256  \n",
       "macro_avg_f1-score                    0.226159  \n",
       "weighted_avg_f1-score                 0.674924  \n",
       "macro_avg_support                        56324  \n",
       "weighted_avg_support                     56324  "
      ]
     },
     "execution_count": 95,
     "metadata": {},
     "output_type": "execute_result"
    }
   ],
   "source": [
    "# heldout dataset mclass metrics - monoquaternary\n",
    "heldout_load_metrics_mono = get_load_metrics_df(heldout_truth[heldout_truth.b == 1], heldout_preds['mclass'], charge=1)\n",
    "heldout_load_metrics_mono.to_csv(main_op_dir + \"/heldout_load_metrics_mono.csv\")\n",
    "heldout_load_metrics_mono"
   ]
  },
  {
   "cell_type": "code",
   "execution_count": 96,
   "metadata": {},
   "outputs": [
    {
     "data": {
      "text/html": [
       "<div>\n",
       "<style scoped>\n",
       "    .dataframe tbody tr th:only-of-type {\n",
       "        vertical-align: middle;\n",
       "    }\n",
       "\n",
       "    .dataframe tbody tr th {\n",
       "        vertical-align: top;\n",
       "    }\n",
       "\n",
       "    .dataframe thead th {\n",
       "        text-align: right;\n",
       "    }\n",
       "</style>\n",
       "<table border=\"1\" class=\"dataframe\">\n",
       "  <thead>\n",
       "    <tr style=\"text-align: right;\">\n",
       "      <th></th>\n",
       "      <th>loading_norm (logits min)</th>\n",
       "      <th>loading_norm (logits max)</th>\n",
       "      <th>loading_norm (logits mean)</th>\n",
       "      <th>loading_norm (min)</th>\n",
       "      <th>loading_norm (max)</th>\n",
       "      <th>loading_norm (mean)</th>\n",
       "      <th>loading_norm (mode) (0)</th>\n",
       "    </tr>\n",
       "  </thead>\n",
       "  <tbody>\n",
       "    <tr>\n",
       "      <th>accuracy</th>\n",
       "      <td>0.660152</td>\n",
       "      <td>0.660664</td>\n",
       "      <td>0.662968</td>\n",
       "      <td>0.663224</td>\n",
       "      <td>0.664163</td>\n",
       "      <td>0.662968</td>\n",
       "      <td>0.665465</td>\n",
       "    </tr>\n",
       "    <tr>\n",
       "      <th>macro_avg_precision</th>\n",
       "      <td>0.34964</td>\n",
       "      <td>0.34468</td>\n",
       "      <td>0.346808</td>\n",
       "      <td>0.357538</td>\n",
       "      <td>0.348908</td>\n",
       "      <td>0.348253</td>\n",
       "      <td>0.335851</td>\n",
       "    </tr>\n",
       "    <tr>\n",
       "      <th>weighted_avg_precision</th>\n",
       "      <td>0.661177</td>\n",
       "      <td>0.660067</td>\n",
       "      <td>0.662429</td>\n",
       "      <td>0.663226</td>\n",
       "      <td>0.663196</td>\n",
       "      <td>0.662386</td>\n",
       "      <td>0.664411</td>\n",
       "    </tr>\n",
       "    <tr>\n",
       "      <th>macro_avg_recall</th>\n",
       "      <td>0.358268</td>\n",
       "      <td>0.363619</td>\n",
       "      <td>0.36244</td>\n",
       "      <td>0.369216</td>\n",
       "      <td>0.358759</td>\n",
       "      <td>0.362101</td>\n",
       "      <td>0.352742</td>\n",
       "    </tr>\n",
       "    <tr>\n",
       "      <th>weighted_avg_recall</th>\n",
       "      <td>0.660152</td>\n",
       "      <td>0.660664</td>\n",
       "      <td>0.662968</td>\n",
       "      <td>0.663224</td>\n",
       "      <td>0.664163</td>\n",
       "      <td>0.662968</td>\n",
       "      <td>0.665465</td>\n",
       "    </tr>\n",
       "    <tr>\n",
       "      <th>macro_avg_f1-score</th>\n",
       "      <td>0.338585</td>\n",
       "      <td>0.34005</td>\n",
       "      <td>0.339533</td>\n",
       "      <td>0.349728</td>\n",
       "      <td>0.339008</td>\n",
       "      <td>0.34093</td>\n",
       "      <td>0.330329</td>\n",
       "    </tr>\n",
       "    <tr>\n",
       "      <th>weighted_avg_f1-score</th>\n",
       "      <td>0.657227</td>\n",
       "      <td>0.656399</td>\n",
       "      <td>0.659092</td>\n",
       "      <td>0.659575</td>\n",
       "      <td>0.660186</td>\n",
       "      <td>0.659174</td>\n",
       "      <td>0.661626</td>\n",
       "    </tr>\n",
       "    <tr>\n",
       "      <th>macro_avg_support</th>\n",
       "      <td>11717</td>\n",
       "      <td>11717</td>\n",
       "      <td>11717</td>\n",
       "      <td>11717</td>\n",
       "      <td>11717</td>\n",
       "      <td>11717</td>\n",
       "      <td>11646</td>\n",
       "    </tr>\n",
       "    <tr>\n",
       "      <th>weighted_avg_support</th>\n",
       "      <td>11717</td>\n",
       "      <td>11717</td>\n",
       "      <td>11717</td>\n",
       "      <td>11717</td>\n",
       "      <td>11717</td>\n",
       "      <td>11717</td>\n",
       "      <td>11646</td>\n",
       "    </tr>\n",
       "  </tbody>\n",
       "</table>\n",
       "</div>"
      ],
      "text/plain": [
       "                       loading_norm (logits min) loading_norm (logits max)  \\\n",
       "accuracy                                0.660152                  0.660664   \n",
       "macro_avg_precision                      0.34964                   0.34468   \n",
       "weighted_avg_precision                  0.661177                  0.660067   \n",
       "macro_avg_recall                        0.358268                  0.363619   \n",
       "weighted_avg_recall                     0.660152                  0.660664   \n",
       "macro_avg_f1-score                      0.338585                   0.34005   \n",
       "weighted_avg_f1-score                   0.657227                  0.656399   \n",
       "macro_avg_support                          11717                     11717   \n",
       "weighted_avg_support                       11717                     11717   \n",
       "\n",
       "                       loading_norm (logits mean) loading_norm (min)  \\\n",
       "accuracy                                 0.662968           0.663224   \n",
       "macro_avg_precision                      0.346808           0.357538   \n",
       "weighted_avg_precision                   0.662429           0.663226   \n",
       "macro_avg_recall                          0.36244           0.369216   \n",
       "weighted_avg_recall                      0.662968           0.663224   \n",
       "macro_avg_f1-score                       0.339533           0.349728   \n",
       "weighted_avg_f1-score                    0.659092           0.659575   \n",
       "macro_avg_support                           11717              11717   \n",
       "weighted_avg_support                        11717              11717   \n",
       "\n",
       "                       loading_norm (max) loading_norm (mean)  \\\n",
       "accuracy                         0.664163            0.662968   \n",
       "macro_avg_precision              0.348908            0.348253   \n",
       "weighted_avg_precision           0.663196            0.662386   \n",
       "macro_avg_recall                 0.358759            0.362101   \n",
       "weighted_avg_recall              0.664163            0.662968   \n",
       "macro_avg_f1-score               0.339008             0.34093   \n",
       "weighted_avg_f1-score            0.660186            0.659174   \n",
       "macro_avg_support                   11717               11717   \n",
       "weighted_avg_support                11717               11717   \n",
       "\n",
       "                       loading_norm (mode) (0)  \n",
       "accuracy                              0.665465  \n",
       "macro_avg_precision                   0.335851  \n",
       "weighted_avg_precision                0.664411  \n",
       "macro_avg_recall                      0.352742  \n",
       "weighted_avg_recall                   0.665465  \n",
       "macro_avg_f1-score                    0.330329  \n",
       "weighted_avg_f1-score                 0.661626  \n",
       "macro_avg_support                        11646  \n",
       "weighted_avg_support                     11646  "
      ]
     },
     "execution_count": 96,
     "metadata": {},
     "output_type": "execute_result"
    }
   ],
   "source": [
    "# heldout dataset mclass metrics - monoquaternary\n",
    "heldout_load_metrics_diq = get_load_metrics_df(heldout_truth[heldout_truth.b == 1], heldout_preds['mclass'], charge=2)\n",
    "heldout_load_metrics_diq.to_csv(main_op_dir + \"/heldout_load_metrics_diq.csv\")\n",
    "heldout_load_metrics_diq"
   ]
  },
  {
   "cell_type": "markdown",
   "metadata": {},
   "source": [
    "# Distribution and parity plots"
   ]
  },
  {
   "cell_type": "code",
   "execution_count": 97,
   "metadata": {},
   "outputs": [
    {
     "name": "stdout",
     "output_type": "stream",
     "text": [
      "RMSE 1.069\n"
     ]
    },
    {
     "data": {
      "image/png": "[encoded data removed]",
      "text/plain": [
       "<Figure size 368.504x283.465 with 2 Axes>"
      ]
     },
     "metadata": {
      "needs_background": "light"
     },
     "output_type": "display_data"
    }
   ],
   "source": [
    "figsize = np.array((13, 10)) * cm\n",
    "limits = dict(x=(-23, 2), y=(-23, 2))\n",
    "xticks = range(-25, 2, 5)\n",
    "yticks = range(-25, 2, 5)\n",
    "vmin = 1\n",
    "vmax = 100\n",
    "gridsize = get_gridsize(limits, 1)\n",
    "kwargs = dict(mincnt=1, cmap='viridis_r', vmin=vmin, vmax=vmax, gridsize=gridsize)\n",
    "\n",
    "x = iza_truth[iza_truth['SMILES'].isin(splits[1]['test'])]\n",
    "x = x.set_index(PAIR_COLS)['Binding (SiO2)']\n",
    "y = iza_preds['be'].set_index(PAIR_COLS)['BE (mean)']\n",
    "y = y.reindex(x.index)\n",
    "print(\"RMSE\", round(get_avg_batched_metrics(x, y, rmse), 3))\n",
    "\n",
    "fig, axs = plt.subplots(figsize=figsize)\n",
    "sc = axs.hexbin(x, y, **kwargs)\n",
    "axs = format_axs(axs, 15, 15, 1, \"True BE (kJ/ mol Si)\", \"$\\mu_{BE}$ (kJ/ mol Si)\", 15, 15, limits=limits, xticks=xticks, yticks=yticks)\n",
    "cb = get_cb(fig, sc, axs, \"Count\", ticks=range(0, 101, 20), linewidth=1, tickwidth=1, labelsize=15, labelpad=5)\n",
    "axs = draw_parity(axs, limits['x'], limits['y']);\n",
    "\n",
    "save_mpl_fig(fig, main_op_dir + \"/test_data_BE_mean_hex\", \".svg\")"
   ]
  },
  {
   "cell_type": "code",
   "execution_count": 98,
   "metadata": {},
   "outputs": [
    {
     "data": {
      "image/png": "[encoded data removed]",
      "text/plain": [
       "<Figure size 396.85x226.772 with 1 Axes>"
      ]
     },
     "metadata": {
      "needs_background": "light"
     },
     "output_type": "display_data"
    },
    {
     "data": {
      "image/png": "[encoded data removed]",
      "text/plain": [
       "<Figure size 396.85x226.772 with 1 Axes>"
      ]
     },
     "metadata": {
      "needs_background": "light"
     },
     "output_type": "display_data"
    }
   ],
   "source": [
    "figsize = np.array((14, 8)) * cm\n",
    "xticks = range(-25, 2, 5)\n",
    "kwargs = dict(edgecolor='k', linewidth=1, bins=np.linspace(-25, 1, 52), )\n",
    "colors = get_color_values(10, 'viridis')\n",
    "bbox_to_anchor = (0.3, 0.85)\n",
    "\n",
    "x = iza_truth[iza_truth['SMILES'].isin(splits[1]['test'])]\n",
    "x = x.set_index(PAIR_COLS)['Binding (SiO2)']\n",
    "\n",
    "fig, axs = plt.subplots(figsize=figsize)\n",
    "\n",
    "sc = axs.hist(x, label='Truth', color=colors[9], alpha=0.8, **kwargs)\n",
    "\n",
    "axs = format_axs(axs, 15, 15, 1, \"BE (kJ/ mol Si)\", \"Count\", 15, 15, xticks=xticks)\n",
    "axs.set_yscale('log')\n",
    "leg = get_legend( fig, bbox_to_anchor=bbox_to_anchor, fontsize=15, ncol=1, linewidth=1, edgecolor=\"k\", put_where=\"fig\",)\n",
    "axs.annotate(\"Test set\", xy=(0.01, 0.9), xycoords='axes fraction', fontsize=15, ha='left')\n",
    "\n",
    "save_mpl_fig(fig, main_op_dir + \"/training_truth_e_dist\", \".svg\")\n",
    "\n",
    "########################################################################\n",
    "\n",
    "y = iza_preds['be'].set_index(PAIR_COLS)['BE (mean)']\n",
    "y = y.reindex(x.index)\n",
    "\n",
    "z = iza_preds['energy'].set_index(PAIR_COLS)['Binding (SiO2) (mean)']\n",
    "z = z.reindex(x.index)\n",
    "\n",
    "fig, axs = plt.subplots(figsize=figsize)\n",
    "\n",
    "sc = axs.hist(z, label='Predicted E', color=colors[3], alpha=1.0, **kwargs)\n",
    "sc = axs.hist(y, label='Predicted BE', color=colors[7], alpha=0.8, **kwargs)\n",
    "\n",
    "axs = format_axs(axs, 15, 15, 1, \"BE (kJ/ mol Si)\", \"Count\", 15, 15, xticks=xticks)\n",
    "axs.set_yscale('log')\n",
    "leg = get_legend( fig, bbox_to_anchor=bbox_to_anchor, fontsize=15, ncol=1, linewidth=1, edgecolor=\"k\", put_where=\"fig\",)\n",
    "axs.annotate(\"Test set\", xy=(0.01, 0.9), xycoords='axes fraction', fontsize=15, ha='left')\n",
    "\n",
    "save_mpl_fig(fig, main_op_dir + \"/training_preds_e_dist\", \".svg\")"
   ]
  },
  {
   "cell_type": "code",
   "execution_count": 99,
   "metadata": {},
   "outputs": [
    {
     "data": {
      "image/png": "[encoded data removed]",
      "text/plain": [
       "<Figure size 396.85x283.465 with 1 Axes>"
      ]
     },
     "metadata": {
      "needs_background": "light"
     },
     "output_type": "display_data"
    },
    {
     "data": {
      "image/png": "[encoded data removed]",
      "text/plain": [
       "<Figure size 396.85x283.465 with 1 Axes>"
      ]
     },
     "metadata": {
      "needs_background": "light"
     },
     "output_type": "display_data"
    }
   ],
   "source": [
    "figsize = np.array((14, 10)) * cm\n",
    "bins= np.linspace(0.6, 1, 40)\n",
    "xticks=np.linspace(0.6, 1, 5)\n",
    "kwargs = dict(edgecolor='k', linewidth=1, bins=bins, alpha=0.8)\n",
    "colors = get_color_values(10, 'viridis')\n",
    "\n",
    "x = iza_test_ranks['test_spearman']\n",
    "\n",
    "fig, axs = plt.subplots(figsize=figsize)\n",
    "sc = axs.hist(x, label='Truth', color=colors[5], **kwargs)\n",
    "axs = format_axs(axs, 15, 15, 1, \"Spearman's rank correlation coefficient\", \"Count\", 15, 15, xticks=xticks)\n",
    "axs.set_yscale('log')\n",
    "axs.axvline(x=np.mean(x), color='k', linestyle='dotted', linewidth=2)\n",
    "\n",
    "save_mpl_fig(fig, main_op_dir + \"/test_data_spearman\", \".svg\")\n",
    "\n",
    "########################################################################\n",
    "\n",
    "x = iza_test_ranks['test_pearson']\n",
    "\n",
    "fig, axs = plt.subplots(figsize=figsize)\n",
    "sc = axs.hist(x, label='E only', color=colors[5], **kwargs)\n",
    "axs = format_axs(axs, 15, 15, 1, \"Pearson correlation coefficient\", \"Count\", 15, 15, xticks=xticks)\n",
    "axs.axvline(x=np.mean(x), color='k', linestyle='dotted', linewidth=2);\n",
    "\n",
    "save_mpl_fig(fig, main_op_dir + \"/test_data_pearson\", \".svg\")"
   ]
  },
  {
   "cell_type": "markdown",
   "metadata": {},
   "source": [
    "# Uncertainty plots\n",
    "- Here, we plot $V_{mol}-BE$ plots colored by the standard deviation of BE as a measure of uncertainty"
   ]
  },
  {
   "cell_type": "code",
   "execution_count": 100,
   "metadata": {},
   "outputs": [
    {
     "data": {
      "image/png": "[encoded data removed]",
      "text/plain": [
       "<Figure size 311.811x226.772 with 2 Axes>"
      ]
     },
     "metadata": {
      "needs_background": "light"
     },
     "output_type": "display_data"
    },
    {
     "data": {
      "image/png": "[encoded data removed]",
      "text/plain": [
       "<Figure size 311.811x226.772 with 2 Axes>"
      ]
     },
     "metadata": {
      "needs_background": "light"
     },
     "output_type": "display_data"
    }
   ],
   "source": [
    "figsize = np.array((11, 8)) * cm\n",
    "kwargs = dict(s=50, alpha=1.0, cmap='viridis_r')\n",
    "\n",
    "# getting test set\n",
    "t = iza_truth[iza_truth['SMILES'].isin(splits[1]['test'])]\n",
    "t = t.set_index(PAIR_COLS)['Binding (SiO2)']\n",
    "yy = iza_preds['be'].set_index(PAIR_COLS)\n",
    "yy = yy.reindex(t.index)\n",
    "\n",
    "# getting specific fw (1)\n",
    "fw = 'CHA'\n",
    "limits = dict(x=(0, 600), y=(-20, 2))\n",
    "xticks = range(0, 601, 200)\n",
    "yticks = range(-20, 2, 5)\n",
    "kwargs['vmin'] = 0\n",
    "kwargs['vmax'] = 3\n",
    "y = yy[yy.index.get_level_values(PAIR_COLS[0]) == fw]\n",
    "c = y['BE (std)']\n",
    "y = y['BE (mean)']\n",
    "x = iza_opriors.reindex(y.index.get_level_values(PAIR_COLS[1]))['mol_volume']\n",
    "\n",
    "fig, axs = plt.subplots(figsize=figsize)\n",
    "sc = axs.scatter(x, y, c=c, **kwargs)\n",
    "axs = format_axs(axs, 15, 15, 1, \"$V_{mol} \\; (\\AA^3)$\", \"$\\mu_{BE}$ (kJ/ mol Si)\", 15, 15, limits=limits, xticks=xticks, yticks=yticks)\n",
    "cb = get_cb(fig, sc, axs, \"$\\sigma_{BE}$ (kJ/ mol Si)\", ticks=range(0, 4, 1), linewidth=1, tickwidth=1, labelsize=15, labelpad=5)\n",
    "# annotate bottom right the fw \n",
    "axs.annotate(fw, xy=(0.95, 0.05), xycoords='axes fraction', fontsize=20, ha='right', va='bottom')\n",
    "\n",
    "save_mpl_fig(fig, main_op_dir + f\"/be_vol_unc_{fw}\", \".svg\")\n",
    "\n",
    "########################################################################\n",
    "\n",
    "# getting specific fw (2)\n",
    "fw = 'LTA'\n",
    "limits = dict(x=(0, 600), y=(-13, 0))\n",
    "xticks = range(0, 601, 200)\n",
    "yticks = range(-20, 1, 5)\n",
    "kwargs['vmin'] = 0\n",
    "kwargs['vmax'] = 2\n",
    "y = yy[yy.index.get_level_values(PAIR_COLS[0]) == fw]\n",
    "c = y['BE (std)']\n",
    "y = y['BE (mean)']\n",
    "x = iza_opriors.reindex(y.index.get_level_values(PAIR_COLS[1]))['mol_volume']\n",
    "\n",
    "fig, axs = plt.subplots(figsize=figsize)\n",
    "sc = axs.scatter(x, y, c=c, **kwargs)\n",
    "axs = format_axs(axs, 15, 15, 1, \"$V_{mol} \\; (\\AA^3)$\", \"$\\mu_{BE}$ (kJ/ mol Si)\", 15, 15, limits=limits, xticks=xticks, yticks=yticks)\n",
    "cb = get_cb(fig, sc, axs, \"$\\sigma_{BE}$ (kJ/ mol Si)\", ticks=np.linspace(0, 2, 5), linewidth=1, tickwidth=1, labelsize=15, labelpad=5)\n",
    "# annotate bottom right the fw \n",
    "axs.annotate(fw, xy=(0.95, 0.05), xycoords='axes fraction', fontsize=20, ha='right', va='bottom');\n",
    "\n",
    "save_mpl_fig(fig, main_op_dir + f\"/be_vol_unc_{fw}\", \".svg\")"
   ]
  },
  {
   "cell_type": "markdown",
   "metadata": {},
   "source": [
    "# RMSE-uncertainty plots\n",
    "- We compare the correlation between error and uncertainty using 3 sets of molecules that are increasingly out-of-distribution (OOD): test set molecules, a randomly selected set of hypothetical monoquaternary molecules, and a randomly selected set of hypothetical diquaternary molecules.\n",
    "- The ensembling method used here is the same as the ensembling method used for screening."
   ]
  },
  {
   "cell_type": "code",
   "execution_count": 101,
   "metadata": {},
   "outputs": [],
   "source": [
    "# reverse order\n",
    "cols = rmse_unc.columns[::-1]"
   ]
  },
  {
   "cell_type": "code",
   "execution_count": 102,
   "metadata": {},
   "outputs": [
    {
     "data": {
      "image/png": "[encoded data removed]",
      "text/plain": [
       "<Figure size 226.772x226.772 with 1 Axes>"
      ]
     },
     "metadata": {
      "needs_background": "light"
     },
     "output_type": "display_data"
    },
    {
     "data": {
      "image/png": "[encoded data removed]",
      "text/plain": [
       "<Figure size 226.772x226.772 with 1 Axes>"
      ]
     },
     "metadata": {
      "needs_background": "light"
     },
     "output_type": "display_data"
    }
   ],
   "source": [
    "figsize = np.array((8, 8)) * cm\n",
    "kwargs = dict(alpha=1.0, markersize=10,)\n",
    "colors = get_color_values(7, 'viridis_r')\n",
    "markers = ['X', 'o', '^', 's', 'o', '^', 's']\n",
    "xticks = ['Test', 'Hyp. 1+', 'Hyp. 2+']\n",
    "labels = ['Very small $D_{LIS}$', 'Small $D_{LIS}$', 'Medium $D_{LIS}$', 'Large $D_{LIS}$', 'Small ring', 'Medium ring', 'Large ring']\n",
    "labels = ['Large ring', 'Medium ring', 'Small ring','Large $D_{LIS}$','Medium $D_{LIS}$', 'Small $D_{LIS}$', 'Very small $D_{LIS}$',]\n",
    "# Plot RMSE\n",
    "\n",
    "fig, axs = plt.subplots(figsize=figsize)\n",
    "for i, c in enumerate(cols):\n",
    "    x = rmse_unc[c].loc[['test_rmse', 'mono_rmse', 'diq_rmse']]\n",
    "    axs.plot(x, color=colors[i], marker=markers[i], label=labels[i], **kwargs)\n",
    "axs = format_axs(axs, 15, 15, 1, \"Molecular set\", \"BE RMSE (kJ/ mol Si)\", 15, 15)\n",
    "axs.set_xticklabels(xticks)\n",
    "axs.set_ylim(-0.2, 3)\n",
    "# leg = get_legend(fig, bbox_to_anchor=bbox_to_anchor, fontsize=15, ncol=1, linewidth=1, edgecolor=\"k\", put_where=\"fig\",)\n",
    "\n",
    "save_mpl_fig(fig, main_op_dir + \"/rmse_mol\", \".svg\")\n",
    "\n",
    "########################################################################\n",
    "\n",
    "# Plot Uncertainty\n",
    "\n",
    "bbox_to_anchor = (1.4, 0.9)\n",
    "\n",
    "fig, axs = plt.subplots(figsize=figsize)\n",
    "for i, c in enumerate(cols):\n",
    "    x = rmse_unc[c].loc[['test_unc', 'mono_unc', 'diq_unc']]\n",
    "    axs.plot(x, color=colors[i], marker=markers[i], label=labels[i], **kwargs)\n",
    "axs = format_axs(axs, 15, 15, 1, \"Molecular set\", \"$\\sigma_{BE}$ (kJ/ mol Si)\", 15, 15, yticks=[0, 0.1, 0.2, 0.3, 0.4, 0.5])\n",
    "axs.set_xticklabels(xticks)\n",
    "leg = get_legend(fig, bbox_to_anchor=bbox_to_anchor, fontsize=15, ncol=1, linewidth=1, edgecolor=\"k\", put_where=\"fig\",)\n",
    "\n",
    "save_mpl_fig(fig, main_op_dir + \"/unc_mol\", \".svg\")"
   ]
  },
  {
   "cell_type": "code",
   "execution_count": null,
   "metadata": {},
   "outputs": [
    {
     "data": {
      "image/png": "[encoded data removed]",
      "text/plain": [
       "<Figure size 283.465x283.465 with 1 Axes>"
      ]
     },
     "metadata": {},
     "output_type": "display_data"
    },
    {
     "data": {
      "image/png": "[encoded data removed]",
      "text/plain": [
       "<Figure size 283.465x283.465 with 1 Axes>"
      ]
     },
     "metadata": {},
     "output_type": "display_data"
    }
   ],
   "source": [
    "# Plot correlation plots between accuracy and uncertainty for different pore sizes \n",
    "\n",
    "figsize = np.array((10, 10)) * cm\n",
    "kwargs = dict(alpha=1.0, markersize=8, linewidth=1.0, markeredgewidth=0.3, markeredgecolor='k')\n",
    "bbox_to_anchor = (1.2, 0.7)\n",
    "\n",
    "fig, axs = plt.subplots(figsize=figsize)\n",
    "for i, c in enumerate(cols):\n",
    "    if 'ring' in c:\n",
    "        x = rmse_unc[c].loc[['test_rmse', 'mono_rmse', 'diq_rmse']]\n",
    "        y = rmse_unc[c].loc[['test_unc', 'mono_unc', 'diq_unc']]\n",
    "        axs.plot(x, y, color=colors[i], marker=markers[i], label=labels[i], **kwargs)\n",
    "axs = format_axs(axs, 15, 15, 1, \"BE RMSE (kJ/ mol Si)\", \"$\\sigma_{BE}$ (kJ/ mol Si)\", 15, 15)\n",
    "axs.set_ylim(-0.05, 0.5)\n",
    "axs.set_xlim(-0.2, 3)\n",
    "leg = get_legend(fig, bbox_to_anchor=bbox_to_anchor, fontsize=15, ncol=1, linewidth=1, edgecolor=\"k\", put_where=\"fig\",)\n",
    "\n",
    "fig, axs = plt.subplots(figsize=figsize)\n",
    "for i, c in enumerate(cols):\n",
    "    if not 'ring' in c:\n",
    "        x = rmse_unc[c].loc[['test_rmse', 'mono_rmse', 'diq_rmse']]\n",
    "        y = rmse_unc[c].loc[['test_unc', 'mono_unc', 'diq_unc']]\n",
    "        axs.plot(x, y, color=colors[i], marker=markers[i], label=labels[i], **kwargs)\n",
    "axs = format_axs(axs, 15, 15, 1, \"BE RMSE (kJ/ mol Si)\", \"$\\sigma_{BE}$ (kJ/ mol Si)\", 15, 15)\n",
    "axs.set_ylim(-0.05, 0.5)\n",
    "axs.set_xlim(-0.2, 3)\n",
    "leg = get_legend(fig, bbox_to_anchor=bbox_to_anchor, fontsize=15, ncol=1, linewidth=1, edgecolor=\"k\", put_where=\"fig\",)"
   ]
  },
  {
   "cell_type": "code",
   "execution_count": 103,
   "metadata": {},
   "outputs": [],
   "source": [
    "# plot PCA plot \n",
    "\n",
    "scaler = StandardScaler()\n",
    "pca = PCA(n_components=2)\n",
    "\n",
    "# get the features\n",
    "s1 = iza_opriors.loc[np.concatenate([splits[1]['train'], splits[1]['val']])][ofeatures]\n",
    "s2 = iza_opriors.loc[splits[1]['test']][ofeatures]\n",
    "\n",
    "heldout_mono_smiles = list(set(heldout_truth[heldout_truth.charge == 1]['SMILES']))\n",
    "heldout_diq_smiles = list(set(heldout_truth[heldout_truth.charge == 2]['SMILES']))\n",
    "s3 = heldout_opriors.loc[heldout_mono_smiles][ofeatures]\n",
    "s4 = heldout_opriors.loc[heldout_diq_smiles][ofeatures]\n",
    "\n",
    "s1_scaled = scaler.fit_transform(s1)\n",
    "s2_scaled = scaler.transform(s2)\n",
    "s3_scaled = scaler.transform(s3)\n",
    "s4_scaled = scaler.transform(s4)\n",
    "\n",
    "pca1 = pca.fit_transform(s1_scaled)\n",
    "pca2 = pca.transform(s2_scaled)\n",
    "pca3 = pca.transform(s3_scaled)\n",
    "pca4 = pca.transform(s4_scaled)"
   ]
  },
  {
   "cell_type": "code",
   "execution_count": 104,
   "metadata": {},
   "outputs": [
    {
     "data": {
      "image/png": "[encoded data removed]",
      "text/plain": [
       "<Figure size 226.772x226.772 with 1 Axes>"
      ]
     },
     "metadata": {
      "needs_background": "light"
     },
     "output_type": "display_data"
    },
    {
     "data": {
      "image/png": "[encoded data removed]",
      "text/plain": [
       "<Figure size 226.772x226.772 with 1 Axes>"
      ]
     },
     "metadata": {
      "needs_background": "light"
     },
     "output_type": "display_data"
    },
    {
     "data": {
      "image/png": "[encoded data removed]",
      "text/plain": [
       "<Figure size 226.772x226.772 with 1 Axes>"
      ]
     },
     "metadata": {
      "needs_background": "light"
     },
     "output_type": "display_data"
    },
    {
     "data": {
      "image/png": "[encoded data removed]",
      "text/plain": [
       "<Figure size 283.465x226.772 with 2 Axes>"
      ]
     },
     "metadata": {
      "needs_background": "light"
     },
     "output_type": "display_data"
    }
   ],
   "source": [
    "figsize = np.array((8, 8)) * cm\n",
    "limits = dict(x=(-10, 30), y=(-12, 12))\n",
    "xticks = range(limits['x'][0], limits['x'][1]+1, 10)\n",
    "yticks = range(limits['y'][0], limits['y'][1]+1, 4)\n",
    "vmin = 0\n",
    "vmax = 40\n",
    "gridsize = get_gridsize(limits, 1)\n",
    "kwargs = dict(mincnt=1, cmap='viridis_r', vmin=vmin, vmax=vmax, gridsize=gridsize)\n",
    "labels = ['Train+Validation', 'Test', 'Hyp. 1+', 'Hyp. 2+']\n",
    "file_labels = ['train_val', 'test', 'hyp_mono', 'hyp_diq']\n",
    "\n",
    "for i, pc in enumerate([pca1, pca2, pca3, pca4]):\n",
    "    if i == 3:\n",
    "        fig, axs = plt.subplots(figsize=np.array((10, 8)) * cm)\n",
    "    else: \n",
    "        fig, axs = plt.subplots(figsize=figsize)\n",
    "\n",
    "    # add a grid \n",
    "    axs.grid(linewidth=0.5, alpha=0.7, )\n",
    "    axs.set_axisbelow(True)\n",
    "\n",
    "    sc = axs.hexbin(pc[:, 0], pc[:, 1], **kwargs)\n",
    "    axs = format_axs(axs, 15, 15, 1, \"PCA 1\", \"PCA 2\", 15, 15, limits=limits, xticks=xticks, yticks=yticks)\n",
    "\n",
    "    if i == 3:\n",
    "        cb = get_cb(fig, sc, axs, \"Count\", ticks=range(vmin, vmax+1, 10), linewidth=1, tickwidth=1, labelsize=15, labelpad=5)\n",
    "\n",
    "    # annotate \n",
    "    axs.annotate(labels[i], xy=(0.5, 1.12), xycoords='axes fraction', fontsize=20, ha='center', va='top')\n",
    "\n",
    "    save_mpl_fig(fig, main_op_dir + f\"/pca_{file_labels[i]}\", \".svg\")"
   ]
  }
 ],
 "metadata": {
  "kernelspec": {
   "display_name": "ntk",
   "language": "python",
   "name": "python3"
  },
  "language_info": {
   "codemirror_mode": {
    "name": "ipython",
    "version": 3
   },
   "file_extension": ".py",
   "mimetype": "text/x-python",
   "name": "python",
   "nbconvert_exporter": "python",
   "pygments_lexer": "ipython3",
   "version": "3.8.12"
  }
 },
 "nbformat": 4,
 "nbformat_minor": 2
}
